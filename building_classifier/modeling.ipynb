{
 "cells": [
  {
   "cell_type": "markdown",
   "metadata": {},
   "source": [
    "# Overview\n",
    "\n",
    "In this notebook, the objective is to improve upon the baseline model as much as possible. To do this, many untuned models will be tried to find the one that performs the best. From there, the best performing model will be tuned to optimize its performance. Here's what was done:\n",
    "\n",
    "1. [Imports](#Imports)\n",
    "2. [Data Prep](#Data-Prep)  \n",
    "    a. [TF-IDF](#Unigram-TF-IDF-Vectorizer)  \n",
    "    b. [Doc2Vec](#Doc2Vec)  \n",
    "3. [Choosing Best Model](#Choosing-Best-Model)\n",
    "4. [Tuning Best Model](#TF-IDF-Logistic-Regression-Parameter-Tuning)\n",
    "5. [Pickling Best Model](#Pickling-Best-Model)"
   ]
  },
  {
   "cell_type": "markdown",
   "metadata": {},
   "source": [
    "# Imports"
   ]
  },
  {
   "cell_type": "code",
   "execution_count": 1,
   "metadata": {
    "ExecuteTime": {
     "end_time": "2020-12-29T14:52:47.012478Z",
     "start_time": "2020-12-29T14:52:38.489211Z"
    }
   },
   "outputs": [],
   "source": [
    "# All necessary modules and packages\n",
    "from sklearn.feature_extraction.text import CountVectorizer\n",
    "from sklearn.metrics import classification_report, plot_confusion_matrix\n",
    "from sklearn.ensemble import RandomForestClassifier\n",
    "from sklearn.naive_bayes import MultinomialNB\n",
    "from sklearn.naive_bayes import ComplementNB\n",
    "from sklearn.naive_bayes import BernoulliNB\n",
    "from sklearn.neighbors import KNeighborsClassifier\n",
    "from sklearn.linear_model import LogisticRegression\n",
    "from sklearn import svm\n",
    "from sklearn.model_selection import train_test_split\n",
    "from sklearn.model_selection import GridSearchCV\n",
    "from sklearn.model_selection import RandomizedSearchCV\n",
    "from sklearn.feature_extraction.text import TfidfVectorizer\n",
    "from sklearn.feature_extraction.text import TfidfTransformer\n",
    "from sklearn.metrics import recall_score, accuracy_score, f1_score\n",
    "from sklearn.pipeline import Pipeline\n",
    "from sklearn.decomposition import PCA\n",
    "from xgboost import XGBClassifier\n",
    "\n",
    "import gensim\n",
    "from gensim.models.doc2vec import Doc2Vec, TaggedDocument\n",
    "\n",
    "import seaborn as sns\n",
    "import matplotlib.pyplot as plt\n",
    "import pandas as pd\n",
    "import warnings\n",
    "%matplotlib inline\n",
    "warnings.filterwarnings(\"ignore\")\n",
    "pd.set_option('display.max_columns', 1000)\n",
    "\n",
    "# Reading in data\n",
    "data = pd.read_csv('./data_collection/prepared_twitter_sentiment_data.csv', index_col=0)\n",
    "# Drop 31 rows with missing message column\n",
    "data.dropna(inplace=True)\n",
    "# Reassigning target variable names to remove negative\n",
    "data.sentiment = data.sentiment.apply(lambda x: 'anti' if x == -1 else x)\n",
    "data.sentiment = data.sentiment.apply(lambda x: 'neutral' if x == 0 else x)\n",
    "data.sentiment = data.sentiment.apply(lambda x: 'man' if x == 1 else x)\n",
    "data.sentiment = data.sentiment.apply(lambda x: 'news' if x == 2 else x)"
   ]
  },
  {
   "cell_type": "markdown",
   "metadata": {},
   "source": [
    "# Data Prep"
   ]
  },
  {
   "cell_type": "markdown",
   "metadata": {},
   "source": [
    "## Unigram TF-IDF Vectorizer"
   ]
  },
  {
   "cell_type": "code",
   "execution_count": 5,
   "metadata": {
    "ExecuteTime": {
     "end_time": "2020-12-29T14:52:55.086912Z",
     "start_time": "2020-12-29T14:52:55.056659Z"
    }
   },
   "outputs": [],
   "source": [
    "X = data.drop(columns = 'sentiment')\n",
    "y = data.sentiment\n",
    "\n",
    "X_train, X_test, y_train, y_test = train_test_split(X, \n",
    "                                                    y, \n",
    "                                                    test_size=0.20, \n",
    "                                                    random_state=1)"
   ]
  },
  {
   "cell_type": "code",
   "execution_count": 6,
   "metadata": {
    "ExecuteTime": {
     "end_time": "2020-12-29T14:52:57.180444Z",
     "start_time": "2020-12-29T14:52:56.689232Z"
    }
   },
   "outputs": [],
   "source": [
    "# Instantiate vectorizer\n",
    "tfidf = TfidfVectorizer(ngram_range= (1,1))\n",
    "# Fit to training data\n",
    "tfidf_train = tfidf.fit_transform(X_train.message)\n",
    "# Transform test data\n",
    "tfidf_test = tfidf.transform(X_test.message)"
   ]
  },
  {
   "cell_type": "code",
   "execution_count": 7,
   "metadata": {
    "ExecuteTime": {
     "end_time": "2020-12-29T14:52:58.673295Z",
     "start_time": "2020-12-29T14:52:57.784416Z"
    }
   },
   "outputs": [],
   "source": [
    "# Convert vectors to dataframe\n",
    "tfidf_train_df = pd.DataFrame.sparse.from_spmatrix(\n",
    "    tfidf_train, columns=tfidf.get_feature_names())\n",
    "tfidf_test_df = pd.DataFrame.sparse.from_spmatrix(\n",
    "    tfidf_test, columns=tfidf.get_feature_names())"
   ]
  },
  {
   "cell_type": "markdown",
   "metadata": {},
   "source": [
    "## Adding Engineered Features"
   ]
  },
  {
   "cell_type": "code",
   "execution_count": 8,
   "metadata": {
    "ExecuteTime": {
     "end_time": "2020-12-22T19:11:22.473526Z",
     "start_time": "2020-12-22T19:11:22.463747Z"
    }
   },
   "outputs": [],
   "source": [
    "# Extracting just features from dataframe\n",
    "tfidf_train_features = X_train.drop(columns='message')\n",
    "tfidf_test_features = X_test.drop(columns='message')\n",
    "\n",
    "# Reset index to match tfidf dataframe\n",
    "tfidf_train_features.reset_index(drop=True, inplace=True)\n",
    "tfidf_test_features.reset_index(drop=True, inplace=True)"
   ]
  },
  {
   "cell_type": "code",
   "execution_count": 9,
   "metadata": {
    "ExecuteTime": {
     "end_time": "2020-12-22T19:11:34.237940Z",
     "start_time": "2020-12-22T19:11:27.865640Z"
    }
   },
   "outputs": [],
   "source": [
    "# Combining tfidf with custom features\n",
    "tfidf_train_featured = tfidf_train_df.join(tfidf_train_features, how='outer')\n",
    "tfidf_test_featured = tfidf_test_df.join(tfidf_test_features, how='outer')"
   ]
  },
  {
   "cell_type": "markdown",
   "metadata": {},
   "source": [
    "## Doc2Vec"
   ]
  },
  {
   "cell_type": "code",
   "execution_count": 12,
   "metadata": {
    "ExecuteTime": {
     "end_time": "2020-12-18T21:24:23.629023Z",
     "start_time": "2020-12-18T21:24:23.592672Z"
    }
   },
   "outputs": [],
   "source": [
    "# Performing train test split including target variable\n",
    "train, test = train_test_split(data, test_size=0.2, random_state=42)"
   ]
  },
  {
   "cell_type": "code",
   "execution_count": 13,
   "metadata": {
    "ExecuteTime": {
     "end_time": "2020-12-18T21:24:30.073494Z",
     "start_time": "2020-12-18T21:24:30.069774Z"
    }
   },
   "outputs": [],
   "source": [
    "# Separating target variables from train and test\n",
    "y_train_doc = train.sentiment\n",
    "y_test_doc = test.sentiment"
   ]
  },
  {
   "cell_type": "code",
   "execution_count": 14,
   "metadata": {
    "ExecuteTime": {
     "end_time": "2020-12-18T21:24:34.799327Z",
     "start_time": "2020-12-18T21:24:33.722909Z"
    }
   },
   "outputs": [],
   "source": [
    "# Tokenizing and tagging each observation message column\n",
    "train_docs = train.apply(lambda x: TaggedDocument(words=x.message.split(), tags=[x.sentiment]), axis=1)"
   ]
  },
  {
   "cell_type": "code",
   "execution_count": 15,
   "metadata": {
    "ExecuteTime": {
     "end_time": "2020-12-18T21:24:39.018554Z",
     "start_time": "2020-12-18T21:24:38.955466Z"
    }
   },
   "outputs": [],
   "source": [
    "# Tokenizing train and test data\n",
    "train_data = [tweet.split() for tweet in train['message']]\n",
    "test_data = [tweet.split() for tweet in test['message']]"
   ]
  },
  {
   "cell_type": "code",
   "execution_count": 16,
   "metadata": {
    "ExecuteTime": {
     "end_time": "2020-12-18T21:27:36.892996Z",
     "start_time": "2020-12-18T21:24:42.501899Z"
    }
   },
   "outputs": [
    {
     "name": "stdout",
     "output_type": "stream",
     "text": [
      "CPU times: user 3min 5s, sys: 37.6 s, total: 3min 43s\n",
      "Wall time: 2min 54s\n"
     ]
    }
   ],
   "source": [
    "%%time\n",
    "\n",
    "# training Doc2Vec\n",
    "model = Doc2Vec(vector_size=10, \n",
    "                alpha=0.025, \n",
    "                min_count=5,\n",
    "                epochs=100)\n",
    "\n",
    "model.build_vocab(train_docs)\n",
    "model.train(train_docs, \n",
    "            total_examples=model.corpus_count, \n",
    "            epochs=model.epochs)"
   ]
  },
  {
   "cell_type": "code",
   "execution_count": 17,
   "metadata": {
    "ExecuteTime": {
     "end_time": "2020-12-18T21:31:30.482111Z",
     "start_time": "2020-12-18T21:28:53.296984Z"
    },
    "scrolled": true
   },
   "outputs": [
    {
     "name": "stdout",
     "output_type": "stream",
     "text": [
      "CPU times: user 2min 27s, sys: 1.58 s, total: 2min 28s\n",
      "Wall time: 2min 37s\n"
     ]
    }
   ],
   "source": [
    "%%time\n",
    "\n",
    "# infer in multiple steps to get a stable representation \n",
    "train_vecs = [model.infer_vector(words, epochs=100) \\\n",
    "              for words in train_data]\n",
    "test_vecs = [model.infer_vector(words, epochs=100) \\\n",
    "             for words in test_data]"
   ]
  },
  {
   "cell_type": "code",
   "execution_count": 18,
   "metadata": {
    "ExecuteTime": {
     "end_time": "2020-12-18T21:32:01.131816Z",
     "start_time": "2020-12-18T21:32:00.937203Z"
    }
   },
   "outputs": [
    {
     "name": "stdout",
     "output_type": "stream",
     "text": [
      "CPU times: user 139 ms, sys: 10.5 ms, total: 150 ms\n",
      "Wall time: 182 ms\n"
     ]
    }
   ],
   "source": [
    "%%time\n",
    "\n",
    "# convert both sets to dataframe\n",
    "doc_train_df = pd.DataFrame(train_vecs, columns=[\n",
    "    f'docvec_{i}' for i in range(1,11)\n",
    "])\n",
    "\n",
    "doc_test_df = pd.DataFrame(test_vecs, columns=[\n",
    "    f'docvec_{i}' for i in range(1,11)\n",
    "])"
   ]
  },
  {
   "cell_type": "markdown",
   "metadata": {},
   "source": [
    "### Adding Engineered Features"
   ]
  },
  {
   "cell_type": "code",
   "execution_count": 19,
   "metadata": {
    "ExecuteTime": {
     "end_time": "2020-12-18T21:32:07.902488Z",
     "start_time": "2020-12-18T21:32:07.892421Z"
    }
   },
   "outputs": [],
   "source": [
    "# Extracting just features from dataframe\n",
    "train_features = train.drop(columns=['sentiment','message'])\n",
    "test_features = test.drop(columns=['sentiment','message'])\n",
    "\n",
    "# Reset index to match doc2vec dataframe\n",
    "train_features.reset_index(drop=True, inplace=True)\n",
    "test_features.reset_index(drop=True, inplace=True)"
   ]
  },
  {
   "cell_type": "code",
   "execution_count": 20,
   "metadata": {
    "ExecuteTime": {
     "end_time": "2020-12-18T21:32:12.918470Z",
     "start_time": "2020-12-18T21:32:12.905306Z"
    }
   },
   "outputs": [],
   "source": [
    "# Combining Doc2Vec with custom features\n",
    "doc_train_featured = doc_train_df.join(train_features, how='outer')\n",
    "doc_test_featured = doc_test_df.join(test_features, how='outer')"
   ]
  },
  {
   "cell_type": "markdown",
   "metadata": {},
   "source": [
    "# Choosing Best Model"
   ]
  },
  {
   "cell_type": "markdown",
   "metadata": {},
   "source": [
    "## Unigram TF-IDF Vectorizer"
   ]
  },
  {
   "cell_type": "markdown",
   "metadata": {},
   "source": [
    "### Without Features Added"
   ]
  },
  {
   "cell_type": "markdown",
   "metadata": {},
   "source": [
    "#### Random Forest"
   ]
  },
  {
   "cell_type": "code",
   "execution_count": 93,
   "metadata": {
    "ExecuteTime": {
     "end_time": "2020-12-18T20:29:33.755450Z",
     "start_time": "2020-12-18T20:28:17.521171Z"
    }
   },
   "outputs": [
    {
     "name": "stdout",
     "output_type": "stream",
     "text": [
      "              precision    recall  f1-score   support\n",
      "\n",
      "        anti       0.78      0.32      0.45       823\n",
      "         man       0.68      0.89      0.77      4526\n",
      "     neutral       0.59      0.37      0.46      1549\n",
      "        news       0.75      0.60      0.67      1885\n",
      "\n",
      "    accuracy                           0.68      8783\n",
      "   macro avg       0.70      0.55      0.59      8783\n",
      "weighted avg       0.69      0.68      0.66      8783\n",
      "\n"
     ]
    }
   ],
   "source": [
    "# Instantiate Classifier\n",
    "rf_tfidf = RandomForestClassifier()\n",
    "# Fit to training data\n",
    "rf_tfidf.fit(tfidf_train_df, y_train)\n",
    "# Predict on testing data\n",
    "rf_tfidf_preds = rf_tfidf.predict(tfidf_test_df)\n",
    "# Evaluating with classification report\n",
    "print(classification_report(y_test, rf_tfidf_preds))"
   ]
  },
  {
   "cell_type": "markdown",
   "metadata": {},
   "source": [
    "#### Logistic Regression"
   ]
  },
  {
   "cell_type": "code",
   "execution_count": 8,
   "metadata": {
    "ExecuteTime": {
     "end_time": "2020-12-18T20:57:00.794537Z",
     "start_time": "2020-12-18T20:56:55.400806Z"
    }
   },
   "outputs": [
    {
     "name": "stdout",
     "output_type": "stream",
     "text": [
      "              precision    recall  f1-score   support\n",
      "\n",
      "        anti       0.73      0.41      0.52       823\n",
      "         man       0.71      0.87      0.78      4526\n",
      "     neutral       0.63      0.43      0.51      1549\n",
      "        news       0.73      0.66      0.69      1885\n",
      "\n",
      "    accuracy                           0.70      8783\n",
      "   macro avg       0.70      0.59      0.63      8783\n",
      "weighted avg       0.70      0.70      0.69      8783\n",
      "\n"
     ]
    }
   ],
   "source": [
    "# Instantiate Classifier\n",
    "lr_tfidf = LogisticRegression()\n",
    "# Fit to training data\n",
    "lr_tfidf.fit(tfidf_train_df, y_train)\n",
    "# Predict on testing data\n",
    "lr_tfidf_preds = lr_tfidf.predict(tfidf_test_df)\n",
    "# Evaluating with classification report\n",
    "print(classification_report(y_test, lr_tfidf_preds))"
   ]
  },
  {
   "cell_type": "markdown",
   "metadata": {},
   "source": [
    "#### Multinomial Naive Bayes"
   ]
  },
  {
   "cell_type": "code",
   "execution_count": 10,
   "metadata": {
    "ExecuteTime": {
     "end_time": "2020-12-18T22:12:05.142767Z",
     "start_time": "2020-12-18T22:12:03.012073Z"
    }
   },
   "outputs": [
    {
     "name": "stdout",
     "output_type": "stream",
     "text": [
      "              precision    recall  f1-score   support\n",
      "\n",
      "        anti       0.91      0.06      0.12       823\n",
      "         man       0.58      0.98      0.73      4526\n",
      "     neutral       0.84      0.08      0.15      1549\n",
      "        news       0.82      0.39      0.53      1885\n",
      "\n",
      "    accuracy                           0.61      8783\n",
      "   macro avg       0.79      0.38      0.38      8783\n",
      "weighted avg       0.71      0.61      0.52      8783\n",
      "\n"
     ]
    }
   ],
   "source": [
    "# Instantiate Classifier\n",
    "mnb_tfidf = MultinomialNB()\n",
    "# Fit to training data\n",
    "mnb_tfidf.fit(tfidf_train_df, y_train)\n",
    "# Predict on testing data\n",
    "mnb_tfidf_preds = mnb_tfidf.predict(tfidf_test_df)\n",
    "# Evaluating with classification report\n",
    "print(classification_report(y_test, mnb_tfidf_preds))"
   ]
  },
  {
   "cell_type": "markdown",
   "metadata": {},
   "source": [
    "#### Complement Naive Bayes"
   ]
  },
  {
   "cell_type": "code",
   "execution_count": 99,
   "metadata": {
    "ExecuteTime": {
     "end_time": "2020-12-18T20:36:10.206650Z",
     "start_time": "2020-12-18T20:36:07.852352Z"
    }
   },
   "outputs": [
    {
     "name": "stdout",
     "output_type": "stream",
     "text": [
      "              precision    recall  f1-score   support\n",
      "\n",
      "        anti       0.57      0.47      0.51       823\n",
      "         man       0.73      0.80      0.76      4526\n",
      "     neutral       0.60      0.36      0.45      1549\n",
      "        news       0.63      0.73      0.67      1885\n",
      "\n",
      "    accuracy                           0.68      8783\n",
      "   macro avg       0.63      0.59      0.60      8783\n",
      "weighted avg       0.67      0.68      0.67      8783\n",
      "\n"
     ]
    }
   ],
   "source": [
    "# Instantiate Classifier\n",
    "cnb_tfidf = ComplementNB()\n",
    "# Fit to training data\n",
    "cnb_tfidf.fit(tfidf_train_df, y_train)\n",
    "# Predict on testing data\n",
    "cnb_tfidf_preds = cnb_tfidf.predict(tfidf_test_df)\n",
    "# Evaluating with classification report\n",
    "print(classification_report(y_test, cnb_tfidf_preds))"
   ]
  },
  {
   "cell_type": "markdown",
   "metadata": {},
   "source": [
    "#### Bernoulli Naive Bayes"
   ]
  },
  {
   "cell_type": "code",
   "execution_count": 100,
   "metadata": {
    "ExecuteTime": {
     "end_time": "2020-12-18T20:36:38.971516Z",
     "start_time": "2020-12-18T20:36:36.593995Z"
    }
   },
   "outputs": [
    {
     "name": "stdout",
     "output_type": "stream",
     "text": [
      "              precision    recall  f1-score   support\n",
      "\n",
      "        anti       0.75      0.24      0.36       823\n",
      "         man       0.67      0.85      0.75      4526\n",
      "     neutral       0.53      0.39      0.45      1549\n",
      "        news       0.71      0.62      0.66      1885\n",
      "\n",
      "    accuracy                           0.66      8783\n",
      "   macro avg       0.67      0.53      0.56      8783\n",
      "weighted avg       0.66      0.66      0.64      8783\n",
      "\n"
     ]
    }
   ],
   "source": [
    "# Instantiate Classifier\n",
    "bnb_tfidf = BernoulliNB()\n",
    "# Fit to training data\n",
    "bnb_tfidf.fit(tfidf_train_df, y_train)\n",
    "# Predict on testing data\n",
    "bnb_tfidf_preds = bnb_tfidf.predict(tfidf_test_df)\n",
    "# Evaluating with classification report\n",
    "print(classification_report(y_test, bnb_tfidf_preds))"
   ]
  },
  {
   "cell_type": "markdown",
   "metadata": {},
   "source": [
    "### With Features Added"
   ]
  },
  {
   "cell_type": "markdown",
   "metadata": {},
   "source": [
    "#### Random Forest"
   ]
  },
  {
   "cell_type": "code",
   "execution_count": 12,
   "metadata": {
    "ExecuteTime": {
     "end_time": "2020-12-18T21:07:39.795058Z",
     "start_time": "2020-12-18T20:58:09.899438Z"
    }
   },
   "outputs": [
    {
     "name": "stdout",
     "output_type": "stream",
     "text": [
      "              precision    recall  f1-score   support\n",
      "\n",
      "        anti       0.89      0.19      0.31       823\n",
      "         man       0.65      0.93      0.77      4526\n",
      "     neutral       0.71      0.34      0.46      1549\n",
      "        news       0.81      0.61      0.70      1885\n",
      "\n",
      "    accuracy                           0.69      8783\n",
      "   macro avg       0.76      0.52      0.56      8783\n",
      "weighted avg       0.72      0.69      0.66      8783\n",
      "\n"
     ]
    }
   ],
   "source": [
    "# Instantiate Classifier\n",
    "rf_tfidf_featured = RandomForestClassifier()\n",
    "# Fit to training data\n",
    "rf_tfidf_featured.fit(tfidf_train_featured, y_train)\n",
    "# Predict on testing data\n",
    "rf_tfidf_featured_preds = rf_tfidf_featured.predict(tfidf_test_featured)\n",
    "# Evaluating with classification report\n",
    "print(classification_report(y_test, rf_tfidf_featured_preds))"
   ]
  },
  {
   "cell_type": "markdown",
   "metadata": {},
   "source": [
    "#### Logistic Regression"
   ]
  },
  {
   "cell_type": "code",
   "execution_count": 10,
   "metadata": {
    "ExecuteTime": {
     "end_time": "2020-12-22T20:53:39.303592Z",
     "start_time": "2020-12-22T19:11:47.246337Z"
    }
   },
   "outputs": [
    {
     "name": "stdout",
     "output_type": "stream",
     "text": [
      "              precision    recall  f1-score   support\n",
      "\n",
      "        anti       0.43      0.01      0.01       823\n",
      "         man       0.59      0.86      0.70      4526\n",
      "     neutral       0.54      0.19      0.28      1549\n",
      "        news       0.51      0.45      0.48      1885\n",
      "\n",
      "    accuracy                           0.57      8783\n",
      "   macro avg       0.52      0.38      0.37      8783\n",
      "weighted avg       0.55      0.57      0.52      8783\n",
      "\n"
     ]
    }
   ],
   "source": [
    "# Instantiate Classifier\n",
    "lr_tfidf_featured = LogisticRegression()\n",
    "# Fit to training data\n",
    "lr_tfidf_featured.fit(tfidf_train_featured, y_train)\n",
    "# Predict on testing data\n",
    "lr_tfidf_featured_preds = lr_tfidf_featured.predict(tfidf_test_featured)\n",
    "# Evaluating with classification report\n",
    "print(classification_report(y_test, lr_tfidf_featured_preds))"
   ]
  },
  {
   "cell_type": "markdown",
   "metadata": {},
   "source": [
    "#### Bernoulli Naive Bayes"
   ]
  },
  {
   "cell_type": "code",
   "execution_count": 11,
   "metadata": {
    "ExecuteTime": {
     "end_time": "2020-12-18T21:22:29.514833Z",
     "start_time": "2020-12-18T21:17:12.429627Z"
    }
   },
   "outputs": [
    {
     "name": "stdout",
     "output_type": "stream",
     "text": [
      "              precision    recall  f1-score   support\n",
      "\n",
      "        anti       0.76      0.26      0.38       823\n",
      "         man       0.70      0.84      0.76      4526\n",
      "     neutral       0.54      0.42      0.47      1549\n",
      "        news       0.70      0.70      0.70      1885\n",
      "\n",
      "    accuracy                           0.68      8783\n",
      "   macro avg       0.68      0.55      0.58      8783\n",
      "weighted avg       0.68      0.68      0.66      8783\n",
      "\n"
     ]
    }
   ],
   "source": [
    "# Instantiate Classifier\n",
    "bnb_tfidf_featured = BernoulliNB()\n",
    "# Fit to training data\n",
    "bnb_tfidf_featured.fit(tfidf_train_featured, y_train)\n",
    "# Predict on testing data\n",
    "bnb_tfidf_featured_preds = bnb_tfidf_featured.predict(tfidf_test_featured)\n",
    "# Evaluating with classification report\n",
    "print(classification_report(y_test, bnb_tfidf_featured_preds))"
   ]
  },
  {
   "cell_type": "markdown",
   "metadata": {},
   "source": [
    "## Doc2Vec"
   ]
  },
  {
   "cell_type": "markdown",
   "metadata": {},
   "source": [
    "### Without Features Added"
   ]
  },
  {
   "cell_type": "markdown",
   "metadata": {},
   "source": [
    "#### Random Forest"
   ]
  },
  {
   "cell_type": "code",
   "execution_count": 22,
   "metadata": {
    "ExecuteTime": {
     "end_time": "2020-12-18T21:33:55.181824Z",
     "start_time": "2020-12-18T21:33:42.310261Z"
    }
   },
   "outputs": [
    {
     "name": "stdout",
     "output_type": "stream",
     "text": [
      "              precision    recall  f1-score   support\n",
      "\n",
      "        anti       0.60      0.42      0.49       785\n",
      "         man       0.70      0.81      0.75      4529\n",
      "     neutral       0.48      0.40      0.44      1562\n",
      "        news       0.69      0.62      0.65      1907\n",
      "\n",
      "    accuracy                           0.66      8783\n",
      "   macro avg       0.62      0.56      0.58      8783\n",
      "weighted avg       0.65      0.66      0.65      8783\n",
      "\n"
     ]
    }
   ],
   "source": [
    "# Instantiate Classifier\n",
    "rf_doc = RandomForestClassifier()\n",
    "# Fit to training data\n",
    "rf_doc.fit(doc_train_df, y_train_doc)\n",
    "# Predict on testing data\n",
    "rf_doc_preds = rf_doc.predict(doc_test_df)\n",
    "# Evaluating with classification report\n",
    "print(classification_report(y_test_doc, rf_doc_preds))"
   ]
  },
  {
   "cell_type": "markdown",
   "metadata": {},
   "source": [
    "#### Logistic Regression"
   ]
  },
  {
   "cell_type": "code",
   "execution_count": 23,
   "metadata": {
    "ExecuteTime": {
     "end_time": "2020-12-18T21:34:41.623082Z",
     "start_time": "2020-12-18T21:34:40.828491Z"
    }
   },
   "outputs": [
    {
     "name": "stdout",
     "output_type": "stream",
     "text": [
      "              precision    recall  f1-score   support\n",
      "\n",
      "        anti       0.54      0.43      0.48       785\n",
      "         man       0.68      0.77      0.72      4529\n",
      "     neutral       0.44      0.36      0.39      1562\n",
      "        news       0.64      0.60      0.62      1907\n",
      "\n",
      "    accuracy                           0.63      8783\n",
      "   macro avg       0.57      0.54      0.55      8783\n",
      "weighted avg       0.62      0.63      0.62      8783\n",
      "\n"
     ]
    }
   ],
   "source": [
    "# Instantiate Classifier\n",
    "lr_doc = LogisticRegression()\n",
    "# Fit to training data\n",
    "lr_doc.fit(doc_train_df, y_train_doc)\n",
    "# Predict on testing data\n",
    "lr_doc_preds = lr_doc.predict(doc_test_df)\n",
    "# Evaluating with classification report\n",
    "print(classification_report(y_test_doc, lr_doc_preds))"
   ]
  },
  {
   "cell_type": "markdown",
   "metadata": {},
   "source": [
    "#### Bernoulli Naive Bayes"
   ]
  },
  {
   "cell_type": "code",
   "execution_count": 26,
   "metadata": {
    "ExecuteTime": {
     "end_time": "2020-12-18T21:35:07.392220Z",
     "start_time": "2020-12-18T21:35:07.105844Z"
    }
   },
   "outputs": [
    {
     "name": "stdout",
     "output_type": "stream",
     "text": [
      "              precision    recall  f1-score   support\n",
      "\n",
      "        anti       0.43      0.36      0.40       785\n",
      "         man       0.64      0.74      0.68      4529\n",
      "     neutral       0.36      0.27      0.31      1562\n",
      "        news       0.51      0.45      0.48      1907\n",
      "\n",
      "    accuracy                           0.56      8783\n",
      "   macro avg       0.49      0.46      0.47      8783\n",
      "weighted avg       0.54      0.56      0.55      8783\n",
      "\n"
     ]
    }
   ],
   "source": [
    "# Instantiate Classifier\n",
    "bnb_doc = BernoulliNB()\n",
    "# Fit to training data\n",
    "bnb_doc.fit(doc_train_df, y_train_doc)\n",
    "# Predict on testing data\n",
    "bnb_doc_preds = bnb_doc.predict(doc_test_df)\n",
    "# Evaluating with classification report\n",
    "print(classification_report(y_test_doc, bnb_doc_preds))"
   ]
  },
  {
   "cell_type": "markdown",
   "metadata": {},
   "source": [
    "### With Features Added"
   ]
  },
  {
   "cell_type": "markdown",
   "metadata": {},
   "source": [
    "#### Random Forest"
   ]
  },
  {
   "cell_type": "code",
   "execution_count": 27,
   "metadata": {
    "ExecuteTime": {
     "end_time": "2020-12-18T21:39:41.202884Z",
     "start_time": "2020-12-18T21:39:31.653501Z"
    }
   },
   "outputs": [
    {
     "name": "stdout",
     "output_type": "stream",
     "text": [
      "              precision    recall  f1-score   support\n",
      "\n",
      "        anti       0.64      0.39      0.48       785\n",
      "         man       0.70      0.85      0.77      4529\n",
      "     neutral       0.55      0.43      0.48      1562\n",
      "        news       0.74      0.64      0.69      1907\n",
      "\n",
      "    accuracy                           0.69      8783\n",
      "   macro avg       0.66      0.58      0.61      8783\n",
      "weighted avg       0.68      0.69      0.68      8783\n",
      "\n"
     ]
    }
   ],
   "source": [
    "# Instantiate Classifier\n",
    "rf_doc_featured = RandomForestClassifier()\n",
    "# Fit to training data\n",
    "rf_doc_featured.fit(doc_train_featured, y_train_doc)\n",
    "# Predict on testing data\n",
    "rf_doc_preds_featured = rf_doc_featured.predict(doc_test_featured)\n",
    "# Evaluating with classification report\n",
    "print(classification_report(y_test_doc, rf_doc_preds_featured))"
   ]
  },
  {
   "cell_type": "markdown",
   "metadata": {},
   "source": [
    "#### Logistic Regression"
   ]
  },
  {
   "cell_type": "code",
   "execution_count": 28,
   "metadata": {
    "ExecuteTime": {
     "end_time": "2020-12-18T21:40:11.894995Z",
     "start_time": "2020-12-18T21:40:10.599869Z"
    }
   },
   "outputs": [
    {
     "name": "stdout",
     "output_type": "stream",
     "text": [
      "              precision    recall  f1-score   support\n",
      "\n",
      "        anti       0.55      0.41      0.47       785\n",
      "         man       0.70      0.80      0.75      4529\n",
      "     neutral       0.49      0.38      0.43      1562\n",
      "        news       0.67      0.65      0.66      1907\n",
      "\n",
      "    accuracy                           0.66      8783\n",
      "   macro avg       0.60      0.56      0.58      8783\n",
      "weighted avg       0.64      0.66      0.65      8783\n",
      "\n"
     ]
    }
   ],
   "source": [
    "# Instantiate Classifier\n",
    "lr_doc_featured = LogisticRegression()\n",
    "# Fit to training data\n",
    "lr_doc_featured.fit(doc_train_featured, y_train_doc)\n",
    "# Predict on testing data\n",
    "lr_doc_preds_featured = lr_doc_featured.predict(doc_test_featured)\n",
    "# Evaluating with classification report\n",
    "print(classification_report(y_test_doc, lr_doc_preds_featured))"
   ]
  },
  {
   "cell_type": "markdown",
   "metadata": {},
   "source": [
    "#### Bernoulli Naive Bayes"
   ]
  },
  {
   "cell_type": "code",
   "execution_count": 29,
   "metadata": {
    "ExecuteTime": {
     "end_time": "2020-12-18T21:40:37.545074Z",
     "start_time": "2020-12-18T21:40:37.100495Z"
    }
   },
   "outputs": [
    {
     "name": "stdout",
     "output_type": "stream",
     "text": [
      "              precision    recall  f1-score   support\n",
      "\n",
      "        anti       0.47      0.31      0.38       785\n",
      "         man       0.66      0.69      0.68      4529\n",
      "     neutral       0.41      0.38      0.40      1562\n",
      "        news       0.55      0.60      0.57      1907\n",
      "\n",
      "    accuracy                           0.58      8783\n",
      "   macro avg       0.52      0.50      0.51      8783\n",
      "weighted avg       0.58      0.58      0.58      8783\n",
      "\n"
     ]
    }
   ],
   "source": [
    "# Instantiate Classifier\n",
    "bnb_doc_featured = BernoulliNB()\n",
    "# Fit to training data\n",
    "bnb_doc_featured.fit(doc_train_featured, y_train_doc)\n",
    "# Predict on testing data\n",
    "bnb_doc_preds_featured = bnb_doc_featured.predict(doc_test_featured)\n",
    "# Evaluating with classification report\n",
    "print(classification_report(y_test_doc, bnb_doc_preds_featured))"
   ]
  },
  {
   "cell_type": "markdown",
   "metadata": {},
   "source": [
    "# TF-IDF Logistic Regression Parameter Tuning"
   ]
  },
  {
   "cell_type": "code",
   "execution_count": 94,
   "metadata": {
    "ExecuteTime": {
     "end_time": "2020-12-17T01:37:05.360532Z",
     "start_time": "2020-12-17T01:37:05.351057Z"
    }
   },
   "outputs": [],
   "source": [
    "# Setting searching parameters for RandomSearch\n",
    "param_grid = {\n",
    "    'penalty': ['l1','l2'],\n",
    "    'C': np.logspace(-4,4,20),\n",
    "    'solver': ['lbfgs','liblinear']\n",
    "}"
   ]
  },
  {
   "cell_type": "code",
   "execution_count": 100,
   "metadata": {
    "ExecuteTime": {
     "end_time": "2020-12-17T02:12:03.156288Z",
     "start_time": "2020-12-17T02:12:03.149735Z"
    }
   },
   "outputs": [],
   "source": [
    "# Instantiate Classifier\n",
    "lr_final = LogisticRegression(random_state=42)\n",
    "# Instantiate GridSearch\n",
    "rand_lr_final = RandomizedSearchCV(lr_final, \n",
    "                                   param_grid, \n",
    "                                   n_jobs=-1,\n",
    "                                   verbose=2,\n",
    "                                   scoring='f1_micro')"
   ]
  },
  {
   "cell_type": "code",
   "execution_count": 101,
   "metadata": {
    "ExecuteTime": {
     "end_time": "2020-12-17T05:03:45.363344Z",
     "start_time": "2020-12-17T02:12:07.030671Z"
    }
   },
   "outputs": [
    {
     "name": "stdout",
     "output_type": "stream",
     "text": [
      "Fitting 5 folds for each of 10 candidates, totalling 50 fits\n"
     ]
    },
    {
     "name": "stderr",
     "output_type": "stream",
     "text": [
      "[Parallel(n_jobs=-1)]: Using backend LokyBackend with 4 concurrent workers.\n",
      "[Parallel(n_jobs=-1)]: Done  33 tasks      | elapsed: 126.0min\n",
      "[Parallel(n_jobs=-1)]: Done  50 out of  50 | elapsed: 171.1min finished\n"
     ]
    },
    {
     "name": "stdout",
     "output_type": "stream",
     "text": [
      "              precision    recall  f1-score   support\n",
      "\n",
      "          -1       0.68      0.53      0.59       823\n",
      "           0       0.65      0.40      0.50      1549\n",
      "           1       0.74      0.86      0.79      4526\n",
      "           2       0.72      0.73      0.72      1885\n",
      "\n",
      "    accuracy                           0.72      8783\n",
      "   macro avg       0.70      0.63      0.65      8783\n",
      "weighted avg       0.71      0.72      0.71      8783\n",
      "\n"
     ]
    }
   ],
   "source": [
    "# Fit grid_lr_final to training data\n",
    "rand_lr_final.fit(tfidf_train_df, y_train)\n",
    "# Predict on testing data\n",
    "rand_lr_final_preds = rand_lr_final.predict(tfidf_test_df)\n",
    "# Evaluating with classification report\n",
    "print(classification_report(y_test, rand_lr_final_preds))"
   ]
  },
  {
   "cell_type": "code",
   "execution_count": 103,
   "metadata": {
    "ExecuteTime": {
     "end_time": "2020-12-17T14:04:47.229225Z",
     "start_time": "2020-12-17T14:04:46.939679Z"
    }
   },
   "outputs": [
    {
     "data": {
      "text/plain": [
       "{'solver': 'liblinear', 'penalty': 'l2', 'C': 78.47599703514607}"
      ]
     },
     "execution_count": 103,
     "metadata": {},
     "output_type": "execute_result"
    }
   ],
   "source": [
    "rand_lr_final.best_params_"
   ]
  },
  {
   "cell_type": "code",
   "execution_count": 104,
   "metadata": {
    "ExecuteTime": {
     "end_time": "2020-12-17T14:09:59.297847Z",
     "start_time": "2020-12-17T14:09:59.290214Z"
    }
   },
   "outputs": [],
   "source": [
    "param_grid_2 = {\n",
    "    'C': [70, 75, 80, 85, 90],\n",
    "}"
   ]
  },
  {
   "cell_type": "code",
   "execution_count": 107,
   "metadata": {
    "ExecuteTime": {
     "end_time": "2020-12-17T14:12:53.998459Z",
     "start_time": "2020-12-17T14:12:53.988388Z"
    }
   },
   "outputs": [],
   "source": [
    "# Instantiate Classifier\n",
    "lr_final_2 = LogisticRegression(solver = 'liblinear', penalty = 'l2', random_state=42)\n",
    "# Instantiate GridSearch\n",
    "rand_lr_final_2 = RandomizedSearchCV(lr_final_2, \n",
    "                                   param_grid_2, \n",
    "                                   n_jobs=-1,\n",
    "                                   verbose=2,\n",
    "                                   scoring='f1_micro',\n",
    "                                   cv = 5)"
   ]
  },
  {
   "cell_type": "code",
   "execution_count": 108,
   "metadata": {
    "ExecuteTime": {
     "end_time": "2020-12-17T16:19:09.320807Z",
     "start_time": "2020-12-17T14:12:58.821183Z"
    }
   },
   "outputs": [
    {
     "name": "stdout",
     "output_type": "stream",
     "text": [
      "Fitting 5 folds for each of 5 candidates, totalling 25 fits\n"
     ]
    },
    {
     "name": "stderr",
     "output_type": "stream",
     "text": [
      "[Parallel(n_jobs=-1)]: Using backend LokyBackend with 4 concurrent workers.\n",
      "[Parallel(n_jobs=-1)]: Done  25 out of  25 | elapsed: 125.6min finished\n"
     ]
    },
    {
     "name": "stdout",
     "output_type": "stream",
     "text": [
      "              precision    recall  f1-score   support\n",
      "\n",
      "          -1       0.68      0.53      0.59       823\n",
      "           0       0.65      0.40      0.50      1549\n",
      "           1       0.74      0.86      0.79      4526\n",
      "           2       0.72      0.73      0.72      1885\n",
      "\n",
      "    accuracy                           0.72      8783\n",
      "   macro avg       0.70      0.63      0.65      8783\n",
      "weighted avg       0.71      0.72      0.71      8783\n",
      "\n"
     ]
    }
   ],
   "source": [
    "# Fit grid_lr_final to training data\n",
    "rand_lr_final_2.fit(tfidf_train_df, y_train)\n",
    "# Predict on testing data\n",
    "rand_lr_final_preds_2 = rand_lr_final_2.predict(tfidf_test_df)\n",
    "# Evaluating with classification report\n",
    "print(classification_report(y_test, rand_lr_final_preds_2))"
   ]
  },
  {
   "cell_type": "code",
   "execution_count": 109,
   "metadata": {
    "ExecuteTime": {
     "end_time": "2020-12-17T16:28:37.553179Z",
     "start_time": "2020-12-17T16:28:37.542946Z"
    }
   },
   "outputs": [
    {
     "data": {
      "text/plain": [
       "{'C': 70}"
      ]
     },
     "execution_count": 109,
     "metadata": {},
     "output_type": "execute_result"
    }
   ],
   "source": [
    "rand_lr_final_2.best_params_"
   ]
  },
  {
   "cell_type": "code",
   "execution_count": 113,
   "metadata": {
    "ExecuteTime": {
     "end_time": "2020-12-17T17:23:09.209011Z",
     "start_time": "2020-12-17T17:23:09.201421Z"
    }
   },
   "outputs": [],
   "source": [
    "param_grid_3 = {\n",
    "    'max_iter': [100, 200, 300],\n",
    "}"
   ]
  },
  {
   "cell_type": "code",
   "execution_count": 114,
   "metadata": {
    "ExecuteTime": {
     "end_time": "2020-12-17T17:23:12.571499Z",
     "start_time": "2020-12-17T17:23:12.565163Z"
    }
   },
   "outputs": [],
   "source": [
    "# Instantiate Classifier\n",
    "lr_final_3 = LogisticRegression(C = 70, \n",
    "                                penalty = 'l2', \n",
    "                                random_state=42, \n",
    "                                class_weight='balanced')\n",
    "# Instantiate GridSearch\n",
    "rand_lr_final_3 = RandomizedSearchCV(lr_final_3, \n",
    "                                   param_grid_3, \n",
    "                                   n_jobs=-1,\n",
    "                                   verbose=2,\n",
    "                                   scoring='f1_micro',\n",
    "                                   cv = 5)"
   ]
  },
  {
   "cell_type": "code",
   "execution_count": 115,
   "metadata": {
    "ExecuteTime": {
     "end_time": "2020-12-17T18:26:44.147833Z",
     "start_time": "2020-12-17T17:23:24.939701Z"
    }
   },
   "outputs": [
    {
     "name": "stdout",
     "output_type": "stream",
     "text": [
      "Fitting 5 folds for each of 3 candidates, totalling 15 fits\n"
     ]
    },
    {
     "name": "stderr",
     "output_type": "stream",
     "text": [
      "[Parallel(n_jobs=-1)]: Using backend LokyBackend with 4 concurrent workers.\n",
      "[Parallel(n_jobs=-1)]: Done  15 out of  15 | elapsed: 61.7min finished\n"
     ]
    },
    {
     "name": "stdout",
     "output_type": "stream",
     "text": [
      "              precision    recall  f1-score   support\n",
      "\n",
      "          -1       0.61      0.62      0.61       823\n",
      "           0       0.61      0.46      0.52      1549\n",
      "           1       0.77      0.81      0.79      4526\n",
      "           2       0.70      0.75      0.73      1885\n",
      "\n",
      "    accuracy                           0.72      8783\n",
      "   macro avg       0.67      0.66      0.66      8783\n",
      "weighted avg       0.71      0.72      0.71      8783\n",
      "\n"
     ]
    }
   ],
   "source": [
    "# Fit grid_lr_final to training data\n",
    "rand_lr_final_3.fit(tfidf_train_df, y_train)\n",
    "# Predict on testing data\n",
    "rand_lr_final_preds_3 = rand_lr_final_3.predict(tfidf_test_df)\n",
    "# Evaluating with classification report\n",
    "print(classification_report(y_test, rand_lr_final_preds_3))"
   ]
  },
  {
   "cell_type": "code",
   "execution_count": 117,
   "metadata": {
    "ExecuteTime": {
     "end_time": "2020-12-17T18:38:48.563035Z",
     "start_time": "2020-12-17T18:38:48.555612Z"
    }
   },
   "outputs": [
    {
     "data": {
      "text/plain": [
       "LogisticRegression(C=70, class_weight='balanced', max_iter=300, random_state=42)"
      ]
     },
     "execution_count": 117,
     "metadata": {},
     "output_type": "execute_result"
    }
   ],
   "source": [
    "rand_lr_final_3.best_estimator_"
   ]
  },
  {
   "cell_type": "code",
   "execution_count": 119,
   "metadata": {
    "ExecuteTime": {
     "end_time": "2020-12-17T18:43:47.891216Z",
     "start_time": "2020-12-17T18:43:20.874644Z"
    },
    "scrolled": true
   },
   "outputs": [
    {
     "name": "stdout",
     "output_type": "stream",
     "text": [
      "Hyperparameter Tuned TFIDF Logistic Regression Confusion Matrix\n",
      "[[ 509   97  180   37]\n",
      " [ 151  711  535  152]\n",
      " [ 143  299 3669  415]\n",
      " [  34   68  360 1423]]\n",
      "Hyperparameter Tuned TFIDF Logistic Regression Confusion Matrix (Normalized)\n",
      "[[0.61846902 0.11786148 0.21871203 0.04495747]\n",
      " [0.09748225 0.45900581 0.34538412 0.09812782]\n",
      " [0.03159523 0.06606275 0.81064958 0.09169244]\n",
      " [0.01803714 0.03607427 0.19098143 0.75490716]]\n"
     ]
    },
    {
     "data": {
      "image/png": "[encoded data removed]",
      "text/plain": [
       "<Figure size 432x288 with 2 Axes>"
      ]
     },
     "metadata": {
      "needs_background": "light"
     },
     "output_type": "display_data"
    },
    {
     "data": {
      "image/png": "[encoded data removed]",
      "text/plain": [
       "<Figure size 432x288 with 2 Axes>"
      ]
     },
     "metadata": {
      "needs_background": "light"
     },
     "output_type": "display_data"
    }
   ],
   "source": [
    "# Plot non-normalized confusion matrix\n",
    "titles_options = [(\"Hyperparameter Tuned TFIDF Logistic Regression Confusion Matrix\", None),\n",
    "                  (\"Hyperparameter Tuned TFIDF Logistic Regression Confusion Matrix (Normalized)\", 'true')]\n",
    "for title, normalize in titles_options:\n",
    "    disp = plot_confusion_matrix(rand_lr_final_3, tfidf_test_df, y_test,\n",
    "                                 display_labels=class_names,\n",
    "                                 cmap=plt.cm.Blues,\n",
    "                                 normalize=normalize)\n",
    "    disp.ax_.set_title(title)\n",
    "\n",
    "    print(title)\n",
    "    print(disp.confusion_matrix)\n",
    "\n",
    "plt.show()"
   ]
  },
  {
   "cell_type": "markdown",
   "metadata": {},
   "source": [
    "# Pickling Best Model"
   ]
  },
  {
   "cell_type": "markdown",
   "metadata": {},
   "source": [
    "## Training on Whole Dataset"
   ]
  },
  {
   "cell_type": "code",
   "execution_count": 8,
   "metadata": {
    "ExecuteTime": {
     "end_time": "2020-12-29T14:53:22.764401Z",
     "start_time": "2020-12-29T14:53:22.581059Z"
    }
   },
   "outputs": [],
   "source": [
    "data = pd.read_csv('./data_collection/prepared_twitter_sentiment_data.csv', index_col=0)\n",
    "\n",
    "# Drop 31 rows with missing message column\n",
    "data.dropna(inplace=True)"
   ]
  },
  {
   "cell_type": "code",
   "execution_count": 9,
   "metadata": {
    "ExecuteTime": {
     "end_time": "2020-12-29T14:53:29.598244Z",
     "start_time": "2020-12-29T14:53:29.124084Z"
    }
   },
   "outputs": [],
   "source": [
    "# Instantiate vectorizer\n",
    "tfidf = TfidfVectorizer(ngram_range= (1,1))\n",
    "# Fit to training data\n",
    "tfidf_whole = tfidf.fit_transform(data.message)"
   ]
  },
  {
   "cell_type": "code",
   "execution_count": 11,
   "metadata": {
    "ExecuteTime": {
     "end_time": "2020-12-29T14:53:51.789772Z",
     "start_time": "2020-12-29T14:53:51.786474Z"
    }
   },
   "outputs": [],
   "source": [
    "import pickle"
   ]
  },
  {
   "cell_type": "code",
   "execution_count": 12,
   "metadata": {
    "ExecuteTime": {
     "end_time": "2020-12-29T14:53:58.336899Z",
     "start_time": "2020-12-29T14:53:58.321608Z"
    }
   },
   "outputs": [],
   "source": [
    "pickle_vec = open(\"tfidf.pickle\",\"wb\")\n",
    "pickle.dump(tfidf_whole, pickle_vec)\n",
    "pickle_vec.close()"
   ]
  },
  {
   "cell_type": "code",
   "execution_count": 13,
   "metadata": {
    "ExecuteTime": {
     "end_time": "2020-12-29T14:54:05.244929Z",
     "start_time": "2020-12-29T14:54:05.233394Z"
    }
   },
   "outputs": [
    {
     "data": {
      "text/plain": [
       "<43912x26067 sparse matrix of type '<class 'numpy.float64'>'\n",
       "\twith 409576 stored elements in Compressed Sparse Row format>"
      ]
     },
     "execution_count": 13,
     "metadata": {},
     "output_type": "execute_result"
    }
   ],
   "source": [
    "tfidf_whole"
   ]
  },
  {
   "cell_type": "code",
   "execution_count": 14,
   "metadata": {
    "ExecuteTime": {
     "end_time": "2020-12-29T14:54:12.895023Z",
     "start_time": "2020-12-29T14:54:12.414824Z"
    }
   },
   "outputs": [],
   "source": [
    "# Convert vectors to dataframe\n",
    "tfidf_whole_df = pd.DataFrame.sparse.from_spmatrix(\n",
    "    tfidf_whole, columns=tfidf.get_feature_names())"
   ]
  },
  {
   "cell_type": "code",
   "execution_count": 15,
   "metadata": {
    "ExecuteTime": {
     "end_time": "2020-12-29T14:54:30.014064Z",
     "start_time": "2020-12-29T14:54:22.755005Z"
    }
   },
   "outputs": [
    {
     "data": {
      "text/plain": [
       "LogisticRegression(C=70, class_weight='balanced', max_iter=300, random_state=42)"
      ]
     },
     "execution_count": 15,
     "metadata": {},
     "output_type": "execute_result"
    }
   ],
   "source": [
    "best_overall_model = LogisticRegression(C=70, class_weight='balanced', max_iter=300, random_state=42)\n",
    "\n",
    "best_overall_model.fit(tfidf_whole_df, data.sentiment)"
   ]
  },
  {
   "cell_type": "markdown",
   "metadata": {},
   "source": [
    "### Pickling Model"
   ]
  },
  {
   "cell_type": "code",
   "execution_count": 16,
   "metadata": {
    "ExecuteTime": {
     "end_time": "2020-12-29T14:56:42.579926Z",
     "start_time": "2020-12-29T14:56:42.577476Z"
    }
   },
   "outputs": [],
   "source": [
    "import pickle"
   ]
  },
  {
   "cell_type": "code",
   "execution_count": 17,
   "metadata": {
    "ExecuteTime": {
     "end_time": "2020-12-29T14:56:52.279131Z",
     "start_time": "2020-12-29T14:56:52.272640Z"
    }
   },
   "outputs": [],
   "source": [
    "pickle_out = open(\"best_model.pickle\",\"wb\")\n",
    "pickle.dump(best_overall_model, pickle_out)\n",
    "pickle_out.close()"
   ]
  }
 ],
 "metadata": {
  "kernelspec": {
   "display_name": "learn-env",
   "language": "python",
   "name": "learn-env"
  },
  "language_info": {
   "codemirror_mode": {
    "name": "ipython",
    "version": 3
   },
   "file_extension": ".py",
   "mimetype": "text/x-python",
   "name": "python",
   "nbconvert_exporter": "python",
   "pygments_lexer": "ipython3",
   "version": "3.6.9"
  },
  "toc": {
   "base_numbering": 1,
   "nav_menu": {},
   "number_sections": true,
   "sideBar": true,
   "skip_h1_title": false,
   "title_cell": "Table of Contents",
   "title_sidebar": "Contents",
   "toc_cell": false,
   "toc_position": {},
   "toc_section_display": true,
   "toc_window_display": false
  },
  "varInspector": {
   "cols": {
    "lenName": 16,
    "lenType": 16,
    "lenVar": 40
   },
   "kernels_config": {
    "python": {
     "delete_cmd_postfix": "",
     "delete_cmd_prefix": "del ",
     "library": "var_list.py",
     "varRefreshCmd": "print(var_dic_list())"
    },
    "r": {
     "delete_cmd_postfix": ") ",
     "delete_cmd_prefix": "rm(",
     "library": "var_list.r",
     "varRefreshCmd": "cat(var_dic_list()) "
    }
   },
   "types_to_exclude": [
    "module",
    "function",
    "builtin_function_or_method",
    "instance",
    "_Feature"
   ],
   "window_display": false
  }
 },
 "nbformat": 4,
 "nbformat_minor": 4
}
