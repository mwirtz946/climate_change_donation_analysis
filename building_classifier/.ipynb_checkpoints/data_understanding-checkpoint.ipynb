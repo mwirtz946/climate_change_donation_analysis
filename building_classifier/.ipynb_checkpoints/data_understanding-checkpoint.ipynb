{
 "cells": [
  {
   "cell_type": "markdown",
   "metadata": {},
   "source": [
    "# Base: Twitter Climate Change Sentiment Dataset"
   ]
  },
  {
   "cell_type": "markdown",
   "metadata": {},
   "source": [
    "https://www.kaggle.com/edqian/twitter-climate-change-sentiment-dataset"
   ]
  },
  {
   "cell_type": "markdown",
   "metadata": {
    "ExecuteTime": {
     "end_time": "2020-12-11T20:18:25.578620Z",
     "start_time": "2020-12-11T20:18:25.572434Z"
    }
   },
   "source": [
    "**Description**\n",
    "\n",
    "The collection of this data was funded by a Canada Foundation for Innovation JELF Grant to Chris Bauch, University of Waterloo.\n",
    "\n",
    "This dataset aggregates tweets pertaining to climate change collected between Apr 27, 2015 and Feb 21, 2018. In total, 43943 tweets were annotated. Each tweet is labelled independently by 3 reviewers. This dataset only contains tweets that all 3 reviewers agreed on (the rest were discarded).\n",
    "\n",
    "Each tweet is labelled as one of the following classes:\n",
    "\n",
    " - 2(News): the tweet links to factual news about climate change\n",
    "\n",
    " - 1(Pro): the tweet supports the belief of man-made climate change\n",
    " \n",
    " - 0(Neutral: the tweet neither supports nor refutes the belief of man-made climate change\n",
    " - 1(Anti): the tweet does not believe in man-made climate change"
   ]
  },
  {
   "cell_type": "markdown",
   "metadata": {},
   "source": [
    "# Word Usage Data"
   ]
  },
  {
   "cell_type": "markdown",
   "metadata": {},
   "source": [
    "## Tier 1 Words"
   ]
  },
  {
   "cell_type": "markdown",
   "metadata": {},
   "source": [
    "**What are Tier 1 Words?**\n",
    "\n",
    "Words that commonly appear in spoken language.  Because they are heard frequently in numerous contexts and with nonverbal communication, Tier 1 words rarely require explicit instruction.  Examples of Tier 1 words are clock, baby, happy and walk."
   ]
  },
  {
   "cell_type": "markdown",
   "metadata": {},
   "source": [
    "**Data Source for Tier 1 Words:**\n",
    "http://soltreemrls3.s3-website-us-west-2.amazonaws.com/marzanoresearch.com/media/documents/List-of-Tier-1-Basic-Terms.pdf"
   ]
  },
  {
   "cell_type": "code",
   "execution_count": 13,
   "metadata": {
    "ExecuteTime": {
     "end_time": "2020-12-12T00:02:46.702026Z",
     "start_time": "2020-12-12T00:02:46.695275Z"
    }
   },
   "outputs": [],
   "source": [
    "tier_one_words = \"can, cannot, could, may, might, must, shall, should, will, would, as, at, during, now, of, on, together, when, while, did, do, does, doing, done, had, has, have, am, are, be, been, is, was, were, being, and, of, too, with, [he, him, I, it, me, myself, she, them, they, us, we, you, her, hers, its, mine, my, our, their, your, yours, his, ours, theirs, [what, when, where, which, at, from, to, [because, by, for, from, if, since, so, then, to, because of, that, which, who, how, why, a, an, each, every, no, that, the, these, this, those, either, ah, aha, bye, gee, good-bye, ha, hello, hey, hi, ho, maybe,no, oh, ok, okay, ooh, wow, yes, goodnight, wow, more, most, much, so, such, sure, too, very, well, badly, [already, early, fresh, new, ready, since, young, ago, lately, left, right, east, north, south, west, almost, enough, just, only, hardly, alone, mostly, nearly, simply, all, another, both, few, half, less, little, lot, many, more, most, none, only, other, pair, two, whole, amount, couple, extra, several, single, twice, along away, beside, between, by, close, far, near, past, toward, apart, aside, beyond, nearby, opposite, outer, ahead, back, behind, end, forward, front, middle, center, last, ahead of, among, backward, backwards, rear, across, in, inside, into, out, outside, through, enter, outdoors, indoor, indoors, throughout, within, [below, bottom, down, low, under, beneath, underneath, downhill, downstairs, downward, before, late, next, soon, then, until, afterward, afterwards, later, latter, here, there, where, nowhere, somewhere, anywhere, someplace, above, high, off, on, over, tip, top, up, onto, upon, aboard, overheard, upright, upside-down, upstairs, upward, but, else, not, or, still, than, without, yet, against, compare, either, except, instead, neither, unless, whether, [eight, five, four, nine, one, seven, six, ten, three, two, zero eighteen, eighty, eleven, fifteen, fifty, first, forty, fourteen, hundred, nineteen, ninety, number, numeral, second, seventeen, seventy, sixteen, sixty, thirteen, thousand, twelve, twenty, billion, decimal, dozen, million, ninth, seventh, sixth, tenth, third, April, August, December, February, Friday, January, July, June, March, May, Monday, November, October, Saturday, September, Sunday, Thursday, Tuesday, Wednesday, maybe, possibly, hopefully, please, bird, chicken, crow, duck, eagle, fowl, goose, hen, jay, owl, parrot, robin, rooster, turkey, big, giant, great, huge, large, little, small, tiny, enormous, gigantic, jumbo, any, each, enough, nothing, some, nobody, anybody, anyone, anything, no one, somebody, someone, something, bunny, calf, cub, kitten, pup, puppy, tadpole, bush, flower, plant, tree, vegetation, weed, corner, edge, limit, margin, side, catch, pass, throw, toss, climb, lift, raise, order, rank, rise, do, use, happen, occur, have, belong, own, possess, they're, we're, you're, sad, sorry, unhappy, bring, carry, deliver, get, give, mail, move, place, present, put, return, send, set, take, bear, remove, [fun, glad, happy, joke, jolly, joy, merry, play, please, silly, celebrate, happiness, humor, joyful, choice, choose, decide, judge, pick, select, appoint, sort, cap, glasses, hat, helmet, hood, mask, sunglasses, crown, breakfast, dinner, lunch, meal, picnic, supper, treat, dessert, address, direction, place, point, position, spot, location, moon, sky, star, sun, universe, world, meteor, planet, space, bite, drink, eat, feed, sip, swallow, chew, age, fall, month, season, summer, week, weekend, winter, year, century, decade, generation, spring, weekday, lullaby, music, poem, rhyme, song, hymn, dance, music, ballet, melody, orchestra, solo, believe, care, enjoy, like, love, forgive, want, [human, individual, people, person, hero, self, black, blue, brown, color, gold, gray, green, orange, pink, purple, red, white, yellow, blonde, colorful, silver, best, better, dear, fine, good, important, perfect, outstanding, super, useful, fast, hurry, quick, race, rush, slow, speed, sudden, dash, slowdown, kindergarten, library, museum, school, classroom, schoolroom, describe, explain, present, say, state, tell, brag, inform, mention, recite, boot, glove, mittens, shoe, skate, sock, stocking, sandal, slipper, [dance, march, run, skip, step, trip, walk, hike, limp, stumble, tiptoe, trot, cat, dog, doggie, fox, lion, tiger, wolf, bulldog, collie, bear, cow, deer, donkey, elephant, giraffe, horse, lamb, pig, pony, rabbit, sheep, bat, bull, kangaroo, moose, raccoon, reindeer, skunk, zebra, go, come, leave, travel, visit, wander, appear, approach, arrive, depart, disappear, exit, journey, proceed, forget, idea, remember, think, thought, wonder, imagine, memory, principal, student, teacher, graduate, pupil, schoolteacher, empty, fill, full, hollow, fish, seal, whale, salmon, shark, tuna, color, copy, draw, paint, print, publish, scribble, sign, spell, write, handwriting, misspell, publish, skim, trace, underline, correct, just, real, right, true, truth, wrong, error, fair, false, fault, honest, mistake, foot, gallon, grade, inch, mile, pound, quart, yard, mouthful, spoonful, tablespoon, dough, flour, gravy, mix, pepper, salt, sauce, sugar, ketchup, mayonnaise, mustard, arm, elbow, finger, hand, thumb, shoulders, wrist, feet, foot, knee, leg, toe, ankle, heel, act, cartoon, film, movie, show, stage, comedy, play, cold, heat, hot, temperature, warm, chill, cool, day, evening, hour, minute, morning, night, noon, second, tonight, afternoon, midnight, overnight, sundown, sunrise, sunset, mouth, teeth, throat, tooth, voice, gum, jaw, lip, tongue, he's, I'm, it's, she's, that's, there's, here’s, what's, where's, alligator, dragon, frog, snake, toad, turtle, dinosaur, mermaid, monster, old, past, present, today, tomorrow, yesterday, ancient, future, history, someday, alarm, bell, horn, phone, doorbell, siren, telephone, he'll, I'll, she'll, they'll, we'll, you'll, butter, cheese, egg, yolk, cream, margarine, beach, island, coast, shore, dentist, nurse, doctor, loss, winner, champion, defeat, win, air, weather, nature, basement, bathroom, cellar, closet, garage, hall, kitchen, nursery, room, bedroom, doorway, hallway, playroom, porch, chain, glue, key, lock, nail, needle, pin, rope, string, cable, knot, screw, shoelace, strap, alley, bridge, driveway, highway, path, railroad, road, sidewalk, street, track, trail, avenue, freeway, mall, racetrack, ramp, route, tunnel, aunt, brother, dad, family, father, granny, ma, mama, mom, mother, papa, parent, sister, son, uncle, cousin, daughter, grandparent, husband, mammy, nephew, niece, sibling, wife, ant, bee, bug, butterfly, caterpillar, fly, insect, ladybug, spider, worm, bumblebee, cockroach, flea, grasshopper, mosquito, moth, slug, wasp, [bowl, cup, dish, fork, glass, knife, pan, plate, pot, spoon, chopsticks, mug, opener, tablespoon, teaspoon, tray, cruise, drive, passenger, ride, row, sail, cruise, glide, gather, group, pile, sequence, bunch, classify, list, organize, stack, deep, height, high, length, long, short, size, tall, thin, wide, depth, narrow, shallow, thick, width, agree, bless, greet, pray, thank, welcome, compliment, cooperate, encourage, praise, ice, rain, snow, water, hail, icicle, liquid, rainbow, raindrop, rainfall, snowball, snowman, steam, [lake, ocean, puddle, river, sea, stream, bay, creek, pond, [hear, listen, loud, noise, quiet, sound, aloud, calm, echo, silence, silent, [cent, coin, dollar, money, penny, quarter, cash, check, dime, nickel, pound, ticket, speak, speech, talk, chat, discuss, statement, cage, cave, shelter, fort, jail, [find, fix, make, build, develop, prepare, produce, repair, shape, branch, leaf, twig, bark, limb, stump, bank, safe, purse, wallet, behave, help, save, heal, improve, protect, girl, lady, woman, female, housewife, schoolgirl, brush, card, crayon, ink, page, paper, pen, pencil, blackboard, chalk, chalkboard, loose-leaf, notebook, paintbrush, bed, bench, chair, crib, desk, drawer, seat, table, bookcase, couch, counter, cradle, cupboard, playpen, sofa, stool, land, lot, place, region, area, location, territory, zone, cheek, chin, face, head, brain, forehead, mind, free, poor, poverty, rich, broke, cheap, expensive, fish, fly, hunt, trap, buck, gallop, soar, sting, oven, radio, stove, television, furnace, heater, fridge, hammer, saw, shovel, tool, drill, rake, screwdrivers, tweezers, balloon, helicopter, kite, plane, rocket, aircraft, airline, airplane, spacecraft, castle, home, hotel, house, hut, apartment, motel, palace, tent, buy, pay, sale, sell, spend, bet, earn, owe, purchase, door, floor, roof, stairs, wall, window, ceiling, doorstep, stair, staircase, stairway, bread, bun, cereal, chips, cracker, crust, hamburger, hotdog, jelly, pancake, pizza, salad, sandwich, snack, toast, biscuit, coleslaw, loaf, macaroni, muffin, noodle, oatmeal, omelet, pretzel, spaghetti, taco, tortilla, waffle, belt, diaper, dress, jeans, pajamas, pants, pocket, shirt, skirt, apron, bathrobe, nightgown, robe, shorts, sweater, tights, long, never, often, once, sometimes, always, anymore, awhile, daily, ever, forever, frequent, hourly, rare, regular, repeat, seldom, twice, usual, weekly, boil, dive, drain, drip, float, melt, pour, sink, spill, splash, stir, swim, wet, bubble, dribble, flush, freeze, leak, slick, slippery, soak, spray, sprinkle, squirt, trickle, bicycle, bike, bus, car, train, tricycle, truck, van, wagon, ambulance, automobile, cab, locomotive, motorcycle, scooter, stagecoach, subway, taxi, taxicab, trailer, fit, fold, sew, tear, wear, braid, patch, rip, wrinkle, zip, bit, dot, flake, part, piece, crumb, member, portion, section, slice, sliver, splinter, typecatch, hold, hug, pick, clasp, cuddle, grab, pinch, snuggle, squeeze, catch, hold, hug, pick, clasp, cuddle, grab, pinch, snuggle, squeeze, asleep, awake, nap, sleep, daydream, dream, pretend, wake, ground, land, mud, soil, clay, dirt, dust, earth, blanket, cover, pillow, towel, bedspread, cushion, napkin, pillowcase, sheet, tablecloth, look, see, stare, watch, blink, peek, spy, wink, bacon, beef, ham, hotdog, sausage, bologna, pork, steak, able, smart, stupid, alert, brilliant, wise, myth, story, fiction, legend, literature, mystery, poetry, riddle, tale, writing, garden, park, yard, patio, playground, schoolyard, ear, eye, nose, eyebrow, eyelash, nostril, drop, fall, lay, dump, slump, tumble, block, rectangle, square, triangle, cube, pyramid, triangular, doll, toy, toys, puppet, puzzle, calendar, clock, watch, date, o’clock, coat, jacket, cape, raincoat, quit, work, hire, labor, begin, start, try, beginning, origin, get, steal, accept, attract, capture, point, wave, clap, handshake, salute, I've, they've, we've, you've, grin, smile, frown, nod, kiss, suck, lick, spit, cake, candy, cookie, cupcake, doughnut, gum, honey, jam, pie, pudding, syrup, brownie, butterscotch, caramel, chocolate, cocoa, fudge, licorice, lollipop, marshmallows, sherbet, sundae, vanilla, coach, direction, know, learn, teach, understand, advice, comprehend, confuse, discover, information, instruct, outsmart, study, suggest, trick, feather, fur, hide, paw, tail, whisker, beak, bill, claw, fin, flipper, hoof, snout, cheer, cry, laugh, roar, shout, sing, whisper, yell, applause, chuckle, cough, giggle, holler, laughter, scream, snore, whistle, yawn, bump, hair, rash, skin, bald, beard, bruise, freckle, pigtail, scar, ball, bat, glove, swing, base, goal, net, softball, touchdown, boat, canoe, ship, raft, submarine, tugboat, yacht, body, lap, neck, belly, chest, hip, waist, hurt, kill, punish, harm, injure, murder, shoot, bake, boil, cook, barbeque, broil, fry, grill, roast, serve, ax, axe, knife, scissors, blade, lawnmower, pocketknife, bag, basket, bath, bathtub, bottle, box, bucket, jar, barrel, coffeepot, container, crate, folder, hamper jug, package, pail, pitcher, sack, suitcase, tub, bang, beep, boom, ring, click, creak, plop, rattle, slam, squeak, toot, zoom, add, count, minus, plus, subtract, addition, cube, divide, division, multiplication, multiply, subtraction, clown, dancer, actor, actress, magician, model, hill, mountain, cliff, hillside, mound, rest, stay, delay, pause, relax, remain, wait, lie, sit, crouch, kneel, squat, find, keep, bury, hide, spot, city, neighborhood, state, town, village, camp, county, downtown, ghetto, heaven, slum, suburb, king, mayor, president, candidate, knight, official, prince, princess, queen, apple, banana, cherry, grape, orange, peach, pear, strawberry, avocado, berry, blueberry, coconut, cranberry, grapefruit, lemon, melon, pineapple, plum, prune, raisin, raspberry, bark, buzz, meow, moo, baa, cluck, gobble, growl, peep, purr, quack, [juice, milk, pop, soup, beer, chili, coffee, soda, stew, tea, wine, answer, ask, call, offer, question, reply, request, respond, test, cloth, rag, thread, cotton, lace, leather, nylon, silk, wool, birthday, party, recess, circus, date, fair, holiday, parade, vacation, country, nation, continent, equator, hemisphere, stick, wood, board, log, post, timber, pull, push, drag, haul, shove, yank, game, recess, contest, race, recreation, sport, show, trade, borrow, lose, loser, share, clean, wipe, rinse, scrub, sweep, wash, pretty, ugly, beautiful, cute, handsome, lovely, fat, heavy, chubby, lean, skinny, slim, mouse, squirrel, beaver, groundhog, hamster, rat, nest, zoo, aquarium, beehive, birdhouse, cocoon, hive, theater, court, gym, stadium, blood, bleed, sweat, grass, lawn, root, vine, flat, even, lean, level, steep, animal, pet, wildlife, appearance, badge, flag, image, scene, sight, view, blow, breath, choke, exhale, hit, slap, spank, touch, beat, feel, knock, pat, pound, smash, tap, tickle, blame, cheat, lie, accuse, argue, complain, dare, disagree, disobey, quarrel, scold, tease, warn, around, roll, turn, clockwise, rotate, spin, surround, swing, twirl, twist, country, family, community, democracy, nation, race, society, tribe, gift, prize, award, medal, reward, savings, treasure, hard, soft, bumpy, firm, rough, smooth, tight, boy, man, guy, hero, male, schoolboy, sir, baby, child, adult, grown-up, kid, teenager, toddler, friend, neighbor, boyfriend, classmate, pal, partner, playmate, bandit, villain, bully, criminal, enemy, killer, liar, pirate, thief, correct, let, obey, advice, allow, command, control, demand, direct, excuse, forbid, force, permit, refuse, remind, require, carrot, corn, nut, peanut, popcorn, seed, almond, bean, cashew, celery, cucumber, lettuce, olive, onion, peas, pickle, potato, pumpkin, rice, spinach, squash, tomato, walnut, wheat, baseball, soccer, softball, swim, swimming, basketball, bicycle, bowling, boxing, football, golf, hockey, racing, skate, skating, ski, skiing, tennis, volleyball, wrestling, grocery, store, bakery, bookstore, cafeteria, drugstore, lunchroom, restaurant, brave, courage, heroic, honest, loyal, button, collar, sleeve, zipper, bone, joint, muscle, skeleton, price, cost, payment, rent, end, complete, finish, last, slip, rock, skid, slide, gate, fence, mailbox, shelf, line, bent, crooked, cross, straight, stripe, alphabet, consonant, letter, symbol, vowel, fire, burn, campfire, flame, spark, easy, difficult, impossible, problem, taste, flavor, juicy, ripe, sour, sweet, tasty, brush, soap, broomstick, floss, mop, shampoo, sponge, suds, toothbrush, toothpaste, brush, comb, handkerchief, buckle, fan, jewelry, kerchief, necklace, perfume, pin, ribbon, ring, scarf, tie, umbrella, news, search, analyze, examine, experiment, explore, homework, investigate, lesson, schoolwork, storm, thunder, blizzard, downpour, draft, hurricane, lightning, thunderstorm, tornado, wind, angel, god, cupid, devil, elf, fairy, ghost, monster, witch, wizard, thankful, considerate, courteous, gentle, grateful, kind, nice, polite, respectful, athlete, batter, boxer, catcher, coach, loser, runner, winner, sick, disease, health, ill, injury, well, pill, aspirin, bandage, medicine, vitamin, hungry, hunger, starve, thirst, thirsty, time, bedtime, daytime, dinnertime, lunchtime, paddle, wheel, anchor, fender, mirror, oar, parachute, seatbelt, tail, tire, trunk, wing, don’t, isn’t, ain't, aren't, can't, couldn't, doesn't, hasn't, haven't, shouldn't, weren't, won’t, wouldn't, job, career, chore, housework, profession, task, worker, rock, boulder, diamond, jewel, marble, stone, word, adjective, adverb, noun, sentence, verb, art, painting, photo, photograph, picture, statue, safe, danger, dangerous, risk, trouble, unsafe, smell, sneeze, sniff, snore, snort, stink, cut, rub, carve, chop, clip, dig, mow, peel, scoop, scratch, shave, slice, snip, stab, bad, awful, evil, terrible, wicked, worse, worst, instrument, banjo, drum, guitar, piano, triangle, violin, dead, alive, born, die, egg, hatch, life, live, wake, food, crop, fruit, meat, seafood, sweets, vegetables, meet, attach, combine, connect, fasten, include, join, marriage, marry,stick, wedding, book, bible, booklet, chapter, cookbook, diary, dictionary, essay, journal, magazine, newspaper, novel, outline, storybook, summary, text, textbook, guess, calculate, clue, compose, conclude, create, design, estimate, fact, information, invent, invention, mystery, prediction, prove, solve, suppose, accident, break, crash, crush, damage, dent, destroy, mark, ruin, scratch, waste, wreck, bar, brick, cardboard, paste, pipe, plastic, sewer, tube, wire, alike, copy, equal, even, example, like, same, similar, twin, athletic, beauty, clumsy, health, might, power, strength, strong, weak, weakness, arrow, bomb, bullet, firecracker, fireworks, gun, sword, advise, appeal, beg, convince, cue, persuade, recommend, suggest, letter, message, note, postcard, poster, signal, valentine, business, law, medicine, military, religion, science, technology, band, class, club, crowd, herd, team, gold, iron, magnet, metal, silver, steel, battle, fight, peace, revolution, war, wrestle, bet, certain, chance, likely, luck, miracle, possible, balance, blank, fancy, order, plain, simple, clothes, clothing, costume, suit, uniform, artist, choir, drummer, painter, singer, firefighter, officer, policeman, sheriff, soldier, minister, nun, pastor, pope, priest, hole, canyon, ditch, manhole, pit, valley, cork, cover, flap, lid, mask, berry, blossom, dandelion, rose, seed, circle, bend, curl, curve, loop, oval, round, twist, bright, clear, light, shiny, sunshine, candle, candlestick, lamp, light, lightbulb, cause, change, effect, outcome, purpose, reason, result, he'd, I'd, she'd, they'd, you'd, battery, brake, engine, jet, motor, computer, keyboard, monitor, mouse, robot, goal, plan, subject, topic, certain, confident, hopeful, proud, sure, diagram, drawing, graph, map, action, activity, motion, play, juggle, shake, shiver, vibrate, wiggle, bounce, fidget, snap, wag, blast, expand, explode, magnify, spread, banner, carpet, curtain, rug, vase, certainly, honestly, really, seriously, simply, truly, comma, language, period, vocabulary, dizzy, fever, itch, pain, garbage, junk, litter, trash, common, familiar, normal, ordinary, popular, regular, usual, odd, rare, special, strange, weird, afraid, alarm, fear, nervous, anger, angry, dislike, hate, mad, expect, miss, need, selfish, want, wish, active, busy, eager, responsible, crazy, mad, wild, aquarium, canal, dam, dock, pool, baker, barber, butcher, army, navy, police, change, difference, different, opposite, unequal, unlike, chase, follow, track, crumble, crumple, shorten, shrink, tighten, divorce, separate, split, outline, pattern, shape, exercise, practice, stretch, blister, burn, scab, sunburn, dark, shade, shadow, avalanche, earthquake, flood, hop, jump, leap, lobster, shell, shrimp, snail, starfish, collar, horseshoe, leash, saddle, cruel, mean, unkind, violent, alone, bother, upset, belief, doubt, hope, trust, fuel, gas, grease, oil, doorknob, handle, knob, dial, ladder, pedal, switch, trigger, guest, stranger, visitor, sled, sleigh, snowplow, name, title, nickname, law, regulation, rule, church, shrine, temple, open, shut, strong, weak, delicate, barn, shed, thing, object, sharp, dull, angle, diameter, radius, secret, private, grow, survive, giant, dwarf, tractor, wheelbarrow, free, liberty, obedient, author, speaker, writer, garbageman, janitor, custodian, station, airport, stomach, heart, sand, pebble, quit, stop, kick, stamp, average, sum, total, gorilla, monkey, become, seem, pioneer, caveman, citizen, star, celebrity, admit, tattle, record, recording, video, attention, interest, process, recipe, routine, belief, opinion, bashful, shy, dishonest, naughty, unfair, faucet, hose, sprinkler, cloud, fog, barefoot, naked, boss, leader, owner, babysitter, paperboy, astronaut, geography, scientist, guard, prisoner, slave, carpenter, plumber, judge, lawyer, maid, servant, forest, jungle, field, prairie, building, tower, office, shop, farm, ranch, pack, tape, tie, wrap, fail, succeed, luckily, unfortunately, magic, trick, blind, cold, deaf, reflect, shine, twinkle, measure, weigh, thermometer, yardstick, dry, overcast, sunny, ash, smoke, caffeine, helium, oxygen, guilt, shame, worry, grouch, grumpy, rude, amaze, excite, surprise, skill, talent, beginner, expert, promise, define, lazy, lucky, strict, holy, careful, sideways, afloat, waiter, mailman, cowboy, customer, secretary, pilot, desert, hospital, monument, audience, plant, force, germ, invisible, cloud, neat, crawl, stand, math, have to, event, vote, pipe, paint, scare, jealous, magnet, machine, camera\""
   ]
  },
  {
   "cell_type": "markdown",
   "metadata": {},
   "source": [
    "# Date-Related Data"
   ]
  },
  {
   "cell_type": "markdown",
   "metadata": {},
   "source": [
    "In order to perform time-series analysis, I will use my model to predict on tweets ranging from the year 2010 to present-day. \n",
    "\n",
    "Use function to loop through list of dates (by month) to scrape up to 100 tweets from that timeframe and append new data to existing dataframe"
   ]
  },
  {
   "cell_type": "code",
   "execution_count": null,
   "metadata": {
    "ExecuteTime": {
     "start_time": "2020-12-22T14:05:15.167Z"
    }
   },
   "outputs": [],
   "source": [
    "# Neccessary imports\n",
    "import twint\n",
    "import nest_asyncio\n",
    "nest_asyncio.apply()"
   ]
  },
  {
   "cell_type": "code",
   "execution_count": 2,
   "metadata": {
    "ExecuteTime": {
     "end_time": "2020-12-21T16:15:05.451943Z",
     "start_time": "2020-12-21T16:15:05.441151Z"
    }
   },
   "outputs": [],
   "source": [
    "# Creating date list to input into twint\n",
    "date_since = ['2010-01-01',\n",
    "              '2010-02-01',\n",
    "              '2010-03-01',\n",
    "              '2010-04-01',\n",
    "              '2010-05-01',\n",
    "              '2010-06-01',\n",
    "              '2010-07-01',\n",
    "              '2010-08-01',\n",
    "              '2010-09-01',\n",
    "              '2010-10-01',\n",
    "              '2010-11-01',\n",
    "              '2010-12-01',\n",
    "              '2011-01-01',\n",
    "              '2011-02-01',\n",
    "              '2011-03-01',\n",
    "              '2011-04-01',\n",
    "              '2011-05-01',\n",
    "              '2011-06-01',\n",
    "              '2011-07-01',\n",
    "              '2011-08-01',\n",
    "              '2011-09-01',\n",
    "              '2011-10-01',\n",
    "              '2011-11-01',\n",
    "              '2011-12-01',\n",
    "              '2012-01-01',\n",
    "              '2012-02-01',\n",
    "              '2012-03-01',\n",
    "              '2012-04-01',\n",
    "              '2012-05-01',\n",
    "              '2012-06-01',\n",
    "              '2012-07-01',\n",
    "              '2012-08-01',\n",
    "              '2012-09-01',\n",
    "              '2012-10-01',\n",
    "              '2012-11-01',\n",
    "              '2012-12-01',\n",
    "              '2013-01-01',\n",
    "              '2013-02-01',\n",
    "              '2013-03-01',\n",
    "              '2013-04-01',\n",
    "              '2013-05-01',\n",
    "              '2013-06-01',\n",
    "              '2013-07-01',\n",
    "              '2013-08-01',\n",
    "              '2013-09-01',\n",
    "              '2013-10-01',\n",
    "              '2013-11-01',\n",
    "              '2013-12-01',\n",
    "              '2014-01-01',\n",
    "              '2014-02-01',\n",
    "              '2014-03-01',\n",
    "              '2014-04-01',\n",
    "              '2014-05-01',\n",
    "              '2014-06-01',\n",
    "              '2014-07-01',\n",
    "              '2014-08-01',\n",
    "              '2014-09-01',\n",
    "              '2014-10-01',\n",
    "              '2014-11-01',\n",
    "              '2014-12-01',\n",
    "              '2015-01-01',\n",
    "              '2015-02-01',\n",
    "              '2015-03-01',\n",
    "              '2015-04-01',\n",
    "              '2015-05-01',\n",
    "              '2015-06-01',\n",
    "              '2015-07-01',\n",
    "              '2015-08-01',\n",
    "              '2015-09-01',\n",
    "              '2015-10-01',\n",
    "              '2015-11-01',\n",
    "              '2015-12-01',\n",
    "              '2016-01-01',\n",
    "              '2016-02-01',\n",
    "              '2016-03-01',\n",
    "              '2016-04-01',\n",
    "              '2016-05-01',\n",
    "              '2016-06-01',\n",
    "              '2016-07-01',\n",
    "              '2016-08-01',\n",
    "              '2016-09-01',\n",
    "              '2016-10-01',\n",
    "              '2016-11-01',\n",
    "              '2016-12-01',\n",
    "              '2017-01-01',\n",
    "              '2017-02-01',\n",
    "              '2017-03-01',\n",
    "              '2017-04-01',\n",
    "              '2017-05-01',\n",
    "              '2017-06-01',\n",
    "              '2017-07-01',\n",
    "              '2017-08-01',\n",
    "              '2017-09-01',\n",
    "              '2017-10-01',\n",
    "              '2017-11-01',\n",
    "              '2017-12-01',\n",
    "              '2018-01-01',\n",
    "              '2018-02-01',\n",
    "              '2018-03-01',\n",
    "              '2018-04-01',\n",
    "              '2018-05-01',\n",
    "              '2018-06-01',\n",
    "              '2018-07-01',\n",
    "              '2018-08-01',\n",
    "              '2018-09-01',\n",
    "              '2018-10-01',\n",
    "              '2018-11-01',\n",
    "              '2018-12-01',\n",
    "              '2019-01-01',\n",
    "              '2019-02-01',\n",
    "              '2019-03-01',\n",
    "              '2019-04-01',\n",
    "              '2019-05-01',\n",
    "              '2019-06-01',\n",
    "              '2019-07-01',\n",
    "              '2019-08-01',\n",
    "              '2019-09-01',\n",
    "              '2019-10-01',\n",
    "              '2019-11-01',\n",
    "              '2019-12-01',\n",
    "              '2020-01-01',\n",
    "              '2020-02-01',\n",
    "              '2020-03-01',\n",
    "              '2020-04-01',\n",
    "              '2020-05-01',\n",
    "              '2020-06-01',\n",
    "              '2020-07-01',\n",
    "              '2020-08-01',\n",
    "              '2020-09-01',\n",
    "              '2020-10-01',\n",
    "              '2020-11-01']"
   ]
  },
  {
   "cell_type": "code",
   "execution_count": 5,
   "metadata": {
    "ExecuteTime": {
     "end_time": "2020-12-21T16:18:53.439827Z",
     "start_time": "2020-12-21T16:18:53.435731Z"
    }
   },
   "outputs": [],
   "source": [
    "date_until = []\n",
    "\n",
    "for date in date_since:\n",
    "    new_date = date.replace('-01','-31')\n",
    "    date_until.append(new_date)"
   ]
  },
  {
   "cell_type": "code",
   "execution_count": 6,
   "metadata": {
    "ExecuteTime": {
     "end_time": "2020-12-21T16:18:54.106427Z",
     "start_time": "2020-12-21T16:18:54.099271Z"
    }
   },
   "outputs": [
    {
     "data": {
      "text/plain": [
       "['2010-31-31',\n",
       " '2010-02-31',\n",
       " '2010-03-31',\n",
       " '2010-04-31',\n",
       " '2010-05-31',\n",
       " '2010-06-31',\n",
       " '2010-07-31',\n",
       " '2010-08-31',\n",
       " '2010-09-31',\n",
       " '2010-10-31',\n",
       " '2010-11-31',\n",
       " '2010-12-31',\n",
       " '2011-31-31',\n",
       " '2011-02-31',\n",
       " '2011-03-31',\n",
       " '2011-04-31',\n",
       " '2011-05-31',\n",
       " '2011-06-31',\n",
       " '2011-07-31',\n",
       " '2011-08-31',\n",
       " '2011-09-31',\n",
       " '2011-10-31',\n",
       " '2011-11-31',\n",
       " '2011-12-31',\n",
       " '2012-31-31',\n",
       " '2012-02-31',\n",
       " '2012-03-31',\n",
       " '2012-04-31',\n",
       " '2012-05-31',\n",
       " '2012-06-31',\n",
       " '2012-07-31',\n",
       " '2012-08-31',\n",
       " '2012-09-31',\n",
       " '2012-10-31',\n",
       " '2012-11-31',\n",
       " '2012-12-31',\n",
       " '2013-31-31',\n",
       " '2013-02-31',\n",
       " '2013-03-31',\n",
       " '2013-04-31',\n",
       " '2013-05-31',\n",
       " '2013-06-31',\n",
       " '2013-07-31',\n",
       " '2013-08-31',\n",
       " '2013-09-31',\n",
       " '2013-10-31',\n",
       " '2013-11-31',\n",
       " '2013-12-31',\n",
       " '2014-31-31',\n",
       " '2014-02-31',\n",
       " '2014-03-31',\n",
       " '2014-04-31',\n",
       " '2014-05-31',\n",
       " '2014-06-31',\n",
       " '2014-07-31',\n",
       " '2014-08-31',\n",
       " '2014-09-31',\n",
       " '2014-10-31',\n",
       " '2014-11-31',\n",
       " '2014-12-31',\n",
       " '2015-31-31',\n",
       " '2015-02-31',\n",
       " '2015-03-31',\n",
       " '2015-04-31',\n",
       " '2015-05-31',\n",
       " '2015-06-31',\n",
       " '2015-07-31',\n",
       " '2015-08-31',\n",
       " '2015-09-31',\n",
       " '2015-10-31',\n",
       " '2015-11-31',\n",
       " '2015-12-31',\n",
       " '2016-31-31',\n",
       " '2016-02-31',\n",
       " '2016-03-31',\n",
       " '2016-04-31',\n",
       " '2016-05-31',\n",
       " '2016-06-31',\n",
       " '2016-07-31',\n",
       " '2016-08-31',\n",
       " '2016-09-31',\n",
       " '2016-10-31',\n",
       " '2016-11-31',\n",
       " '2016-12-31',\n",
       " '2017-31-31',\n",
       " '2017-02-31',\n",
       " '2017-03-31',\n",
       " '2017-04-31',\n",
       " '2017-05-31',\n",
       " '2017-06-31',\n",
       " '2017-07-31',\n",
       " '2017-08-31',\n",
       " '2017-09-31',\n",
       " '2017-10-31',\n",
       " '2017-11-31',\n",
       " '2017-12-31',\n",
       " '2018-31-31',\n",
       " '2018-02-31',\n",
       " '2018-03-31',\n",
       " '2018-04-31',\n",
       " '2018-05-31',\n",
       " '2018-06-31',\n",
       " '2018-07-31',\n",
       " '2018-08-31',\n",
       " '2018-09-31',\n",
       " '2018-10-31',\n",
       " '2018-11-31',\n",
       " '2018-12-31',\n",
       " '2019-31-31',\n",
       " '2019-02-31',\n",
       " '2019-03-31',\n",
       " '2019-04-31',\n",
       " '2019-05-31',\n",
       " '2019-06-31',\n",
       " '2019-07-31',\n",
       " '2019-08-31',\n",
       " '2019-09-31',\n",
       " '2019-10-31',\n",
       " '2019-11-31',\n",
       " '2019-12-31',\n",
       " '2020-31-31',\n",
       " '2020-02-31',\n",
       " '2020-03-31',\n",
       " '2020-04-31',\n",
       " '2020-05-31',\n",
       " '2020-06-31',\n",
       " '2020-07-31',\n",
       " '2020-08-31',\n",
       " '2020-09-31',\n",
       " '2020-10-31',\n",
       " '2020-11-31']"
      ]
     },
     "execution_count": 6,
     "metadata": {},
     "output_type": "execute_result"
    }
   ],
   "source": [
    "date_until"
   ]
  },
  {
   "cell_type": "code",
   "execution_count": 7,
   "metadata": {
    "ExecuteTime": {
     "end_time": "2020-12-21T16:20:30.334045Z",
     "start_time": "2020-12-21T16:20:30.329875Z"
    }
   },
   "outputs": [],
   "source": [
    "merged_date_list = [(date_since[i], date_until[i]) for i in range(0, len(date_until))]"
   ]
  },
  {
   "cell_type": "code",
   "execution_count": 10,
   "metadata": {
    "ExecuteTime": {
     "end_time": "2020-12-21T16:21:07.862127Z",
     "start_time": "2020-12-21T16:21:07.855710Z"
    }
   },
   "outputs": [
    {
     "data": {
      "text/plain": [
       "'2010-01-01'"
      ]
     },
     "execution_count": 10,
     "metadata": {},
     "output_type": "execute_result"
    }
   ],
   "source": [
    "merged_date_list[0][0]"
   ]
  },
  {
   "cell_type": "code",
   "execution_count": 23,
   "metadata": {
    "ExecuteTime": {
     "end_time": "2020-12-21T21:06:30.531256Z",
     "start_time": "2020-12-21T21:06:30.304113Z"
    }
   },
   "outputs": [
    {
     "ename": "RefreshTokenException",
     "evalue": "Could not find the Guest token in HTML",
     "output_type": "error",
     "traceback": [
      "\u001b[0;31m---------------------------------------------------------------------------\u001b[0m",
      "\u001b[0;31mRefreshTokenException\u001b[0m                     Traceback (most recent call last)",
      "\u001b[0;32m<ipython-input-23-dc63da00496e>\u001b[0m in \u001b[0;36m<module>\u001b[0;34m\u001b[0m\n\u001b[1;32m     11\u001b[0m \u001b[0;34m\u001b[0m\u001b[0m\n\u001b[1;32m     12\u001b[0m \u001b[0;31m# Running search\u001b[0m\u001b[0;34m\u001b[0m\u001b[0;34m\u001b[0m\u001b[0;34m\u001b[0m\u001b[0m\n\u001b[0;32m---> 13\u001b[0;31m \u001b[0mtwint\u001b[0m\u001b[0;34m.\u001b[0m\u001b[0mrun\u001b[0m\u001b[0;34m.\u001b[0m\u001b[0mSearch\u001b[0m\u001b[0;34m(\u001b[0m\u001b[0mc\u001b[0m\u001b[0;34m)\u001b[0m\u001b[0;34m\u001b[0m\u001b[0;34m\u001b[0m\u001b[0m\n\u001b[0m\u001b[1;32m     14\u001b[0m \u001b[0;31m# Creating dataframe with results\u001b[0m\u001b[0;34m\u001b[0m\u001b[0;34m\u001b[0m\u001b[0;34m\u001b[0m\u001b[0m\n\u001b[1;32m     15\u001b[0m \u001b[0;31m# df = twint.storage.panda.Tweets_df\u001b[0m\u001b[0;34m\u001b[0m\u001b[0;34m\u001b[0m\u001b[0;34m\u001b[0m\u001b[0m\n",
      "\u001b[0;32m~/.local/lib/python3.6/site-packages/twint/run.py\u001b[0m in \u001b[0;36mSearch\u001b[0;34m(config, callback)\u001b[0m\n\u001b[1;32m    408\u001b[0m     \u001b[0mconfig\u001b[0m\u001b[0;34m.\u001b[0m\u001b[0mFollowers\u001b[0m \u001b[0;34m=\u001b[0m \u001b[0;32mFalse\u001b[0m\u001b[0;34m\u001b[0m\u001b[0;34m\u001b[0m\u001b[0m\n\u001b[1;32m    409\u001b[0m     \u001b[0mconfig\u001b[0m\u001b[0;34m.\u001b[0m\u001b[0mProfile\u001b[0m \u001b[0;34m=\u001b[0m \u001b[0;32mFalse\u001b[0m\u001b[0;34m\u001b[0m\u001b[0;34m\u001b[0m\u001b[0m\n\u001b[0;32m--> 410\u001b[0;31m     \u001b[0mrun\u001b[0m\u001b[0;34m(\u001b[0m\u001b[0mconfig\u001b[0m\u001b[0;34m,\u001b[0m \u001b[0mcallback\u001b[0m\u001b[0;34m)\u001b[0m\u001b[0;34m\u001b[0m\u001b[0;34m\u001b[0m\u001b[0m\n\u001b[0m\u001b[1;32m    411\u001b[0m     \u001b[0;32mif\u001b[0m \u001b[0mconfig\u001b[0m\u001b[0;34m.\u001b[0m\u001b[0mPandas_au\u001b[0m\u001b[0;34m:\u001b[0m\u001b[0;34m\u001b[0m\u001b[0;34m\u001b[0m\u001b[0m\n\u001b[1;32m    412\u001b[0m         \u001b[0mstorage\u001b[0m\u001b[0;34m.\u001b[0m\u001b[0mpanda\u001b[0m\u001b[0;34m.\u001b[0m\u001b[0m_autoget\u001b[0m\u001b[0;34m(\u001b[0m\u001b[0;34m\"tweet\"\u001b[0m\u001b[0;34m)\u001b[0m\u001b[0;34m\u001b[0m\u001b[0;34m\u001b[0m\u001b[0m\n",
      "\u001b[0;32m~/.local/lib/python3.6/site-packages/twint/run.py\u001b[0m in \u001b[0;36mrun\u001b[0;34m(config, callback)\u001b[0m\n\u001b[1;32m    327\u001b[0m         \u001b[0;32mraise\u001b[0m\u001b[0;34m\u001b[0m\u001b[0;34m\u001b[0m\u001b[0m\n\u001b[1;32m    328\u001b[0m \u001b[0;34m\u001b[0m\u001b[0m\n\u001b[0;32m--> 329\u001b[0;31m     \u001b[0mget_event_loop\u001b[0m\u001b[0;34m(\u001b[0m\u001b[0;34m)\u001b[0m\u001b[0;34m.\u001b[0m\u001b[0mrun_until_complete\u001b[0m\u001b[0;34m(\u001b[0m\u001b[0mTwint\u001b[0m\u001b[0;34m(\u001b[0m\u001b[0mconfig\u001b[0m\u001b[0;34m)\u001b[0m\u001b[0;34m.\u001b[0m\u001b[0mmain\u001b[0m\u001b[0;34m(\u001b[0m\u001b[0mcallback\u001b[0m\u001b[0;34m)\u001b[0m\u001b[0;34m)\u001b[0m\u001b[0;34m\u001b[0m\u001b[0;34m\u001b[0m\u001b[0m\n\u001b[0m\u001b[1;32m    330\u001b[0m \u001b[0;34m\u001b[0m\u001b[0m\n\u001b[1;32m    331\u001b[0m \u001b[0;34m\u001b[0m\u001b[0m\n",
      "\u001b[0;32m~/.local/lib/python3.6/site-packages/twint/run.py\u001b[0m in \u001b[0;36m__init__\u001b[0;34m(self, config)\u001b[0m\n\u001b[1;32m     34\u001b[0m         \u001b[0;31m# USAGE : to get a new guest token simply do `self.token.refresh()`\u001b[0m\u001b[0;34m\u001b[0m\u001b[0;34m\u001b[0m\u001b[0;34m\u001b[0m\u001b[0m\n\u001b[1;32m     35\u001b[0m         \u001b[0mself\u001b[0m\u001b[0;34m.\u001b[0m\u001b[0mtoken\u001b[0m \u001b[0;34m=\u001b[0m \u001b[0mtoken\u001b[0m\u001b[0;34m.\u001b[0m\u001b[0mToken\u001b[0m\u001b[0;34m(\u001b[0m\u001b[0mconfig\u001b[0m\u001b[0;34m)\u001b[0m\u001b[0;34m\u001b[0m\u001b[0;34m\u001b[0m\u001b[0m\n\u001b[0;32m---> 36\u001b[0;31m         \u001b[0mself\u001b[0m\u001b[0;34m.\u001b[0m\u001b[0mtoken\u001b[0m\u001b[0;34m.\u001b[0m\u001b[0mrefresh\u001b[0m\u001b[0;34m(\u001b[0m\u001b[0;34m)\u001b[0m\u001b[0;34m\u001b[0m\u001b[0;34m\u001b[0m\u001b[0m\n\u001b[0m\u001b[1;32m     37\u001b[0m         \u001b[0mself\u001b[0m\u001b[0;34m.\u001b[0m\u001b[0mconn\u001b[0m \u001b[0;34m=\u001b[0m \u001b[0mdb\u001b[0m\u001b[0;34m.\u001b[0m\u001b[0mConn\u001b[0m\u001b[0;34m(\u001b[0m\u001b[0mconfig\u001b[0m\u001b[0;34m.\u001b[0m\u001b[0mDatabase\u001b[0m\u001b[0;34m)\u001b[0m\u001b[0;34m\u001b[0m\u001b[0;34m\u001b[0m\u001b[0m\n\u001b[1;32m     38\u001b[0m         \u001b[0mself\u001b[0m\u001b[0;34m.\u001b[0m\u001b[0md\u001b[0m \u001b[0;34m=\u001b[0m \u001b[0mdatelock\u001b[0m\u001b[0;34m.\u001b[0m\u001b[0mSet\u001b[0m\u001b[0;34m(\u001b[0m\u001b[0mself\u001b[0m\u001b[0;34m.\u001b[0m\u001b[0mconfig\u001b[0m\u001b[0;34m.\u001b[0m\u001b[0mUntil\u001b[0m\u001b[0;34m,\u001b[0m \u001b[0mself\u001b[0m\u001b[0;34m.\u001b[0m\u001b[0mconfig\u001b[0m\u001b[0;34m.\u001b[0m\u001b[0mSince\u001b[0m\u001b[0;34m)\u001b[0m\u001b[0;34m\u001b[0m\u001b[0;34m\u001b[0m\u001b[0m\n",
      "\u001b[0;32m~/.local/lib/python3.6/site-packages/twint/token.py\u001b[0m in \u001b[0;36mrefresh\u001b[0;34m(self)\u001b[0m\n\u001b[1;32m     66\u001b[0m             \u001b[0mself\u001b[0m\u001b[0;34m.\u001b[0m\u001b[0mconfig\u001b[0m\u001b[0;34m.\u001b[0m\u001b[0mGuest_token\u001b[0m \u001b[0;34m=\u001b[0m \u001b[0mstr\u001b[0m\u001b[0;34m(\u001b[0m\u001b[0mmatch\u001b[0m\u001b[0;34m.\u001b[0m\u001b[0mgroup\u001b[0m\u001b[0;34m(\u001b[0m\u001b[0;36m1\u001b[0m\u001b[0;34m)\u001b[0m\u001b[0;34m)\u001b[0m\u001b[0;34m\u001b[0m\u001b[0;34m\u001b[0m\u001b[0m\n\u001b[1;32m     67\u001b[0m         \u001b[0;32melse\u001b[0m\u001b[0;34m:\u001b[0m\u001b[0;34m\u001b[0m\u001b[0;34m\u001b[0m\u001b[0m\n\u001b[0;32m---> 68\u001b[0;31m             \u001b[0mself\u001b[0m\u001b[0;34m.\u001b[0m\u001b[0mconfig\u001b[0m\u001b[0;34m.\u001b[0m\u001b[0mGuest_token\u001b[0m \u001b[0;34m=\u001b[0m \u001b[0;32mNone\u001b[0m\u001b[0;34m\u001b[0m\u001b[0;34m\u001b[0m\u001b[0m\n\u001b[0m\u001b[1;32m     69\u001b[0m             \u001b[0;32mraise\u001b[0m \u001b[0mRefreshTokenException\u001b[0m\u001b[0;34m(\u001b[0m\u001b[0;34m'Could not find the Guest token in HTML'\u001b[0m\u001b[0;34m)\u001b[0m\u001b[0;34m\u001b[0m\u001b[0;34m\u001b[0m\u001b[0m\n",
      "\u001b[0;31mRefreshTokenException\u001b[0m: Could not find the Guest token in HTML"
     ]
    }
   ],
   "source": [
    "# Configuring twint search\n",
    "c = twint.Config()\n",
    "# twint.token.Token(c).refresh()\n",
    "# c.Bearer_token= twint.run.bearer\n",
    "c.Search = \"pineapple\"\n",
    "c.Limit = 100\n",
    "c.Pandas = True\n",
    "# c.Hide_output = True\n",
    "# c.Since = date[0]\n",
    "# c.Until = date[1]\n",
    "\n",
    "# Running search\n",
    "twint.run.Search(c)\n",
    "# Creating dataframe with results\n",
    "# df = twint.storage.panda.Tweets_df\n",
    "\n",
    "# frames=[df,data_df]\n",
    "# full_df = pd.concat(frames)"
   ]
  },
  {
   "cell_type": "code",
   "execution_count": 14,
   "metadata": {
    "ExecuteTime": {
     "end_time": "2020-12-21T16:27:17.428449Z",
     "start_time": "2020-12-21T16:27:16.943659Z"
    }
   },
   "outputs": [
    {
     "ename": "RefreshTokenException",
     "evalue": "Could not find the Guest token in HTML",
     "output_type": "error",
     "traceback": [
      "\u001b[0;31m---------------------------------------------------------------------------\u001b[0m",
      "\u001b[0;31mRefreshTokenException\u001b[0m                     Traceback (most recent call last)",
      "\u001b[0;32m<ipython-input-14-b63f10916451>\u001b[0m in \u001b[0;36m<module>\u001b[0;34m\u001b[0m\n\u001b[1;32m     13\u001b[0m \u001b[0;34m\u001b[0m\u001b[0m\n\u001b[1;32m     14\u001b[0m     \u001b[0;31m# Running search\u001b[0m\u001b[0;34m\u001b[0m\u001b[0;34m\u001b[0m\u001b[0;34m\u001b[0m\u001b[0m\n\u001b[0;32m---> 15\u001b[0;31m     \u001b[0mtwint\u001b[0m\u001b[0;34m.\u001b[0m\u001b[0mrun\u001b[0m\u001b[0;34m.\u001b[0m\u001b[0mSearch\u001b[0m\u001b[0;34m(\u001b[0m\u001b[0mc\u001b[0m\u001b[0;34m)\u001b[0m\u001b[0;34m\u001b[0m\u001b[0;34m\u001b[0m\u001b[0m\n\u001b[0m\u001b[1;32m     16\u001b[0m     \u001b[0;31m# Creating dataframe with results\u001b[0m\u001b[0;34m\u001b[0m\u001b[0;34m\u001b[0m\u001b[0;34m\u001b[0m\u001b[0m\n\u001b[1;32m     17\u001b[0m     \u001b[0mdf\u001b[0m \u001b[0;34m=\u001b[0m \u001b[0mtwint\u001b[0m\u001b[0;34m.\u001b[0m\u001b[0mstorage\u001b[0m\u001b[0;34m.\u001b[0m\u001b[0mpanda\u001b[0m\u001b[0;34m.\u001b[0m\u001b[0mTweets_df\u001b[0m\u001b[0;34m\u001b[0m\u001b[0;34m\u001b[0m\u001b[0m\n",
      "\u001b[0;32m~/.local/lib/python3.6/site-packages/twint/run.py\u001b[0m in \u001b[0;36mSearch\u001b[0;34m(config, callback)\u001b[0m\n\u001b[1;32m    408\u001b[0m     \u001b[0mconfig\u001b[0m\u001b[0;34m.\u001b[0m\u001b[0mFollowers\u001b[0m \u001b[0;34m=\u001b[0m \u001b[0;32mFalse\u001b[0m\u001b[0;34m\u001b[0m\u001b[0;34m\u001b[0m\u001b[0m\n\u001b[1;32m    409\u001b[0m     \u001b[0mconfig\u001b[0m\u001b[0;34m.\u001b[0m\u001b[0mProfile\u001b[0m \u001b[0;34m=\u001b[0m \u001b[0;32mFalse\u001b[0m\u001b[0;34m\u001b[0m\u001b[0;34m\u001b[0m\u001b[0m\n\u001b[0;32m--> 410\u001b[0;31m     \u001b[0mrun\u001b[0m\u001b[0;34m(\u001b[0m\u001b[0mconfig\u001b[0m\u001b[0;34m,\u001b[0m \u001b[0mcallback\u001b[0m\u001b[0;34m)\u001b[0m\u001b[0;34m\u001b[0m\u001b[0;34m\u001b[0m\u001b[0m\n\u001b[0m\u001b[1;32m    411\u001b[0m     \u001b[0;32mif\u001b[0m \u001b[0mconfig\u001b[0m\u001b[0;34m.\u001b[0m\u001b[0mPandas_au\u001b[0m\u001b[0;34m:\u001b[0m\u001b[0;34m\u001b[0m\u001b[0;34m\u001b[0m\u001b[0m\n\u001b[1;32m    412\u001b[0m         \u001b[0mstorage\u001b[0m\u001b[0;34m.\u001b[0m\u001b[0mpanda\u001b[0m\u001b[0;34m.\u001b[0m\u001b[0m_autoget\u001b[0m\u001b[0;34m(\u001b[0m\u001b[0;34m\"tweet\"\u001b[0m\u001b[0;34m)\u001b[0m\u001b[0;34m\u001b[0m\u001b[0;34m\u001b[0m\u001b[0m\n",
      "\u001b[0;32m~/.local/lib/python3.6/site-packages/twint/run.py\u001b[0m in \u001b[0;36mrun\u001b[0;34m(config, callback)\u001b[0m\n\u001b[1;32m    327\u001b[0m         \u001b[0;32mraise\u001b[0m\u001b[0;34m\u001b[0m\u001b[0;34m\u001b[0m\u001b[0m\n\u001b[1;32m    328\u001b[0m \u001b[0;34m\u001b[0m\u001b[0m\n\u001b[0;32m--> 329\u001b[0;31m     \u001b[0mget_event_loop\u001b[0m\u001b[0;34m(\u001b[0m\u001b[0;34m)\u001b[0m\u001b[0;34m.\u001b[0m\u001b[0mrun_until_complete\u001b[0m\u001b[0;34m(\u001b[0m\u001b[0mTwint\u001b[0m\u001b[0;34m(\u001b[0m\u001b[0mconfig\u001b[0m\u001b[0;34m)\u001b[0m\u001b[0;34m.\u001b[0m\u001b[0mmain\u001b[0m\u001b[0;34m(\u001b[0m\u001b[0mcallback\u001b[0m\u001b[0;34m)\u001b[0m\u001b[0;34m)\u001b[0m\u001b[0;34m\u001b[0m\u001b[0;34m\u001b[0m\u001b[0m\n\u001b[0m\u001b[1;32m    330\u001b[0m \u001b[0;34m\u001b[0m\u001b[0m\n\u001b[1;32m    331\u001b[0m \u001b[0;34m\u001b[0m\u001b[0m\n",
      "\u001b[0;32m~/.local/lib/python3.6/site-packages/twint/run.py\u001b[0m in \u001b[0;36m__init__\u001b[0;34m(self, config)\u001b[0m\n\u001b[1;32m     34\u001b[0m         \u001b[0;31m# USAGE : to get a new guest token simply do `self.token.refresh()`\u001b[0m\u001b[0;34m\u001b[0m\u001b[0;34m\u001b[0m\u001b[0;34m\u001b[0m\u001b[0m\n\u001b[1;32m     35\u001b[0m         \u001b[0mself\u001b[0m\u001b[0;34m.\u001b[0m\u001b[0mtoken\u001b[0m \u001b[0;34m=\u001b[0m \u001b[0mtoken\u001b[0m\u001b[0;34m.\u001b[0m\u001b[0mToken\u001b[0m\u001b[0;34m(\u001b[0m\u001b[0mconfig\u001b[0m\u001b[0;34m)\u001b[0m\u001b[0;34m\u001b[0m\u001b[0;34m\u001b[0m\u001b[0m\n\u001b[0;32m---> 36\u001b[0;31m         \u001b[0mself\u001b[0m\u001b[0;34m.\u001b[0m\u001b[0mtoken\u001b[0m\u001b[0;34m.\u001b[0m\u001b[0mrefresh\u001b[0m\u001b[0;34m(\u001b[0m\u001b[0;34m)\u001b[0m\u001b[0;34m\u001b[0m\u001b[0;34m\u001b[0m\u001b[0m\n\u001b[0m\u001b[1;32m     37\u001b[0m         \u001b[0mself\u001b[0m\u001b[0;34m.\u001b[0m\u001b[0mconn\u001b[0m \u001b[0;34m=\u001b[0m \u001b[0mdb\u001b[0m\u001b[0;34m.\u001b[0m\u001b[0mConn\u001b[0m\u001b[0;34m(\u001b[0m\u001b[0mconfig\u001b[0m\u001b[0;34m.\u001b[0m\u001b[0mDatabase\u001b[0m\u001b[0;34m)\u001b[0m\u001b[0;34m\u001b[0m\u001b[0;34m\u001b[0m\u001b[0m\n\u001b[1;32m     38\u001b[0m         \u001b[0mself\u001b[0m\u001b[0;34m.\u001b[0m\u001b[0md\u001b[0m \u001b[0;34m=\u001b[0m \u001b[0mdatelock\u001b[0m\u001b[0;34m.\u001b[0m\u001b[0mSet\u001b[0m\u001b[0;34m(\u001b[0m\u001b[0mself\u001b[0m\u001b[0;34m.\u001b[0m\u001b[0mconfig\u001b[0m\u001b[0;34m.\u001b[0m\u001b[0mUntil\u001b[0m\u001b[0;34m,\u001b[0m \u001b[0mself\u001b[0m\u001b[0;34m.\u001b[0m\u001b[0mconfig\u001b[0m\u001b[0;34m.\u001b[0m\u001b[0mSince\u001b[0m\u001b[0;34m)\u001b[0m\u001b[0;34m\u001b[0m\u001b[0;34m\u001b[0m\u001b[0m\n",
      "\u001b[0;32m~/.local/lib/python3.6/site-packages/twint/token.py\u001b[0m in \u001b[0;36mrefresh\u001b[0;34m(self)\u001b[0m\n\u001b[1;32m     66\u001b[0m         \u001b[0;32melse\u001b[0m\u001b[0;34m:\u001b[0m\u001b[0;34m\u001b[0m\u001b[0;34m\u001b[0m\u001b[0m\n\u001b[1;32m     67\u001b[0m             \u001b[0mself\u001b[0m\u001b[0;34m.\u001b[0m\u001b[0mconfig\u001b[0m\u001b[0;34m.\u001b[0m\u001b[0mGuest_token\u001b[0m \u001b[0;34m=\u001b[0m \u001b[0;32mNone\u001b[0m\u001b[0;34m\u001b[0m\u001b[0;34m\u001b[0m\u001b[0m\n\u001b[0;32m---> 68\u001b[0;31m             \u001b[0;32mraise\u001b[0m \u001b[0mRefreshTokenException\u001b[0m\u001b[0;34m(\u001b[0m\u001b[0;34m'Could not find the Guest token in HTML'\u001b[0m\u001b[0;34m)\u001b[0m\u001b[0;34m\u001b[0m\u001b[0;34m\u001b[0m\u001b[0m\n\u001b[0m",
      "\u001b[0;31mRefreshTokenException\u001b[0m: Could not find the Guest token in HTML"
     ]
    }
   ],
   "source": [
    "import pandas as pd\n",
    "data_df = pd.DataFrame()\n",
    "\n",
    "for date in merged_date_list:\n",
    "    # Configuring twint search\n",
    "    c = twint.Config()\n",
    "    c.Search = \"climate%change\"\n",
    "    c.Limit = 1000\n",
    "    c.Pandas = True\n",
    "    c.Hide_output = True\n",
    "    c.Since = date[0]\n",
    "    c.Until = date[1]\n",
    "\n",
    "    # Running search\n",
    "    twint.run.Search(c)\n",
    "    # Creating dataframe with results\n",
    "    df = twint.storage.panda.Tweets_df\n",
    "    \n",
    "    frames=[df,data_df]\n",
    "    full_df = pd.concat(frames)"
   ]
  },
  {
   "cell_type": "markdown",
   "metadata": {},
   "source": [
    "# Location-Related Data"
   ]
  },
  {
   "cell_type": "code",
   "execution_count": 1,
   "metadata": {
    "ExecuteTime": {
     "end_time": "2020-12-28T17:42:21.871801Z",
     "start_time": "2020-12-28T17:42:20.523848Z"
    }
   },
   "outputs": [],
   "source": [
    "# Necessary imports\n",
    "import pandas as pd\n",
    "import json\n",
    "import tweepy"
   ]
  },
  {
   "cell_type": "code",
   "execution_count": 2,
   "metadata": {
    "ExecuteTime": {
     "end_time": "2020-12-28T17:42:22.426036Z",
     "start_time": "2020-12-28T17:42:22.373813Z"
    }
   },
   "outputs": [],
   "source": [
    "# Retrieving personal credentials for tweepy\n",
    "with open('/Users/MichaelWirtz/Desktop/pathfile/twitter_credentials_final.json') as f:\n",
    "    credentials = json.load(f)"
   ]
  },
  {
   "cell_type": "code",
   "execution_count": 3,
   "metadata": {
    "ExecuteTime": {
     "end_time": "2020-12-28T17:42:23.426253Z",
     "start_time": "2020-12-28T17:42:23.422056Z"
    }
   },
   "outputs": [],
   "source": [
    "# Accessing twitter api with credentials\n",
    "auth = tweepy.OAuthHandler(credentials['CONSUMER_KEY'], credentials['CONSUMER_SECRET'])\n",
    "auth.set_access_token(credentials['ACCESS_TOKEN'], credentials['ACCESS_SECRET'])\n",
    "api = tweepy.API(auth, wait_on_rate_limit=True)"
   ]
  },
  {
   "cell_type": "code",
   "execution_count": null,
   "metadata": {
    "ExecuteTime": {
     "start_time": "2020-12-28T17:42:42.478Z"
    }
   },
   "outputs": [],
   "source": [
    "# Searching twitter api\n",
    "tweets = tweepy.Cursor(api.search,\n",
    "                       q = 'climate%change',\n",
    "                       lang = 'en',\n",
    "                       since = '2020-12-21').items(50000)\n",
    "\n",
    "# Grabbing location, coordinates, place, and text for each tweet\n",
    "tweepy_data = [[tweet.user.location, tweet.coordinates, tweet.place, tweet.text] for tweet in tweets]"
   ]
  },
  {
   "cell_type": "code",
   "execution_count": null,
   "metadata": {
    "ExecuteTime": {
     "start_time": "2020-12-28T17:42:42.833Z"
    }
   },
   "outputs": [],
   "source": [
    "# Creating dataframe from api search\n",
    "tweepy_df = pd.DataFrame(data=tweepy_data, \n",
    "                    columns=['location', \"coordinates\",\"place\",\"text\"])\n",
    "tweepy_df.head()"
   ]
  },
  {
   "cell_type": "code",
   "execution_count": null,
   "metadata": {
    "ExecuteTime": {
     "start_time": "2020-12-28T17:42:43.225Z"
    }
   },
   "outputs": [],
   "source": [
    "# Checking for number of tweets grabbed\n",
    "tweepy_df.shape"
   ]
  },
  {
   "cell_type": "code",
   "execution_count": null,
   "metadata": {
    "ExecuteTime": {
     "start_time": "2020-12-28T17:42:43.948Z"
    }
   },
   "outputs": [],
   "source": [
    "'''\n",
    "Saving daily api grab to csv files\n",
    "'''\n",
    "### DAY 1 ###\n",
    "# tweepy_df.to_csv('./location_tweets/date_tweets_day_1.csv')\n",
    "\n",
    "### DAY 2 ###\n",
    "# tweepy_df.to_csv('./location_tweets/date_tweets_day_2.csv')\n",
    "\n",
    "### DAY 3 ###\n",
    "# tweepy_df.to_csv('./location_tweets/date_tweets_day_3.csv')\n",
    "\n",
    "### DAY 4 ###\n",
    "# tweepy_df.to_csv('./location_tweets/date_tweets_day_4.csv')\n",
    "\n",
    "### DAY 5 ###\n",
    "# tweepy_df.to_csv('./location_tweets/date_tweets_day_5.csv')\n",
    "\n",
    "### DAY 6 ###\n",
    "tweepy_df.to_csv('./location_tweets/date_tweets_day_6.csv')"
   ]
  },
  {
   "cell_type": "markdown",
   "metadata": {},
   "source": [
    "Use these dictionaries to create counts for each state appearing within the location portion of the dataframe\n",
    "\n",
    "### MAKE SURE TO ALSO USE STATE SYMBOLS (NY, ETC) instead of just full names"
   ]
  },
  {
   "cell_type": "code",
   "execution_count": 92,
   "metadata": {
    "ExecuteTime": {
     "end_time": "2020-12-15T02:47:43.622196Z",
     "start_time": "2020-12-15T02:47:43.609205Z"
    }
   },
   "outputs": [
    {
     "data": {
      "text/plain": [
       "dict_keys(['alabama', 'alaska', 'arizona', 'arkansas', 'california', 'colorado', 'connecticut', 'delaware', 'florida', 'georgia', 'hawaii', 'idaho', 'illinois', 'indiana', 'iowa', 'kansas', 'kentucky', 'louisiana', 'maine', 'maryland', 'massachusetts', 'michigan', 'minnesota', 'mississippi', 'missouri', 'montana', 'nebraska', 'nevada', 'new hampshire', 'new jersey', 'new york', 'new mexico', 'north carolina', 'north dakota', 'ohio', 'oklahoma', 'oregon', 'pennsylvania', 'rhode island', 'south carolina', 'south dakota', 'tennessee', 'texas', 'utah', 'vermont', 'virginia', 'washington', 'west virginia', 'wisconsin', 'wyoming'])"
      ]
     },
     "execution_count": 92,
     "metadata": {},
     "output_type": "execute_result"
    }
   ],
   "source": [
    "states_dict_anti = {'alabama': 0,'alaska': 0,'arizona': 0,'arkansas': 0,'california': 0,'colorado': 0,'connecticut': 0,'delaware': 0,'florida': 0,'georgia': 0,'hawaii': 0,'idaho': 0,'illinois': 0,'indiana': 0,'iowa': 0,'kansas': 0,'kentucky': 0,'louisiana': 0,'maine': 0,'maryland': 0,'massachusetts': 0,'michigan': 0,'minnesota': 0,'mississippi': 0,'missouri': 0,'montana': 0,'nebraska': 0,'nevada': 0,'new hampshire': 0,'new jersey': 0,'new york': 0,'new mexico': 0,'north carolina': 0,'north dakota': 0,'ohio': 0,'oklahoma': 0,'oregon': 0,'pennsylvania': 0,'rhode island': 0,'south carolina': 0,'south dakota': 0,'tennessee': 0,'texas': 0,'utah': 0,'vermont': 0,'virginia': 0,'washington': 0,'west virginia': 0,'wisconsin': 0,'wyoming': 0}\n",
    "states_dict_neutral = {'alabama': 0,'alaska': 0,'arizona': 0,'arkansas': 0,'california': 0,'colorado': 0,'connecticut': 0,'delaware': 0,'florida': 0,'georgia': 0,'hawaii': 0,'idaho': 0,'illinois': 0,'indiana': 0,'iowa': 0,'kansas': 0,'kentucky': 0,'louisiana': 0,'maine': 0,'maryland': 0,'massachusetts': 0,'michigan': 0,'minnesota': 0,'mississippi': 0,'missouri': 0,'montana': 0,'nebraska': 0,'nevada': 0,'new hampshire': 0,'new jersey': 0,'new york': 0,'new mexico': 0,'north carolina': 0,'north dakota': 0,'ohio': 0,'oklahoma': 0,'oregon': 0,'pennsylvania': 0,'rhode island': 0,'south carolina': 0,'south dakota': 0,'tennessee': 0,'texas': 0,'utah': 0,'vermont': 0,'virginia': 0,'washington': 0,'west virginia': 0,'wisconsin': 0,'wyoming': 0}\n",
    "states_dict_man = {'alabama': 0,'alaska': 0,'arizona': 0,'arkansas': 0,'california': 0,'colorado': 0,'connecticut': 0,'delaware': 0,'florida': 0,'georgia': 0,'hawaii': 0,'idaho': 0,'illinois': 0,'indiana': 0,'iowa': 0,'kansas': 0,'kentucky': 0,'louisiana': 0,'maine': 0,'maryland': 0,'massachusetts': 0,'michigan': 0,'minnesota': 0,'mississippi': 0,'missouri': 0,'montana': 0,'nebraska': 0,'nevada': 0,'new hampshire': 0,'new jersey': 0,'new york': 0,'new mexico': 0,'north carolina': 0,'north dakota': 0,'ohio': 0,'oklahoma': 0,'oregon': 0,'pennsylvania': 0,'rhode island': 0,'south carolina': 0,'south dakota': 0,'tennessee': 0,'texas': 0,'utah': 0,'vermont': 0,'virginia': 0,'washington': 0,'west virginia': 0,'wisconsin': 0,'wyoming': 0}\n",
    "states_dict_news = {'alabama': 0,'alaska': 0,'arizona': 0,'arkansas': 0,'california': 0,'colorado': 0,'connecticut': 0,'delaware': 0,'florida': 0,'georgia': 0,'hawaii': 0,'idaho': 0,'illinois': 0,'indiana': 0,'iowa': 0,'kansas': 0,'kentucky': 0,'louisiana': 0,'maine': 0,'maryland': 0,'massachusetts': 0,'michigan': 0,'minnesota': 0,'mississippi': 0,'missouri': 0,'montana': 0,'nebraska': 0,'nevada': 0,'new hampshire': 0,'new jersey': 0,'new york': 0,'new mexico': 0,'north carolina': 0,'north dakota': 0,'ohio': 0,'oklahoma': 0,'oregon': 0,'pennsylvania': 0,'rhode island': 0,'south carolina': 0,'south dakota': 0,'tennessee': 0,'texas': 0,'utah': 0,'vermont': 0,'virginia': 0,'washington': 0,'west virginia': 0,'wisconsin': 0,'wyoming': 0}"
   ]
  }
 ],
 "metadata": {
  "kernelspec": {
   "display_name": "learn-env",
   "language": "python",
   "name": "learn-env"
  },
  "language_info": {
   "codemirror_mode": {
    "name": "ipython",
    "version": 3
   },
   "file_extension": ".py",
   "mimetype": "text/x-python",
   "name": "python",
   "nbconvert_exporter": "python",
   "pygments_lexer": "ipython3",
   "version": "3.6.9"
  },
  "toc": {
   "base_numbering": 1,
   "nav_menu": {},
   "number_sections": true,
   "sideBar": true,
   "skip_h1_title": false,
   "title_cell": "Table of Contents",
   "title_sidebar": "Contents",
   "toc_cell": false,
   "toc_position": {},
   "toc_section_display": true,
   "toc_window_display": false
  },
  "varInspector": {
   "cols": {
    "lenName": 16,
    "lenType": 16,
    "lenVar": 40
   },
   "kernels_config": {
    "python": {
     "delete_cmd_postfix": "",
     "delete_cmd_prefix": "del ",
     "library": "var_list.py",
     "varRefreshCmd": "print(var_dic_list())"
    },
    "r": {
     "delete_cmd_postfix": ") ",
     "delete_cmd_prefix": "rm(",
     "library": "var_list.r",
     "varRefreshCmd": "cat(var_dic_list()) "
    }
   },
   "types_to_exclude": [
    "module",
    "function",
    "builtin_function_or_method",
    "instance",
    "_Feature"
   ],
   "window_display": false
  }
 },
 "nbformat": 4,
 "nbformat_minor": 4
}
