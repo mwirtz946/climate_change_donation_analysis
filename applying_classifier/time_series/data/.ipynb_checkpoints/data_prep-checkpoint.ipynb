{
 "cells": [
  {
   "cell_type": "markdown",
   "metadata": {},
   "source": [
    "# Overview"
   ]
  },
  {
   "cell_type": "markdown",
   "metadata": {},
   "source": [
    "In this notebook, raw data scraped using twint will be adapted to provide time-series information. This process will include: \n",
    "\n",
    "1. [Imports](#Imports)\n",
    "2. [Classifying Location Tweets](#Classifying-Location-Tweets)  \n",
    "    a. [Retrain TF-IDF](#Retrain-TF-IDF)  \n",
    "    b. [Load Pickled Model](#Load-Pickled-Model)  \n",
    "    c. [Cleaning Tweets](#Cleaning-Tweets)  \n",
    "    d. [Transforming Tweets](#Transforming-Tweets)  \n",
    "    e. [Predicting Sentiment](#Predicting-Sentiment)\n",
    "3. [Formatting Data](#Formatting-Data) \n"
   ]
  },
  {
   "cell_type": "markdown",
   "metadata": {},
   "source": [
    "# Imports"
   ]
  },
  {
   "cell_type": "markdown",
   "metadata": {},
   "source": [
    "For further information, all imports and functions for this notebook are located [here](./time_series_functions.py)"
   ]
  },
  {
   "cell_type": "code",
   "execution_count": 1,
   "metadata": {
    "ExecuteTime": {
     "end_time": "2021-01-02T16:00:41.244915Z",
     "start_time": "2021-01-02T16:00:25.202428Z"
    }
   },
   "outputs": [],
   "source": [
    "# All necessary imports\n",
    "from time_series_functions import *"
   ]
  },
  {
   "cell_type": "code",
   "execution_count": 2,
   "metadata": {
    "ExecuteTime": {
     "end_time": "2021-01-02T16:00:44.573875Z",
     "start_time": "2021-01-02T16:00:44.555553Z"
    }
   },
   "outputs": [
    {
     "data": {
      "text/html": [
       "<div>\n",
       "<style scoped>\n",
       "    .dataframe tbody tr th:only-of-type {\n",
       "        vertical-align: middle;\n",
       "    }\n",
       "\n",
       "    .dataframe tbody tr th {\n",
       "        vertical-align: top;\n",
       "    }\n",
       "\n",
       "    .dataframe thead th {\n",
       "        text-align: right;\n",
       "    }\n",
       "</style>\n",
       "<table border=\"1\" class=\"dataframe\">\n",
       "  <thead>\n",
       "    <tr style=\"text-align: right;\">\n",
       "      <th></th>\n",
       "      <th>date</th>\n",
       "      <th>tweet</th>\n",
       "    </tr>\n",
       "  </thead>\n",
       "  <tbody>\n",
       "    <tr>\n",
       "      <th>0</th>\n",
       "      <td>2010-01-01 18:57:56</td>\n",
       "      <td>@nkean agreed about the Gulf News, A platform ...</td>\n",
       "    </tr>\n",
       "    <tr>\n",
       "      <th>1</th>\n",
       "      <td>2010-01-01 18:56:22</td>\n",
       "      <td>\"I'm sorry. We could have stopped catastrophic...</td>\n",
       "    </tr>\n",
       "    <tr>\n",
       "      <th>2</th>\n",
       "      <td>2010-01-01 18:55:54</td>\n",
       "      <td>no, I don't believe in human induced climate c...</td>\n",
       "    </tr>\n",
       "    <tr>\n",
       "      <th>3</th>\n",
       "      <td>2010-01-01 18:54:28</td>\n",
       "      <td>Putting climate change skepticism in perspecti...</td>\n",
       "    </tr>\n",
       "    <tr>\n",
       "      <th>4</th>\n",
       "      <td>2010-01-01 18:51:42</td>\n",
       "      <td>Point and Counter-Point Chart Sums Up the Clim...</td>\n",
       "    </tr>\n",
       "  </tbody>\n",
       "</table>\n",
       "</div>"
      ],
      "text/plain": [
       "                  date                                              tweet\n",
       "0  2010-01-01 18:57:56  @nkean agreed about the Gulf News, A platform ...\n",
       "1  2010-01-01 18:56:22  \"I'm sorry. We could have stopped catastrophic...\n",
       "2  2010-01-01 18:55:54  no, I don't believe in human induced climate c...\n",
       "3  2010-01-01 18:54:28  Putting climate change skepticism in perspecti...\n",
       "4  2010-01-01 18:51:42  Point and Counter-Point Chart Sums Up the Clim..."
      ]
     },
     "execution_count": 2,
     "metadata": {},
     "output_type": "execute_result"
    }
   ],
   "source": [
    "#Checking dataframe\n",
    "data.head()"
   ]
  },
  {
   "cell_type": "markdown",
   "metadata": {},
   "source": [
    "# Classifying Date Tweets"
   ]
  },
  {
   "cell_type": "markdown",
   "metadata": {},
   "source": [
    "Using classifier to predict on data. Below is the process through which these predictions are made. The steps include: (1) Retraining TF-IDF vectorizer in order to transform new data; (2) Loading in model with pickle; (3) Cleaning and lemmitizing tweets; (4) Transforming new tweets with vectorizer that is fit in step 1; (5) Predict on tweet sentiment."
   ]
  },
  {
   "cell_type": "markdown",
   "metadata": {},
   "source": [
    "## Retrain TF-IDF"
   ]
  },
  {
   "cell_type": "code",
   "execution_count": 3,
   "metadata": {
    "ExecuteTime": {
     "end_time": "2021-01-02T16:00:49.117237Z",
     "start_time": "2021-01-02T16:00:48.252849Z"
    }
   },
   "outputs": [],
   "source": [
    "# Reading in data for TF-IDF training\n",
    "train_data = pd.read_csv('/Users/MichaelWirtz/Desktop/final_project/climate_change_sentiment/building_classifier/data/prepared_twitter_sentiment_data.csv')\n",
    "# Drop 31 rows with missing message column\n",
    "train_data.dropna(inplace=True)\n",
    "# Instantiate vectorizer\n",
    "tfidf = TfidfVectorizer(ngram_range= (1,1))\n",
    "# Fit to training data\n",
    "tfidf_train = tfidf.fit_transform(train_data.message)"
   ]
  },
  {
   "cell_type": "markdown",
   "metadata": {},
   "source": [
    "## Load Pickled Model"
   ]
  },
  {
   "cell_type": "code",
   "execution_count": 4,
   "metadata": {
    "ExecuteTime": {
     "end_time": "2021-01-02T16:00:52.969187Z",
     "start_time": "2021-01-02T16:00:52.942939Z"
    }
   },
   "outputs": [],
   "source": [
    "# Load in classifier\n",
    "model = pickle.load(open(\"/Users/MichaelWirtz/Desktop/final_project/climate_change_sentiment/building_classifier/best_model.pickle\", \"rb\" ))"
   ]
  },
  {
   "cell_type": "markdown",
   "metadata": {},
   "source": [
    "## Cleaning  Tweets"
   ]
  },
  {
   "cell_type": "code",
   "execution_count": 5,
   "metadata": {
    "ExecuteTime": {
     "end_time": "2021-01-02T16:18:44.956744Z",
     "start_time": "2021-01-02T16:00:56.955371Z"
    }
   },
   "outputs": [
    {
     "data": {
      "text/html": [
       "<div>\n",
       "<style scoped>\n",
       "    .dataframe tbody tr th:only-of-type {\n",
       "        vertical-align: middle;\n",
       "    }\n",
       "\n",
       "    .dataframe tbody tr th {\n",
       "        vertical-align: top;\n",
       "    }\n",
       "\n",
       "    .dataframe thead th {\n",
       "        text-align: right;\n",
       "    }\n",
       "</style>\n",
       "<table border=\"1\" class=\"dataframe\">\n",
       "  <thead>\n",
       "    <tr style=\"text-align: right;\">\n",
       "      <th></th>\n",
       "      <th>date</th>\n",
       "      <th>tweet</th>\n",
       "    </tr>\n",
       "  </thead>\n",
       "  <tbody>\n",
       "    <tr>\n",
       "      <th>0</th>\n",
       "      <td>2010-01-01 18:57:56</td>\n",
       "      <td>agreed gulf news platform act climate denier s...</td>\n",
       "    </tr>\n",
       "    <tr>\n",
       "      <th>1</th>\n",
       "      <td>2010-01-01 18:56:22</td>\n",
       "      <td>sorry could stopped catastrophic climate change</td>\n",
       "    </tr>\n",
       "    <tr>\n",
       "      <th>2</th>\n",
       "      <td>2010-01-01 18:55:54</td>\n",
       "      <td>believe human induced climate change sun stupid</td>\n",
       "    </tr>\n",
       "    <tr>\n",
       "      <th>3</th>\n",
       "      <td>2010-01-01 18:54:28</td>\n",
       "      <td>putting climate change skepticism perspective</td>\n",
       "    </tr>\n",
       "    <tr>\n",
       "      <th>4</th>\n",
       "      <td>2010-01-01 18:51:42</td>\n",
       "      <td>point counter point chart sum climate change d...</td>\n",
       "    </tr>\n",
       "  </tbody>\n",
       "</table>\n",
       "</div>"
      ],
      "text/plain": [
       "                  date                                              tweet\n",
       "0  2010-01-01 18:57:56  agreed gulf news platform act climate denier s...\n",
       "1  2010-01-01 18:56:22    sorry could stopped catastrophic climate change\n",
       "2  2010-01-01 18:55:54    believe human induced climate change sun stupid\n",
       "3  2010-01-01 18:54:28      putting climate change skepticism perspective\n",
       "4  2010-01-01 18:51:42  point counter point chart sum climate change d..."
      ]
     },
     "execution_count": 5,
     "metadata": {},
     "output_type": "execute_result"
    }
   ],
   "source": [
    "# Convert each tweet observation to type str\n",
    "data.tweet = data.tweet.apply(lambda x: str(x))\n",
    "# Clean each tweet with function\n",
    "data.tweet = data.tweet.apply(lambda x: clean_tweet(x))\n",
    "# Removing duplicate data that may skew results\n",
    "data = data.drop_duplicates()\n",
    "# Lemmitizing tweets\n",
    "data.tweet = data.tweet.apply(lambda x: lemmatize_tweet(x))\n",
    "# Checking dataframe\n",
    "data.head()"
   ]
  },
  {
   "cell_type": "markdown",
   "metadata": {},
   "source": [
    "## Transforming Tweets"
   ]
  },
  {
   "cell_type": "code",
   "execution_count": 6,
   "metadata": {
    "ExecuteTime": {
     "end_time": "2021-01-02T16:19:30.913255Z",
     "start_time": "2021-01-02T16:18:48.119166Z"
    }
   },
   "outputs": [],
   "source": [
    "# Transform date data\n",
    "tfidf_date = tfidf.transform(data.tweet)\n",
    "# Convert vectors to dataframe\n",
    "tfidf_date_df = pd.DataFrame.sparse.from_spmatrix(\n",
    "    tfidf_date, columns=tfidf.get_feature_names())"
   ]
  },
  {
   "cell_type": "markdown",
   "metadata": {},
   "source": [
    "## Predicting Sentiment"
   ]
  },
  {
   "cell_type": "code",
   "execution_count": 8,
   "metadata": {
    "ExecuteTime": {
     "end_time": "2021-01-02T16:20:15.167958Z",
     "start_time": "2021-01-02T16:20:08.194318Z"
    }
   },
   "outputs": [],
   "source": [
    "# Creating predictions for date tweets\n",
    "daily_date_preds = model.predict(tfidf_date_df)"
   ]
  },
  {
   "cell_type": "markdown",
   "metadata": {},
   "source": [
    "# Formatting Data"
   ]
  },
  {
   "cell_type": "code",
   "execution_count": 10,
   "metadata": {
    "ExecuteTime": {
     "end_time": "2021-01-02T16:20:54.193639Z",
     "start_time": "2021-01-02T16:20:51.897594Z"
    }
   },
   "outputs": [
    {
     "data": {
      "text/html": [
       "<div>\n",
       "<style scoped>\n",
       "    .dataframe tbody tr th:only-of-type {\n",
       "        vertical-align: middle;\n",
       "    }\n",
       "\n",
       "    .dataframe tbody tr th {\n",
       "        vertical-align: top;\n",
       "    }\n",
       "\n",
       "    .dataframe thead th {\n",
       "        text-align: right;\n",
       "    }\n",
       "</style>\n",
       "<table border=\"1\" class=\"dataframe\">\n",
       "  <thead>\n",
       "    <tr style=\"text-align: right;\">\n",
       "      <th></th>\n",
       "      <th>sentiment</th>\n",
       "    </tr>\n",
       "    <tr>\n",
       "      <th>date</th>\n",
       "      <th></th>\n",
       "    </tr>\n",
       "  </thead>\n",
       "  <tbody>\n",
       "    <tr>\n",
       "      <th>2010-01-01 18:57:56</th>\n",
       "      <td>1</td>\n",
       "    </tr>\n",
       "    <tr>\n",
       "      <th>2010-01-01 18:56:22</th>\n",
       "      <td>0</td>\n",
       "    </tr>\n",
       "    <tr>\n",
       "      <th>2010-01-01 18:55:54</th>\n",
       "      <td>-1</td>\n",
       "    </tr>\n",
       "    <tr>\n",
       "      <th>2010-01-01 18:54:28</th>\n",
       "      <td>0</td>\n",
       "    </tr>\n",
       "    <tr>\n",
       "      <th>2010-01-01 18:51:42</th>\n",
       "      <td>1</td>\n",
       "    </tr>\n",
       "  </tbody>\n",
       "</table>\n",
       "</div>"
      ],
      "text/plain": [
       "                     sentiment\n",
       "date                          \n",
       "2010-01-01 18:57:56          1\n",
       "2010-01-01 18:56:22          0\n",
       "2010-01-01 18:55:54         -1\n",
       "2010-01-01 18:54:28          0\n",
       "2010-01-01 18:51:42          1"
      ]
     },
     "execution_count": 10,
     "metadata": {},
     "output_type": "execute_result"
    }
   ],
   "source": [
    "# Creating dataframe from predictions\n",
    "date_data = pd.DataFrame(daily_date_preds)\n",
    "# Specifying a column name of sentiment for predictions column\n",
    "date_data.columns = ['sentiment']\n",
    "# Resetting index for dataframe join\n",
    "data.reset_index(drop=True, inplace=True)\n",
    "# Resetting index for dataframe join\n",
    "date_data.reset_index(drop=True, inplace=True)\n",
    "# Joining dataframes\n",
    "df_date = data.join(date_data, how='outer')\n",
    "# Dropping tweet column from dataframe\n",
    "df_date = df_date.drop(columns='tweet')\n",
    "# Convert date to a datetime column\n",
    "df_date.date = pd.to_datetime(df_date.date)\n",
    "# Make date the index \n",
    "df_date.set_index('date', inplace=True)\n",
    "# Turning news sentiment into 0 value\n",
    "df_date.sentiment = df_date.sentiment.apply(lambda x: 0 if x == 2 else x)\n",
    "# Checking dataframe\n",
    "df_date.head()"
   ]
  },
  {
   "cell_type": "code",
   "execution_count": 11,
   "metadata": {
    "ExecuteTime": {
     "end_time": "2021-01-02T16:21:12.033995Z",
     "start_time": "2021-01-02T16:21:10.971508Z"
    }
   },
   "outputs": [
    {
     "data": {
      "text/html": [
       "<div>\n",
       "<style scoped>\n",
       "    .dataframe tbody tr th:only-of-type {\n",
       "        vertical-align: middle;\n",
       "    }\n",
       "\n",
       "    .dataframe tbody tr th {\n",
       "        vertical-align: top;\n",
       "    }\n",
       "\n",
       "    .dataframe thead th {\n",
       "        text-align: right;\n",
       "    }\n",
       "</style>\n",
       "<table border=\"1\" class=\"dataframe\">\n",
       "  <thead>\n",
       "    <tr style=\"text-align: right;\">\n",
       "      <th></th>\n",
       "      <th>sentiment</th>\n",
       "    </tr>\n",
       "    <tr>\n",
       "      <th>date</th>\n",
       "      <th></th>\n",
       "    </tr>\n",
       "  </thead>\n",
       "  <tbody>\n",
       "    <tr>\n",
       "      <th>2009-12-31</th>\n",
       "      <td>22.39</td>\n",
       "    </tr>\n",
       "    <tr>\n",
       "      <th>2010-01-01</th>\n",
       "      <td>33.56</td>\n",
       "    </tr>\n",
       "    <tr>\n",
       "      <th>2010-01-02</th>\n",
       "      <td>37.18</td>\n",
       "    </tr>\n",
       "    <tr>\n",
       "      <th>2010-01-03</th>\n",
       "      <td>22.55</td>\n",
       "    </tr>\n",
       "    <tr>\n",
       "      <th>2010-01-04</th>\n",
       "      <td>31.96</td>\n",
       "    </tr>\n",
       "  </tbody>\n",
       "</table>\n",
       "</div>"
      ],
      "text/plain": [
       "            sentiment\n",
       "date                 \n",
       "2009-12-31      22.39\n",
       "2010-01-01      33.56\n",
       "2010-01-02      37.18\n",
       "2010-01-03      22.55\n",
       "2010-01-04      31.96"
      ]
     },
     "execution_count": 11,
     "metadata": {},
     "output_type": "execute_result"
    }
   ],
   "source": [
    "# Resampling data for daily average sentiment\n",
    "daily_mean = df_date.resample('D').mean()\n",
    "# Making date index to datetime\n",
    "daily_mean.index = pd.to_datetime(daily_mean.index)\n",
    "# Filling missing values with previous\n",
    "daily_mean = daily_mean.ffill()\n",
    "# Making couple negative values 0\n",
    "daily_mean.sentiment = daily_mean.sentiment.apply(lambda x: 0 if x < 0 else x)\n",
    "# Making values scaled to 100 for time series analysis\n",
    "daily_mean.sentiment = daily_mean.sentiment.apply(lambda x: x*100)\n",
    "# Round to 2 decimal places\n",
    "daily_mean.sentiment = daily_mean.sentiment.apply(lambda x: round(x, 2))\n",
    "# Checking dataframe\n",
    "daily_mean.head()"
   ]
  },
  {
   "cell_type": "code",
   "execution_count": 12,
   "metadata": {
    "ExecuteTime": {
     "end_time": "2021-01-02T16:21:24.453271Z",
     "start_time": "2021-01-02T16:21:24.396960Z"
    }
   },
   "outputs": [],
   "source": [
    "# Saving dataframe as csv\n",
    "daily_mean.to_csv('time_series_daily_data.csv')"
   ]
  }
 ],
 "metadata": {
  "kernelspec": {
   "display_name": "learn-env",
   "language": "python",
   "name": "learn-env"
  },
  "language_info": {
   "codemirror_mode": {
    "name": "ipython",
    "version": 3
   },
   "file_extension": ".py",
   "mimetype": "text/x-python",
   "name": "python",
   "nbconvert_exporter": "python",
   "pygments_lexer": "ipython3",
   "version": "3.6.9"
  },
  "toc": {
   "base_numbering": 1,
   "nav_menu": {},
   "number_sections": true,
   "sideBar": true,
   "skip_h1_title": false,
   "title_cell": "Table of Contents",
   "title_sidebar": "Contents",
   "toc_cell": false,
   "toc_position": {},
   "toc_section_display": true,
   "toc_window_display": false
  },
  "varInspector": {
   "cols": {
    "lenName": 16,
    "lenType": 16,
    "lenVar": 40
   },
   "kernels_config": {
    "python": {
     "delete_cmd_postfix": "",
     "delete_cmd_prefix": "del ",
     "library": "var_list.py",
     "varRefreshCmd": "print(var_dic_list())"
    },
    "r": {
     "delete_cmd_postfix": ") ",
     "delete_cmd_prefix": "rm(",
     "library": "var_list.r",
     "varRefreshCmd": "cat(var_dic_list()) "
    }
   },
   "types_to_exclude": [
    "module",
    "function",
    "builtin_function_or_method",
    "instance",
    "_Feature"
   ],
   "window_display": false
  }
 },
 "nbformat": 4,
 "nbformat_minor": 4
}
