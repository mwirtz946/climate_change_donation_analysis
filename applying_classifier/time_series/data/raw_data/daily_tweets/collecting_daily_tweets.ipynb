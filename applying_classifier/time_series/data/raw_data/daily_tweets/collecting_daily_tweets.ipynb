{
 "cells": [
  {
   "cell_type": "markdown",
   "metadata": {},
   "source": [
    "# Inputs for Twint"
   ]
  },
  {
   "cell_type": "code",
   "execution_count": 17,
   "metadata": {
    "ExecuteTime": {
     "end_time": "2020-12-23T00:42:56.692928Z",
     "start_time": "2020-12-23T00:42:55.354988Z"
    }
   },
   "outputs": [],
   "source": [
    "# Neccessary imports\n",
    "import twint\n",
    "import nest_asyncio\n",
    "nest_asyncio.apply()\n",
    "import pandas as pd"
   ]
  },
  {
   "cell_type": "code",
   "execution_count": 11,
   "metadata": {
    "ExecuteTime": {
     "end_time": "2020-12-23T00:30:07.169959Z",
     "start_time": "2020-12-23T00:30:07.146972Z"
    }
   },
   "outputs": [],
   "source": [
    "dates_since = pd.read_csv('twitter_dates_since.csv', index_col=0)\n",
    "dates_until = pd.read_csv('twitter_dates_until.csv', index_col=0)"
   ]
  },
  {
   "cell_type": "code",
   "execution_count": 12,
   "metadata": {
    "ExecuteTime": {
     "end_time": "2020-12-23T00:30:44.346440Z",
     "start_time": "2020-12-23T00:30:44.342611Z"
    }
   },
   "outputs": [],
   "source": [
    "# Creating list of years\n",
    "date_years = dates.columns.to_list()"
   ]
  },
  {
   "cell_type": "code",
   "execution_count": 15,
   "metadata": {
    "ExecuteTime": {
     "end_time": "2020-12-23T00:40:41.537397Z",
     "start_time": "2020-12-23T00:40:41.518543Z"
    }
   },
   "outputs": [],
   "source": [
    "# Making tuples of since and until for each year\n",
    "since_2010 = dates_since['2010'].to_list()\n",
    "until_2010 = dates_until['2010'].to_list()\n",
    "\n",
    "merged_2010 = [(since_2010[i], until_2010[i]) for i in range(0, len(since_2010))]\n",
    "\n",
    "since_2011 = dates_since['2011'].to_list()\n",
    "until_2011 = dates_until['2011'].to_list()\n",
    "\n",
    "merged_2011 = [(since_2011[i], until_2011[i]) for i in range(0, len(since_2010))]\n",
    "\n",
    "since_2012 = dates_since['2012'].to_list()\n",
    "until_2012 = dates_until['2012'].to_list()\n",
    "\n",
    "merged_2012 = [(since_2012[i], until_2012[i]) for i in range(0, len(since_2010))]\n",
    "\n",
    "since_2013 = dates_since['2013'].to_list()\n",
    "until_2013 = dates_until['2013'].to_list()\n",
    "\n",
    "merged_2013 = [(since_2013[i], until_2013[i]) for i in range(0, len(since_2010))]\n",
    "\n",
    "since_2014 = dates_since['2014'].to_list()\n",
    "until_2014 = dates_until['2014'].to_list()\n",
    "\n",
    "merged_2014 = [(since_2014[i], until_2014[i]) for i in range(0, len(since_2010))]\n",
    "\n",
    "since_2015 = dates_since['2015'].to_list()\n",
    "until_2015 = dates_until['2015'].to_list()\n",
    "\n",
    "merged_2015 = [(since_2015[i], until_2015[i]) for i in range(0, len(since_2010))]\n",
    "\n",
    "since_2016 = dates_since['2016'].to_list()\n",
    "until_2016 = dates_until['2016'].to_list()\n",
    "\n",
    "merged_2016 = [(since_2016[i], until_2016[i]) for i in range(0, len(since_2010))]\n",
    "\n",
    "since_2017 = dates_since['2017'].to_list()\n",
    "until_2017 = dates_until['2017'].to_list()\n",
    "\n",
    "merged_2017 = [(since_2017[i], until_2017[i]) for i in range(0, len(since_2010))]\n",
    "\n",
    "since_2018 = dates_since['2018'].to_list()\n",
    "until_2018 = dates_until['2018'].to_list()\n",
    "\n",
    "merged_2018 = [(since_2018[i], until_2018[i]) for i in range(0, len(since_2010))]\n",
    "\n",
    "since_2019 = dates_since['2019'].to_list()\n",
    "until_2019 = dates_until['2019'].to_list()\n",
    "\n",
    "merged_2019 = [(since_2019[i], until_2019[i]) for i in range(0, len(since_2010))]\n",
    "\n",
    "since_2020 = dates_since['2020'].to_list()\n",
    "until_2020 = dates_until['2020'].to_list()\n",
    "\n",
    "merged_2020 = [(since_2020[i], until_2020[i]) for i in range(0, len(since_2010))]"
   ]
  },
  {
   "cell_type": "markdown",
   "metadata": {},
   "source": [
    "# Grabbing Tweets For Each Year"
   ]
  },
  {
   "cell_type": "markdown",
   "metadata": {},
   "source": [
    "## 2010"
   ]
  },
  {
   "cell_type": "markdown",
   "metadata": {},
   "source": [
    "### 2010 -- 1"
   ]
  },
  {
   "cell_type": "code",
   "execution_count": 42,
   "metadata": {
    "ExecuteTime": {
     "end_time": "2020-12-23T01:26:59.451529Z",
     "start_time": "2020-12-23T01:17:43.419852Z"
    }
   },
   "outputs": [],
   "source": [
    "tweets_2010_1 = pd.DataFrame()\n",
    "\n",
    "for since,until in merged_2010[:73]:\n",
    "    try:\n",
    "        # Configuring twint search\n",
    "        c = twint.Config()\n",
    "        c.Search = \"climate%change\"\n",
    "        c.Limit = 1000\n",
    "        c.Pandas = True\n",
    "        c.Hide_output = True\n",
    "#         c.Since = since\n",
    "        c.Until = until\n",
    "\n",
    "        # Running search\n",
    "        twint.run.Search(c)\n",
    "        # Creating dataframe with results\n",
    "        df = twint.storage.panda.Tweets_df[['date','tweet']]\n",
    "\n",
    "        tweets_2010_1 = tweets_2010_1.append(df)\n",
    "    except:\n",
    "        pass"
   ]
  },
  {
   "cell_type": "code",
   "execution_count": 43,
   "metadata": {
    "ExecuteTime": {
     "end_time": "2020-12-23T01:26:59.892980Z",
     "start_time": "2020-12-23T01:26:59.454322Z"
    }
   },
   "outputs": [],
   "source": [
    "tweets_2010_1.to_csv('tweets_2010_1.csv')"
   ]
  },
  {
   "cell_type": "markdown",
   "metadata": {},
   "source": [
    "### 2010 -- 2"
   ]
  },
  {
   "cell_type": "code",
   "execution_count": 44,
   "metadata": {
    "ExecuteTime": {
     "end_time": "2020-12-23T01:37:52.988904Z",
     "start_time": "2020-12-23T01:26:59.896126Z"
    }
   },
   "outputs": [],
   "source": [
    "tweets_2010_2 = pd.DataFrame()\n",
    "\n",
    "for date in merged_2010[73:146]:\n",
    "    try:\n",
    "        # Configuring twint search\n",
    "        c = twint.Config()\n",
    "        c.Search = \"climate%change\"\n",
    "        c.Limit = 1000\n",
    "        c.Pandas = True\n",
    "        c.Hide_output = True\n",
    "#         c.Since = date[0]\n",
    "        c.Until = date[1]\n",
    "\n",
    "        # Running search\n",
    "        twint.run.Search(c)\n",
    "        # Creating dataframe with results\n",
    "        df = twint.storage.panda.Tweets_df[['date','tweet']]\n",
    "\n",
    "        tweets_2010_2 = tweets_2010_2.append(df)\n",
    "    except:\n",
    "        pass\n",
    "\n",
    "tweets_2010_2.to_csv('tweets_2010_2.csv')"
   ]
  },
  {
   "cell_type": "markdown",
   "metadata": {},
   "source": [
    "### 2010 -- 3"
   ]
  },
  {
   "cell_type": "code",
   "execution_count": 45,
   "metadata": {
    "ExecuteTime": {
     "end_time": "2020-12-23T01:48:29.503378Z",
     "start_time": "2020-12-23T01:37:52.991349Z"
    }
   },
   "outputs": [],
   "source": [
    "tweets_2010_3 = pd.DataFrame()\n",
    "\n",
    "for date in merged_2010[146:219]:\n",
    "    try:\n",
    "        # Configuring twint search\n",
    "        c = twint.Config()\n",
    "        c.Search = \"climate%change\"\n",
    "        c.Limit = 1000\n",
    "        c.Pandas = True\n",
    "        c.Hide_output = True\n",
    "#         c.Since = date[0]\n",
    "        c.Until = date[1]\n",
    "\n",
    "        # Running search\n",
    "        twint.run.Search(c)\n",
    "        # Creating dataframe with results\n",
    "        df = twint.storage.panda.Tweets_df[['date','tweet']]\n",
    "\n",
    "        tweets_2010_3 = tweets_2010_3.append(df)\n",
    "    except:\n",
    "        pass\n",
    "\n",
    "tweets_2010_3.to_csv('tweets_2010_3.csv')"
   ]
  },
  {
   "cell_type": "markdown",
   "metadata": {},
   "source": [
    "### 2010 -- 4"
   ]
  },
  {
   "cell_type": "code",
   "execution_count": 46,
   "metadata": {
    "ExecuteTime": {
     "end_time": "2020-12-23T01:59:00.326055Z",
     "start_time": "2020-12-23T01:48:29.505907Z"
    }
   },
   "outputs": [],
   "source": [
    "tweets_2010_4 = pd.DataFrame()\n",
    "\n",
    "for date in merged_2010[219:292]:\n",
    "    try:\n",
    "        # Configuring twint search\n",
    "        c = twint.Config()\n",
    "        c.Search = \"climate%change\"\n",
    "        c.Limit = 1000\n",
    "        c.Pandas = True\n",
    "        c.Hide_output = True\n",
    "#         c.Since = date[0]\n",
    "        c.Until = date[1]\n",
    "\n",
    "        # Running search\n",
    "        twint.run.Search(c)\n",
    "        # Creating dataframe with results\n",
    "        df = twint.storage.panda.Tweets_df[['date','tweet']]\n",
    "\n",
    "        tweets_2010_4 = tweets_2010_4.append(df)\n",
    "    except:\n",
    "        pass\n",
    "\n",
    "tweets_2010_4.to_csv('tweets_2010_4.csv')"
   ]
  },
  {
   "cell_type": "markdown",
   "metadata": {},
   "source": [
    "### 2010 -- 5"
   ]
  },
  {
   "cell_type": "code",
   "execution_count": 47,
   "metadata": {
    "ExecuteTime": {
     "end_time": "2020-12-23T02:09:45.585528Z",
     "start_time": "2020-12-23T01:59:00.328351Z"
    }
   },
   "outputs": [],
   "source": [
    "tweets_2010_5 = pd.DataFrame()\n",
    "\n",
    "for date in merged_2010[292:365]:\n",
    "    try:\n",
    "        # Configuring twint search\n",
    "        c = twint.Config()\n",
    "        c.Search = \"climate%change\"\n",
    "        c.Limit = 1000\n",
    "        c.Pandas = True\n",
    "        c.Hide_output = True\n",
    "#         c.Since = date[0]\n",
    "        c.Until = date[1]\n",
    "\n",
    "        # Running search\n",
    "        twint.run.Search(c)\n",
    "        # Creating dataframe with results\n",
    "        df = twint.storage.panda.Tweets_df[['date','tweet']]\n",
    "\n",
    "        tweets_2010_5 = tweets_2010_5.append(df)\n",
    "    except:\n",
    "        pass\n",
    "\n",
    "tweets_2010_5.to_csv('tweets_2010_5.csv')"
   ]
  },
  {
   "cell_type": "markdown",
   "metadata": {},
   "source": [
    "## 2011"
   ]
  },
  {
   "cell_type": "markdown",
   "metadata": {},
   "source": [
    "### 2011 -- 1"
   ]
  },
  {
   "cell_type": "code",
   "execution_count": 48,
   "metadata": {
    "ExecuteTime": {
     "end_time": "2020-12-23T02:20:32.952648Z",
     "start_time": "2020-12-23T02:09:45.587987Z"
    }
   },
   "outputs": [],
   "source": [
    "tweets_2011_1 = pd.DataFrame()\n",
    "\n",
    "for since,until in merged_2011[:73]:\n",
    "    try:\n",
    "        # Configuring twint search\n",
    "        c = twint.Config()\n",
    "        c.Search = \"climate%change\"\n",
    "        c.Limit = 1000\n",
    "        c.Pandas = True\n",
    "        c.Hide_output = True\n",
    "#         c.Since = since\n",
    "        c.Until = until\n",
    "\n",
    "        # Running search\n",
    "        twint.run.Search(c)\n",
    "        # Creating dataframe with results\n",
    "        df = twint.storage.panda.Tweets_df[['date','tweet']]\n",
    "\n",
    "        tweets_2011_1 = tweets_2011_1.append(df)\n",
    "    except:\n",
    "        pass\n",
    "\n",
    "tweets_2011_1.to_csv('tweets_2011_1.csv')"
   ]
  },
  {
   "cell_type": "markdown",
   "metadata": {},
   "source": [
    "### 2011 -- 2"
   ]
  },
  {
   "cell_type": "code",
   "execution_count": 49,
   "metadata": {
    "ExecuteTime": {
     "end_time": "2020-12-23T02:31:25.415860Z",
     "start_time": "2020-12-23T02:20:32.954730Z"
    }
   },
   "outputs": [],
   "source": [
    "tweets_2011_2 = pd.DataFrame()\n",
    "\n",
    "for date in merged_2011[73:146]:\n",
    "    try:\n",
    "        # Configuring twint search\n",
    "        c = twint.Config()\n",
    "        c.Search = \"climate%change\"\n",
    "        c.Limit = 1000\n",
    "        c.Pandas = True\n",
    "        c.Hide_output = True\n",
    "#         c.Since = date[0]\n",
    "        c.Until = date[1]\n",
    "\n",
    "        # Running search\n",
    "        twint.run.Search(c)\n",
    "        # Creating dataframe with results\n",
    "        df = twint.storage.panda.Tweets_df[['date','tweet']]\n",
    "\n",
    "        tweets_2011_2 = tweets_2011_2.append(df)\n",
    "    except:\n",
    "        pass\n",
    "\n",
    "tweets_2011_2.to_csv('tweets_2011_2.csv')"
   ]
  },
  {
   "cell_type": "markdown",
   "metadata": {},
   "source": [
    "### 2011 -- 3"
   ]
  },
  {
   "cell_type": "code",
   "execution_count": 50,
   "metadata": {
    "ExecuteTime": {
     "end_time": "2020-12-23T02:42:48.782402Z",
     "start_time": "2020-12-23T02:31:25.418087Z"
    }
   },
   "outputs": [],
   "source": [
    "tweets_2011_3 = pd.DataFrame()\n",
    "\n",
    "for date in merged_2011[146:219]:\n",
    "    try:\n",
    "        # Configuring twint search\n",
    "        c = twint.Config()\n",
    "        c.Search = \"climate%change\"\n",
    "        c.Limit = 1000\n",
    "        c.Pandas = True\n",
    "        c.Hide_output = True\n",
    "#         c.Since = date[0]\n",
    "        c.Until = date[1]\n",
    "\n",
    "        # Running search\n",
    "        twint.run.Search(c)\n",
    "        # Creating dataframe with results\n",
    "        df = twint.storage.panda.Tweets_df[['date','tweet']]\n",
    "\n",
    "        tweets_2011_3 = tweets_2011_3.append(df)\n",
    "    except:\n",
    "        pass\n",
    "\n",
    "tweets_2011_3.to_csv('tweets_2011_3.csv')"
   ]
  },
  {
   "cell_type": "markdown",
   "metadata": {},
   "source": [
    "### 2011 -- 4"
   ]
  },
  {
   "cell_type": "code",
   "execution_count": 51,
   "metadata": {
    "ExecuteTime": {
     "end_time": "2020-12-23T02:54:31.907446Z",
     "start_time": "2020-12-23T02:42:48.784290Z"
    }
   },
   "outputs": [],
   "source": [
    "tweets_2011_4 = pd.DataFrame()\n",
    "\n",
    "for date in merged_2011[219:292]:\n",
    "    try:\n",
    "        # Configuring twint search\n",
    "        c = twint.Config()\n",
    "        c.Search = \"climate%change\"\n",
    "        c.Limit = 1000\n",
    "        c.Pandas = True\n",
    "        c.Hide_output = True\n",
    "#         c.Since = date[0]\n",
    "        c.Until = date[1]\n",
    "\n",
    "        # Running search\n",
    "        twint.run.Search(c)\n",
    "        # Creating dataframe with results\n",
    "        df = twint.storage.panda.Tweets_df[['date','tweet']]\n",
    "\n",
    "        tweets_2011_4 = tweets_2011_4.append(df)\n",
    "    except:\n",
    "        pass\n",
    "\n",
    "tweets_2011_4.to_csv('tweets_2011_4.csv')"
   ]
  },
  {
   "cell_type": "markdown",
   "metadata": {},
   "source": [
    "### 2011 -- 5"
   ]
  },
  {
   "cell_type": "code",
   "execution_count": 52,
   "metadata": {
    "ExecuteTime": {
     "end_time": "2020-12-23T03:06:16.289216Z",
     "start_time": "2020-12-23T02:54:31.910784Z"
    }
   },
   "outputs": [],
   "source": [
    "tweets_2011_5 = pd.DataFrame()\n",
    "\n",
    "for date in merged_2011[292:365]:\n",
    "    try:\n",
    "        # Configuring twint search\n",
    "        c = twint.Config()\n",
    "        c.Search = \"climate%change\"\n",
    "        c.Limit = 1000\n",
    "        c.Pandas = True\n",
    "        c.Hide_output = True\n",
    "#         c.Since = date[0]\n",
    "        c.Until = date[1]\n",
    "\n",
    "        # Running search\n",
    "        twint.run.Search(c)\n",
    "        # Creating dataframe with results\n",
    "        df = twint.storage.panda.Tweets_df[['date','tweet']]\n",
    "\n",
    "        tweets_2011_5 = tweets_2011_5.append(df)\n",
    "    except:\n",
    "        pass\n",
    "\n",
    "tweets_2011_5.to_csv('tweets_2011_5.csv')"
   ]
  },
  {
   "cell_type": "markdown",
   "metadata": {},
   "source": [
    "## 2012"
   ]
  },
  {
   "cell_type": "markdown",
   "metadata": {},
   "source": [
    "### 2012 -- 1"
   ]
  },
  {
   "cell_type": "code",
   "execution_count": 53,
   "metadata": {
    "ExecuteTime": {
     "end_time": "2020-12-23T03:18:52.695928Z",
     "start_time": "2020-12-23T03:06:40.518775Z"
    }
   },
   "outputs": [],
   "source": [
    "tweets_2012_1 = pd.DataFrame()\n",
    "\n",
    "for since,until in merged_2012[:73]:\n",
    "    try:\n",
    "        # Configuring twint search\n",
    "        c = twint.Config()\n",
    "        c.Search = \"climate%change\"\n",
    "        c.Limit = 1000\n",
    "        c.Pandas = True\n",
    "        c.Hide_output = True\n",
    "#         c.Since = since\n",
    "        c.Until = until\n",
    "\n",
    "        # Running search\n",
    "        twint.run.Search(c)\n",
    "        # Creating dataframe with results\n",
    "        df = twint.storage.panda.Tweets_df[['date','tweet']]\n",
    "\n",
    "        tweets_2012_1 = tweets_2012_1.append(df)\n",
    "    except:\n",
    "        pass\n",
    "\n",
    "tweets_2012_1.to_csv('tweets_2012_1.csv')"
   ]
  },
  {
   "cell_type": "markdown",
   "metadata": {},
   "source": [
    "### 2012 -- 2"
   ]
  },
  {
   "cell_type": "code",
   "execution_count": 54,
   "metadata": {
    "ExecuteTime": {
     "end_time": "2020-12-23T03:30:50.120297Z",
     "start_time": "2020-12-23T03:18:52.698306Z"
    }
   },
   "outputs": [],
   "source": [
    "tweets_2012_2 = pd.DataFrame()\n",
    "\n",
    "for date in merged_2012[73:146]:\n",
    "    try:\n",
    "        # Configuring twint search\n",
    "        c = twint.Config()\n",
    "        c.Search = \"climate%change\"\n",
    "        c.Limit = 1000\n",
    "        c.Pandas = True\n",
    "        c.Hide_output = True\n",
    "#         c.Since = date[0]\n",
    "        c.Until = date[1]\n",
    "\n",
    "        # Running search\n",
    "        twint.run.Search(c)\n",
    "        # Creating dataframe with results\n",
    "        df = twint.storage.panda.Tweets_df[['date','tweet']]\n",
    "\n",
    "        tweets_2012_2 = tweets_2012_2.append(df)\n",
    "    except:\n",
    "        pass\n",
    "\n",
    "tweets_2012_2.to_csv('tweets_2012_2.csv')"
   ]
  },
  {
   "cell_type": "markdown",
   "metadata": {},
   "source": [
    "### 2012 -- 3"
   ]
  },
  {
   "cell_type": "code",
   "execution_count": 55,
   "metadata": {
    "ExecuteTime": {
     "end_time": "2020-12-23T03:42:50.622803Z",
     "start_time": "2020-12-23T03:30:50.122747Z"
    }
   },
   "outputs": [],
   "source": [
    "tweets_2012_3 = pd.DataFrame()\n",
    "\n",
    "for date in merged_2012[146:219]:\n",
    "    try:\n",
    "        # Configuring twint search\n",
    "        c = twint.Config()\n",
    "        c.Search = \"climate%change\"\n",
    "        c.Limit = 1000\n",
    "        c.Pandas = True\n",
    "        c.Hide_output = True\n",
    "#         c.Since = date[0]\n",
    "        c.Until = date[1]\n",
    "\n",
    "        # Running search\n",
    "        twint.run.Search(c)\n",
    "        # Creating dataframe with results\n",
    "        df = twint.storage.panda.Tweets_df[['date','tweet']]\n",
    "\n",
    "        tweets_2012_3 = tweets_2012_3.append(df)\n",
    "    except:\n",
    "        pass\n",
    "\n",
    "tweets_2012_3.to_csv('tweets_2012_3.csv')"
   ]
  },
  {
   "cell_type": "markdown",
   "metadata": {},
   "source": [
    "### 2012 -- 4"
   ]
  },
  {
   "cell_type": "code",
   "execution_count": 56,
   "metadata": {
    "ExecuteTime": {
     "end_time": "2020-12-23T03:55:06.194840Z",
     "start_time": "2020-12-23T03:42:50.625259Z"
    }
   },
   "outputs": [],
   "source": [
    "tweets_2012_4 = pd.DataFrame()\n",
    "\n",
    "for date in merged_2012[219:292]:\n",
    "    try:\n",
    "        # Configuring twint search\n",
    "        c = twint.Config()\n",
    "        c.Search = \"climate%change\"\n",
    "        c.Limit = 1000\n",
    "        c.Pandas = True\n",
    "        c.Hide_output = True\n",
    "#         c.Since = date[0]\n",
    "        c.Until = date[1]\n",
    "\n",
    "        # Running search\n",
    "        twint.run.Search(c)\n",
    "        # Creating dataframe with results\n",
    "        df = twint.storage.panda.Tweets_df[['date','tweet']]\n",
    "\n",
    "        tweets_2012_4 = tweets_2012_4.append(df)\n",
    "    except:\n",
    "        pass\n",
    "\n",
    "tweets_2012_4.to_csv('tweets_2012_4.csv')"
   ]
  },
  {
   "cell_type": "markdown",
   "metadata": {},
   "source": [
    "### 2012 -- 5"
   ]
  },
  {
   "cell_type": "code",
   "execution_count": 57,
   "metadata": {
    "ExecuteTime": {
     "end_time": "2020-12-23T04:06:52.582689Z",
     "start_time": "2020-12-23T03:55:06.197208Z"
    }
   },
   "outputs": [],
   "source": [
    "tweets_2012_5 = pd.DataFrame()\n",
    "\n",
    "for date in merged_2012[292:365]:\n",
    "    try:\n",
    "        # Configuring twint search\n",
    "        c = twint.Config()\n",
    "        c.Search = \"climate%change\"\n",
    "        c.Limit = 1000\n",
    "        c.Pandas = True\n",
    "        c.Hide_output = True\n",
    "#         c.Since = date[0]\n",
    "        c.Until = date[1]\n",
    "\n",
    "        # Running search\n",
    "        twint.run.Search(c)\n",
    "        # Creating dataframe with results\n",
    "        df = twint.storage.panda.Tweets_df[['date','tweet']]\n",
    "\n",
    "        tweets_2012_5 = tweets_2012_5.append(df)\n",
    "    except:\n",
    "        pass\n",
    "\n",
    "tweets_2012_5.to_csv('tweets_2012_5.csv')"
   ]
  },
  {
   "cell_type": "markdown",
   "metadata": {},
   "source": [
    "## 2013"
   ]
  },
  {
   "cell_type": "markdown",
   "metadata": {},
   "source": [
    "### 2013 -- 1"
   ]
  },
  {
   "cell_type": "code",
   "execution_count": 58,
   "metadata": {
    "ExecuteTime": {
     "end_time": "2020-12-23T04:18:46.494260Z",
     "start_time": "2020-12-23T04:06:52.585069Z"
    }
   },
   "outputs": [],
   "source": [
    "tweets_2013_1 = pd.DataFrame()\n",
    "\n",
    "for since,until in merged_2013[:73]:\n",
    "    try:\n",
    "        # Configuring twint search\n",
    "        c = twint.Config()\n",
    "        c.Search = \"climate%change\"\n",
    "        c.Limit = 1000\n",
    "        c.Pandas = True\n",
    "        c.Hide_output = True\n",
    "#         c.Since = since\n",
    "        c.Until = until\n",
    "\n",
    "        # Running search\n",
    "        twint.run.Search(c)\n",
    "        # Creating dataframe with results\n",
    "        df = twint.storage.panda.Tweets_df[['date','tweet']]\n",
    "\n",
    "        tweets_2013_1 = tweets_2013_1.append(df)\n",
    "    except:\n",
    "        pass\n",
    "\n",
    "tweets_2013_1.to_csv('tweets_2013_1.csv')"
   ]
  },
  {
   "cell_type": "markdown",
   "metadata": {},
   "source": [
    "### 2013 -- 2"
   ]
  },
  {
   "cell_type": "code",
   "execution_count": 59,
   "metadata": {
    "ExecuteTime": {
     "end_time": "2020-12-23T04:30:23.318097Z",
     "start_time": "2020-12-23T04:18:46.496442Z"
    }
   },
   "outputs": [],
   "source": [
    "tweets_2013_2 = pd.DataFrame()\n",
    "\n",
    "for date in merged_2013[73:146]:\n",
    "    try:\n",
    "        # Configuring twint search\n",
    "        c = twint.Config()\n",
    "        c.Search = \"climate%change\"\n",
    "        c.Limit = 1000\n",
    "        c.Pandas = True\n",
    "        c.Hide_output = True\n",
    "#         c.Since = date[0]\n",
    "        c.Until = date[1]\n",
    "\n",
    "        # Running search\n",
    "        twint.run.Search(c)\n",
    "        # Creating dataframe with results\n",
    "        df = twint.storage.panda.Tweets_df[['date','tweet']]\n",
    "\n",
    "        tweets_2013_2 = tweets_2013_2.append(df)\n",
    "    except:\n",
    "        pass\n",
    "\n",
    "tweets_2013_2.to_csv('tweets_2013_2.csv')"
   ]
  },
  {
   "cell_type": "markdown",
   "metadata": {},
   "source": [
    "### 2013 -- 3"
   ]
  },
  {
   "cell_type": "code",
   "execution_count": 60,
   "metadata": {
    "ExecuteTime": {
     "end_time": "2020-12-23T04:41:10.973898Z",
     "start_time": "2020-12-23T04:30:23.320288Z"
    }
   },
   "outputs": [],
   "source": [
    "tweets_2013_3 = pd.DataFrame()\n",
    "\n",
    "for date in merged_2013[146:219]:\n",
    "    try:\n",
    "        # Configuring twint search\n",
    "        c = twint.Config()\n",
    "        c.Search = \"climate%change\"\n",
    "        c.Limit = 1000\n",
    "        c.Pandas = True\n",
    "        c.Hide_output = True\n",
    "#         c.Since = date[0]\n",
    "        c.Until = date[1]\n",
    "\n",
    "        # Running search\n",
    "        twint.run.Search(c)\n",
    "        # Creating dataframe with results\n",
    "        df = twint.storage.panda.Tweets_df[['date','tweet']]\n",
    "\n",
    "        tweets_2013_3 = tweets_2013_3.append(df)\n",
    "    except:\n",
    "        pass\n",
    "\n",
    "tweets_2013_3.to_csv('tweets_2013_3.csv')"
   ]
  },
  {
   "cell_type": "markdown",
   "metadata": {},
   "source": [
    "### 2013 -- 4"
   ]
  },
  {
   "cell_type": "code",
   "execution_count": 61,
   "metadata": {
    "ExecuteTime": {
     "end_time": "2020-12-23T04:52:53.731120Z",
     "start_time": "2020-12-23T04:41:10.976117Z"
    }
   },
   "outputs": [],
   "source": [
    "tweets_2013_4 = pd.DataFrame()\n",
    "\n",
    "for date in merged_2013[219:292]:\n",
    "    try:\n",
    "        # Configuring twint search\n",
    "        c = twint.Config()\n",
    "        c.Search = \"climate%change\"\n",
    "        c.Limit = 1000\n",
    "        c.Pandas = True\n",
    "        c.Hide_output = True\n",
    "#         c.Since = date[0]\n",
    "        c.Until = date[1]\n",
    "\n",
    "        # Running search\n",
    "        twint.run.Search(c)\n",
    "        # Creating dataframe with results\n",
    "        df = twint.storage.panda.Tweets_df[['date','tweet']]\n",
    "\n",
    "        tweets_2013_4 = tweets_2013_4.append(df)\n",
    "    except:\n",
    "        pass\n",
    "\n",
    "tweets_2013_4.to_csv('tweets_2013_4.csv')"
   ]
  },
  {
   "cell_type": "markdown",
   "metadata": {},
   "source": [
    "### 2013 -- 5"
   ]
  },
  {
   "cell_type": "code",
   "execution_count": 62,
   "metadata": {
    "ExecuteTime": {
     "end_time": "2020-12-23T05:04:29.762933Z",
     "start_time": "2020-12-23T04:52:53.733577Z"
    }
   },
   "outputs": [],
   "source": [
    "tweets_2013_5 = pd.DataFrame()\n",
    "\n",
    "for date in merged_2013[292:365]:\n",
    "    try:\n",
    "        # Configuring twint search\n",
    "        c = twint.Config()\n",
    "        c.Search = \"climate%change\"\n",
    "        c.Limit = 1000\n",
    "        c.Pandas = True\n",
    "        c.Hide_output = True\n",
    "#         c.Since = date[0]\n",
    "        c.Until = date[1]\n",
    "\n",
    "        # Running search\n",
    "        twint.run.Search(c)\n",
    "        # Creating dataframe with results\n",
    "        df = twint.storage.panda.Tweets_df[['date','tweet']]\n",
    "\n",
    "        tweets_2013_5 = tweets_2013_5.append(df)\n",
    "    except:\n",
    "        pass\n",
    "\n",
    "tweets_2013_5.to_csv('tweets_2013_5.csv')"
   ]
  },
  {
   "cell_type": "markdown",
   "metadata": {},
   "source": [
    "# HERE"
   ]
  },
  {
   "cell_type": "markdown",
   "metadata": {},
   "source": [
    "# HERE"
   ]
  },
  {
   "cell_type": "markdown",
   "metadata": {},
   "source": [
    "# HERE"
   ]
  },
  {
   "cell_type": "markdown",
   "metadata": {},
   "source": [
    "# HERE"
   ]
  },
  {
   "cell_type": "markdown",
   "metadata": {},
   "source": [
    "## 2014"
   ]
  },
  {
   "cell_type": "markdown",
   "metadata": {},
   "source": [
    "### 2014 -- 1"
   ]
  },
  {
   "cell_type": "code",
   "execution_count": 63,
   "metadata": {
    "ExecuteTime": {
     "end_time": "2020-12-23T05:16:12.019085Z",
     "start_time": "2020-12-23T05:04:29.765322Z"
    }
   },
   "outputs": [],
   "source": [
    "tweets_2014_1 = pd.DataFrame()\n",
    "\n",
    "for since,until in merged_2014[:73]:\n",
    "    try:\n",
    "        # Configuring twint search\n",
    "        c = twint.Config()\n",
    "        c.Search = \"climate%change\"\n",
    "        c.Limit = 1000\n",
    "        c.Pandas = True\n",
    "        c.Hide_output = True\n",
    "#         c.Since = since\n",
    "        c.Until = until\n",
    "\n",
    "        # Running search\n",
    "        twint.run.Search(c)\n",
    "        # Creating dataframe with results\n",
    "        df = twint.storage.panda.Tweets_df[['date','tweet']]\n",
    "\n",
    "        tweets_2014_1 = tweets_2014_1.append(df)\n",
    "    except:\n",
    "        pass\n",
    "\n",
    "tweets_2014_1.to_csv('tweets_2014_1.csv')"
   ]
  },
  {
   "cell_type": "markdown",
   "metadata": {},
   "source": [
    "### 2014 -- 2"
   ]
  },
  {
   "cell_type": "code",
   "execution_count": 64,
   "metadata": {
    "ExecuteTime": {
     "end_time": "2020-12-23T05:27:34.872584Z",
     "start_time": "2020-12-23T05:16:12.021513Z"
    }
   },
   "outputs": [],
   "source": [
    "tweets_2014_2 = pd.DataFrame()\n",
    "\n",
    "for date in merged_2014[73:146]:\n",
    "    try:\n",
    "        # Configuring twint search\n",
    "        c = twint.Config()\n",
    "        c.Search = \"climate%change\"\n",
    "        c.Limit = 1000\n",
    "        c.Pandas = True\n",
    "        c.Hide_output = True\n",
    "#         c.Since = date[0]\n",
    "        c.Until = date[1]\n",
    "\n",
    "        # Running search\n",
    "        twint.run.Search(c)\n",
    "        # Creating dataframe with results\n",
    "        df = twint.storage.panda.Tweets_df[['date','tweet']]\n",
    "\n",
    "        tweets_2014_2 = tweets_2014_2.append(df)\n",
    "    except:\n",
    "        pass\n",
    "\n",
    "tweets_2014_2.to_csv('tweets_2014_2.csv')"
   ]
  },
  {
   "cell_type": "markdown",
   "metadata": {},
   "source": [
    "### 2014 -- 3"
   ]
  },
  {
   "cell_type": "code",
   "execution_count": 65,
   "metadata": {
    "ExecuteTime": {
     "end_time": "2020-12-23T05:38:43.319692Z",
     "start_time": "2020-12-23T05:27:34.874920Z"
    }
   },
   "outputs": [],
   "source": [
    "tweets_2014_3 = pd.DataFrame()\n",
    "\n",
    "for date in merged_2014[146:219]:\n",
    "    try:\n",
    "        # Configuring twint search\n",
    "        c = twint.Config()\n",
    "        c.Search = \"climate%change\"\n",
    "        c.Limit = 1000\n",
    "        c.Pandas = True\n",
    "        c.Hide_output = True\n",
    "#         c.Since = date[0]\n",
    "        c.Until = date[1]\n",
    "\n",
    "        # Running search\n",
    "        twint.run.Search(c)\n",
    "        # Creating dataframe with results\n",
    "        df = twint.storage.panda.Tweets_df[['date','tweet']]\n",
    "\n",
    "        tweets_2014_3 = tweets_2014_3.append(df)\n",
    "    except:\n",
    "        pass\n",
    "\n",
    "tweets_2014_3.to_csv('tweets_2014_3.csv')"
   ]
  },
  {
   "cell_type": "markdown",
   "metadata": {},
   "source": [
    "### 2014 -- 4"
   ]
  },
  {
   "cell_type": "code",
   "execution_count": 66,
   "metadata": {
    "ExecuteTime": {
     "end_time": "2020-12-23T05:49:44.913242Z",
     "start_time": "2020-12-23T05:38:43.321771Z"
    }
   },
   "outputs": [],
   "source": [
    "tweets_2014_4 = pd.DataFrame()\n",
    "\n",
    "for date in merged_2014[219:292]:\n",
    "    try:\n",
    "        # Configuring twint search\n",
    "        c = twint.Config()\n",
    "        c.Search = \"climate%change\"\n",
    "        c.Limit = 1000\n",
    "        c.Pandas = True\n",
    "        c.Hide_output = True\n",
    "#         c.Since = date[0]\n",
    "        c.Until = date[1]\n",
    "\n",
    "        # Running search\n",
    "        twint.run.Search(c)\n",
    "        # Creating dataframe with results\n",
    "        df = twint.storage.panda.Tweets_df[['date','tweet']]\n",
    "\n",
    "        tweets_2014_4 = tweets_2014_4.append(df)\n",
    "    except:\n",
    "        pass\n",
    "\n",
    "tweets_2014_4.to_csv('tweets_2014_4.csv')"
   ]
  },
  {
   "cell_type": "markdown",
   "metadata": {},
   "source": [
    "### 2014 -- 5"
   ]
  },
  {
   "cell_type": "code",
   "execution_count": 67,
   "metadata": {
    "ExecuteTime": {
     "end_time": "2020-12-23T06:01:12.022185Z",
     "start_time": "2020-12-23T05:49:44.915444Z"
    }
   },
   "outputs": [],
   "source": [
    "tweets_2014_5 = pd.DataFrame()\n",
    "\n",
    "for date in merged_2014[292:365]:\n",
    "    try:\n",
    "        # Configuring twint search\n",
    "        c = twint.Config()\n",
    "        c.Search = \"climate%change\"\n",
    "        c.Limit = 1000\n",
    "        c.Pandas = True\n",
    "        c.Hide_output = True\n",
    "#         c.Since = date[0]\n",
    "        c.Until = date[1]\n",
    "\n",
    "        # Running search\n",
    "        twint.run.Search(c)\n",
    "        # Creating dataframe with results\n",
    "        df = twint.storage.panda.Tweets_df[['date','tweet']]\n",
    "\n",
    "        tweets_2014_5 = tweets_2014_5.append(df)\n",
    "    except:\n",
    "        pass\n",
    "\n",
    "tweets_2014_5.to_csv('tweets_2014_5.csv')"
   ]
  },
  {
   "cell_type": "markdown",
   "metadata": {},
   "source": [
    "## 2015"
   ]
  },
  {
   "cell_type": "markdown",
   "metadata": {},
   "source": [
    "### 2015 -- 1"
   ]
  },
  {
   "cell_type": "code",
   "execution_count": 68,
   "metadata": {
    "ExecuteTime": {
     "end_time": "2020-12-23T06:12:32.148785Z",
     "start_time": "2020-12-23T06:01:12.024595Z"
    }
   },
   "outputs": [],
   "source": [
    "tweets_2015_1 = pd.DataFrame()\n",
    "\n",
    "for since,until in merged_2015[:73]:\n",
    "    try:\n",
    "        # Configuring twint search\n",
    "        c = twint.Config()\n",
    "        c.Search = \"climate%change\"\n",
    "        c.Limit = 1000\n",
    "        c.Pandas = True\n",
    "        c.Hide_output = True\n",
    "#         c.Since = since\n",
    "        c.Until = until\n",
    "\n",
    "        # Running search\n",
    "        twint.run.Search(c)\n",
    "        # Creating dataframe with results\n",
    "        df = twint.storage.panda.Tweets_df[['date','tweet']]\n",
    "\n",
    "        tweets_2015_1 = tweets_2015_1.append(df)\n",
    "    except:\n",
    "        pass\n",
    "\n",
    "tweets_2015_1.to_csv('tweets_2015_1.csv')"
   ]
  },
  {
   "cell_type": "markdown",
   "metadata": {},
   "source": [
    "### 2015 -- 2"
   ]
  },
  {
   "cell_type": "code",
   "execution_count": 69,
   "metadata": {
    "ExecuteTime": {
     "end_time": "2020-12-23T06:24:06.510923Z",
     "start_time": "2020-12-23T06:12:32.151238Z"
    }
   },
   "outputs": [],
   "source": [
    "tweets_2015_2 = pd.DataFrame()\n",
    "\n",
    "for date in merged_2015[73:146]:\n",
    "    try:\n",
    "        # Configuring twint search\n",
    "        c = twint.Config()\n",
    "        c.Search = \"climate%change\"\n",
    "        c.Limit = 1000\n",
    "        c.Pandas = True\n",
    "        c.Hide_output = True\n",
    "#         c.Since = date[0]\n",
    "        c.Until = date[1]\n",
    "\n",
    "        # Running search\n",
    "        twint.run.Search(c)\n",
    "        # Creating dataframe with results\n",
    "        df = twint.storage.panda.Tweets_df[['date','tweet']]\n",
    "\n",
    "        tweets_2015_2 = tweets_2015_2.append(df)\n",
    "    except:\n",
    "        pass\n",
    "\n",
    "tweets_2015_2.to_csv('tweets_2015_2.csv')"
   ]
  },
  {
   "cell_type": "markdown",
   "metadata": {},
   "source": [
    "### 2015 -- 3"
   ]
  },
  {
   "cell_type": "code",
   "execution_count": 70,
   "metadata": {
    "ExecuteTime": {
     "end_time": "2020-12-23T06:34:47.260789Z",
     "start_time": "2020-12-23T06:24:06.512661Z"
    }
   },
   "outputs": [],
   "source": [
    "tweets_2015_3 = pd.DataFrame()\n",
    "\n",
    "for date in merged_2015[146:219]:\n",
    "    try:\n",
    "        # Configuring twint search\n",
    "        c = twint.Config()\n",
    "        c.Search = \"climate%change\"\n",
    "        c.Limit = 1000\n",
    "        c.Pandas = True\n",
    "        c.Hide_output = True\n",
    "#         c.Since = date[0]\n",
    "        c.Until = date[1]\n",
    "\n",
    "        # Running search\n",
    "        twint.run.Search(c)\n",
    "        # Creating dataframe with results\n",
    "        df = twint.storage.panda.Tweets_df[['date','tweet']]\n",
    "\n",
    "        tweets_2015_3 = tweets_2015_3.append(df)\n",
    "    except:\n",
    "        pass\n",
    "\n",
    "tweets_2015_3.to_csv('tweets_2015_3.csv')"
   ]
  },
  {
   "cell_type": "markdown",
   "metadata": {},
   "source": [
    "### 2015 -- 4"
   ]
  },
  {
   "cell_type": "code",
   "execution_count": 71,
   "metadata": {
    "ExecuteTime": {
     "end_time": "2020-12-23T06:46:48.408697Z",
     "start_time": "2020-12-23T06:34:47.264283Z"
    }
   },
   "outputs": [],
   "source": [
    "tweets_2015_4 = pd.DataFrame()\n",
    "\n",
    "for date in merged_2015[219:292]:\n",
    "    try:\n",
    "        # Configuring twint search\n",
    "        c = twint.Config()\n",
    "        c.Search = \"climate%change\"\n",
    "        c.Limit = 1000\n",
    "        c.Pandas = True\n",
    "        c.Hide_output = True\n",
    "#         c.Since = date[0]\n",
    "        c.Until = date[1]\n",
    "\n",
    "        # Running search\n",
    "        twint.run.Search(c)\n",
    "        # Creating dataframe with results\n",
    "        df = twint.storage.panda.Tweets_df[['date','tweet']]\n",
    "\n",
    "        tweets_2015_4 = tweets_2015_4.append(df)\n",
    "    except:\n",
    "        pass\n",
    "\n",
    "tweets_2015_4.to_csv('tweets_2015_4.csv')"
   ]
  },
  {
   "cell_type": "markdown",
   "metadata": {},
   "source": [
    "### 2015 -- 5"
   ]
  },
  {
   "cell_type": "code",
   "execution_count": 72,
   "metadata": {
    "ExecuteTime": {
     "end_time": "2020-12-23T06:58:22.702388Z",
     "start_time": "2020-12-23T06:46:48.411032Z"
    }
   },
   "outputs": [],
   "source": [
    "tweets_2015_5 = pd.DataFrame()\n",
    "\n",
    "for date in merged_2015[292:365]:\n",
    "    try:\n",
    "        # Configuring twint search\n",
    "        c = twint.Config()\n",
    "        c.Search = \"climate%change\"\n",
    "        c.Limit = 1000\n",
    "        c.Pandas = True\n",
    "        c.Hide_output = True\n",
    "#         c.Since = date[0]\n",
    "        c.Until = date[1]\n",
    "\n",
    "        # Running search\n",
    "        twint.run.Search(c)\n",
    "        # Creating dataframe with results\n",
    "        df = twint.storage.panda.Tweets_df[['date','tweet']]\n",
    "\n",
    "        tweets_2015_5 = tweets_2015_5.append(df)\n",
    "    except:\n",
    "        pass\n",
    "\n",
    "tweets_2015_5.to_csv('tweets_2015_5.csv')"
   ]
  },
  {
   "cell_type": "markdown",
   "metadata": {},
   "source": [
    "## 2016"
   ]
  },
  {
   "cell_type": "markdown",
   "metadata": {},
   "source": [
    "### 2016 -- 1"
   ]
  },
  {
   "cell_type": "code",
   "execution_count": 73,
   "metadata": {
    "ExecuteTime": {
     "end_time": "2020-12-23T07:10:15.107350Z",
     "start_time": "2020-12-23T06:58:22.704917Z"
    }
   },
   "outputs": [],
   "source": [
    "tweets_2016_1 = pd.DataFrame()\n",
    "\n",
    "for since,until in merged_2016[:73]:\n",
    "    try:\n",
    "        # Configuring twint search\n",
    "        c = twint.Config()\n",
    "        c.Search = \"climate%change\"\n",
    "        c.Limit = 1000\n",
    "        c.Pandas = True\n",
    "        c.Hide_output = True\n",
    "#         c.Since = since\n",
    "        c.Until = until\n",
    "\n",
    "        # Running search\n",
    "        twint.run.Search(c)\n",
    "        # Creating dataframe with results\n",
    "        df = twint.storage.panda.Tweets_df[['date','tweet']]\n",
    "\n",
    "        tweets_2016_1 = tweets_2016_1.append(df)\n",
    "    except:\n",
    "        pass\n",
    "\n",
    "tweets_2016_1.to_csv('tweets_2016_1.csv')"
   ]
  },
  {
   "cell_type": "markdown",
   "metadata": {},
   "source": [
    "### 2016 -- 2"
   ]
  },
  {
   "cell_type": "code",
   "execution_count": 74,
   "metadata": {
    "ExecuteTime": {
     "end_time": "2020-12-23T07:22:13.335651Z",
     "start_time": "2020-12-23T07:10:15.109892Z"
    }
   },
   "outputs": [],
   "source": [
    "tweets_2016_2 = pd.DataFrame()\n",
    "\n",
    "for date in merged_2016[73:146]:\n",
    "    try:\n",
    "        # Configuring twint search\n",
    "        c = twint.Config()\n",
    "        c.Search = \"climate%change\"\n",
    "        c.Limit = 1000\n",
    "        c.Pandas = True\n",
    "        c.Hide_output = True\n",
    "#         c.Since = date[0]\n",
    "        c.Until = date[1]\n",
    "\n",
    "        # Running search\n",
    "        twint.run.Search(c)\n",
    "        # Creating dataframe with results\n",
    "        df = twint.storage.panda.Tweets_df[['date','tweet']]\n",
    "\n",
    "        tweets_2016_2 = tweets_2016_2.append(df)\n",
    "    except:\n",
    "        pass\n",
    "\n",
    "tweets_2016_2.to_csv('tweets_2016_2.csv')"
   ]
  },
  {
   "cell_type": "markdown",
   "metadata": {},
   "source": [
    "### 2016 -- 3"
   ]
  },
  {
   "cell_type": "code",
   "execution_count": 75,
   "metadata": {
    "ExecuteTime": {
     "end_time": "2020-12-23T07:34:24.343208Z",
     "start_time": "2020-12-23T07:22:13.338053Z"
    }
   },
   "outputs": [],
   "source": [
    "tweets_2016_3 = pd.DataFrame()\n",
    "\n",
    "for date in merged_2016[146:219]:\n",
    "    try:\n",
    "        # Configuring twint search\n",
    "        c = twint.Config()\n",
    "        c.Search = \"climate%change\"\n",
    "        c.Limit = 1000\n",
    "        c.Pandas = True\n",
    "        c.Hide_output = True\n",
    "#         c.Since = date[0]\n",
    "        c.Until = date[1]\n",
    "\n",
    "        # Running search\n",
    "        twint.run.Search(c)\n",
    "        # Creating dataframe with results\n",
    "        df = twint.storage.panda.Tweets_df[['date','tweet']]\n",
    "\n",
    "        tweets_2016_3 = tweets_2016_3.append(df)\n",
    "    except:\n",
    "        pass\n",
    "\n",
    "tweets_2016_3.to_csv('tweets_2016_3.csv')"
   ]
  },
  {
   "cell_type": "markdown",
   "metadata": {},
   "source": [
    "### 2016 -- 4"
   ]
  },
  {
   "cell_type": "code",
   "execution_count": 76,
   "metadata": {
    "ExecuteTime": {
     "end_time": "2020-12-23T07:46:10.363929Z",
     "start_time": "2020-12-23T07:34:24.345413Z"
    }
   },
   "outputs": [],
   "source": [
    "tweets_2016_4 = pd.DataFrame()\n",
    "\n",
    "for date in merged_2016[219:292]:\n",
    "    try:\n",
    "        # Configuring twint search\n",
    "        c = twint.Config()\n",
    "        c.Search = \"climate%change\"\n",
    "        c.Limit = 1000\n",
    "        c.Pandas = True\n",
    "        c.Hide_output = True\n",
    "#         c.Since = date[0]\n",
    "        c.Until = date[1]\n",
    "\n",
    "        # Running search\n",
    "        twint.run.Search(c)\n",
    "        # Creating dataframe with results\n",
    "        df = twint.storage.panda.Tweets_df[['date','tweet']]\n",
    "\n",
    "        tweets_2016_4 = tweets_2016_4.append(df)\n",
    "    except:\n",
    "        pass\n",
    "\n",
    "tweets_2016_4.to_csv('tweets_2016_4.csv')"
   ]
  },
  {
   "cell_type": "markdown",
   "metadata": {},
   "source": [
    "### 2016 -- 5"
   ]
  },
  {
   "cell_type": "code",
   "execution_count": 77,
   "metadata": {
    "ExecuteTime": {
     "end_time": "2020-12-23T07:57:58.748197Z",
     "start_time": "2020-12-23T07:46:10.366159Z"
    }
   },
   "outputs": [],
   "source": [
    "tweets_2016_5 = pd.DataFrame()\n",
    "\n",
    "for date in merged_2016[292:365]:\n",
    "    try:\n",
    "        # Configuring twint search\n",
    "        c = twint.Config()\n",
    "        c.Search = \"climate%change\"\n",
    "        c.Limit = 1000\n",
    "        c.Pandas = True\n",
    "        c.Hide_output = True\n",
    "#         c.Since = date[0]\n",
    "        c.Until = date[1]\n",
    "\n",
    "        # Running search\n",
    "        twint.run.Search(c)\n",
    "        # Creating dataframe with results\n",
    "        df = twint.storage.panda.Tweets_df[['date','tweet']]\n",
    "\n",
    "        tweets_2016_5 = tweets_2016_5.append(df)\n",
    "    except:\n",
    "        pass\n",
    "\n",
    "tweets_2016_5.to_csv('tweets_2016_5.csv')"
   ]
  },
  {
   "cell_type": "markdown",
   "metadata": {},
   "source": [
    "## 2017"
   ]
  },
  {
   "cell_type": "markdown",
   "metadata": {},
   "source": [
    "### 2017 -- 1"
   ]
  },
  {
   "cell_type": "code",
   "execution_count": 78,
   "metadata": {
    "ExecuteTime": {
     "end_time": "2020-12-23T08:10:28.031033Z",
     "start_time": "2020-12-23T07:57:58.750499Z"
    }
   },
   "outputs": [],
   "source": [
    "tweets_2017_1 = pd.DataFrame()\n",
    "\n",
    "for since,until in merged_2017[:73]:\n",
    "    try:\n",
    "        # Configuring twint search\n",
    "        c = twint.Config()\n",
    "        c.Search = \"climate%change\"\n",
    "        c.Limit = 1000\n",
    "        c.Pandas = True\n",
    "        c.Hide_output = True\n",
    "#         c.Since = since\n",
    "        c.Until = until\n",
    "\n",
    "        # Running search\n",
    "        twint.run.Search(c)\n",
    "        # Creating dataframe with results\n",
    "        df = twint.storage.panda.Tweets_df[['date','tweet']]\n",
    "\n",
    "        tweets_2017_1 = tweets_2017_1.append(df)\n",
    "    except:\n",
    "        pass\n",
    "\n",
    "tweets_2017_1.to_csv('tweets_2017_1.csv')"
   ]
  },
  {
   "cell_type": "markdown",
   "metadata": {},
   "source": [
    "### 2017 -- 2"
   ]
  },
  {
   "cell_type": "code",
   "execution_count": 79,
   "metadata": {
    "ExecuteTime": {
     "end_time": "2020-12-23T08:23:10.976187Z",
     "start_time": "2020-12-23T08:10:28.033422Z"
    }
   },
   "outputs": [],
   "source": [
    "tweets_2017_2 = pd.DataFrame()\n",
    "\n",
    "for date in merged_2017[73:146]:\n",
    "    try:\n",
    "        # Configuring twint search\n",
    "        c = twint.Config()\n",
    "        c.Search = \"climate%change\"\n",
    "        c.Limit = 1000\n",
    "        c.Pandas = True\n",
    "        c.Hide_output = True\n",
    "#         c.Since = date[0]\n",
    "        c.Until = date[1]\n",
    "\n",
    "        # Running search\n",
    "        twint.run.Search(c)\n",
    "        # Creating dataframe with results\n",
    "        df = twint.storage.panda.Tweets_df[['date','tweet']]\n",
    "\n",
    "        tweets_2017_2 = tweets_2017_2.append(df)\n",
    "    except:\n",
    "        pass\n",
    "\n",
    "tweets_2017_2.to_csv('tweets_2017_2.csv')"
   ]
  },
  {
   "cell_type": "markdown",
   "metadata": {},
   "source": [
    "### 2017 -- 3"
   ]
  },
  {
   "cell_type": "code",
   "execution_count": 80,
   "metadata": {
    "ExecuteTime": {
     "end_time": "2020-12-23T08:35:45.434485Z",
     "start_time": "2020-12-23T08:23:10.978043Z"
    }
   },
   "outputs": [],
   "source": [
    "tweets_2017_3 = pd.DataFrame()\n",
    "\n",
    "for date in merged_2017[146:219]:\n",
    "    try:\n",
    "        # Configuring twint search\n",
    "        c = twint.Config()\n",
    "        c.Search = \"climate%change\"\n",
    "        c.Limit = 1000\n",
    "        c.Pandas = True\n",
    "        c.Hide_output = True\n",
    "#         c.Since = date[0]\n",
    "        c.Until = date[1]\n",
    "\n",
    "        # Running search\n",
    "        twint.run.Search(c)\n",
    "        # Creating dataframe with results\n",
    "        df = twint.storage.panda.Tweets_df[['date','tweet']]\n",
    "\n",
    "        tweets_2017_3 = tweets_2017_3.append(df)\n",
    "    except:\n",
    "        pass\n",
    "\n",
    "tweets_2017_3.to_csv('tweets_2017_3.csv')"
   ]
  },
  {
   "cell_type": "markdown",
   "metadata": {},
   "source": [
    "### 2017 -- 4"
   ]
  },
  {
   "cell_type": "code",
   "execution_count": 81,
   "metadata": {
    "ExecuteTime": {
     "end_time": "2020-12-23T08:47:35.844208Z",
     "start_time": "2020-12-23T08:35:45.436722Z"
    }
   },
   "outputs": [],
   "source": [
    "tweets_2017_4 = pd.DataFrame()\n",
    "\n",
    "for date in merged_2017[219:292]:\n",
    "    try:\n",
    "        # Configuring twint search\n",
    "        c = twint.Config()\n",
    "        c.Search = \"climate%change\"\n",
    "        c.Limit = 1000\n",
    "        c.Pandas = True\n",
    "        c.Hide_output = True\n",
    "#         c.Since = date[0]\n",
    "        c.Until = date[1]\n",
    "\n",
    "        # Running search\n",
    "        twint.run.Search(c)\n",
    "        # Creating dataframe with results\n",
    "        df = twint.storage.panda.Tweets_df[['date','tweet']]\n",
    "\n",
    "        tweets_2017_4 = tweets_2017_4.append(df)\n",
    "    except:\n",
    "        pass\n",
    "\n",
    "tweets_2017_4.to_csv('tweets_2017_4.csv')"
   ]
  },
  {
   "cell_type": "markdown",
   "metadata": {},
   "source": [
    "### 2017 -- 5"
   ]
  },
  {
   "cell_type": "code",
   "execution_count": 82,
   "metadata": {
    "ExecuteTime": {
     "end_time": "2020-12-23T09:00:09.286719Z",
     "start_time": "2020-12-23T08:47:35.846730Z"
    }
   },
   "outputs": [],
   "source": [
    "tweets_2017_5 = pd.DataFrame()\n",
    "\n",
    "for date in merged_2017[292:365]:\n",
    "    try:\n",
    "        # Configuring twint search\n",
    "        c = twint.Config()\n",
    "        c.Search = \"climate%change\"\n",
    "        c.Limit = 1000\n",
    "        c.Pandas = True\n",
    "        c.Hide_output = True\n",
    "#         c.Since = date[0]\n",
    "        c.Until = date[1]\n",
    "\n",
    "        # Running search\n",
    "        twint.run.Search(c)\n",
    "        # Creating dataframe with results\n",
    "        df = twint.storage.panda.Tweets_df[['date','tweet']]\n",
    "\n",
    "        tweets_2017_5 = tweets_2017_5.append(df)\n",
    "    except:\n",
    "        pass\n",
    "\n",
    "tweets_2017_5.to_csv('tweets_2017_5.csv')"
   ]
  },
  {
   "cell_type": "markdown",
   "metadata": {},
   "source": [
    "## 2018"
   ]
  },
  {
   "cell_type": "markdown",
   "metadata": {},
   "source": [
    "### 2018 -- 1"
   ]
  },
  {
   "cell_type": "code",
   "execution_count": 83,
   "metadata": {
    "ExecuteTime": {
     "end_time": "2020-12-23T09:13:14.786347Z",
     "start_time": "2020-12-23T09:00:09.289040Z"
    }
   },
   "outputs": [],
   "source": [
    "tweets_2018_1 = pd.DataFrame()\n",
    "\n",
    "for since,until in merged_2018[:73]:\n",
    "    try:\n",
    "        # Configuring twint search\n",
    "        c = twint.Config()\n",
    "        c.Search = \"climate%change\"\n",
    "        c.Limit = 1000\n",
    "        c.Pandas = True\n",
    "        c.Hide_output = True\n",
    "#         c.Since = since\n",
    "        c.Until = until\n",
    "\n",
    "        # Running search\n",
    "        twint.run.Search(c)\n",
    "        # Creating dataframe with results\n",
    "        df = twint.storage.panda.Tweets_df[['date','tweet']]\n",
    "\n",
    "        tweets_2018_1 = tweets_2018_1.append(df)\n",
    "    except:\n",
    "        pass\n",
    "\n",
    "tweets_2018_1.to_csv('tweets_2018_1.csv')"
   ]
  },
  {
   "cell_type": "markdown",
   "metadata": {},
   "source": [
    "### 2018 -- 2"
   ]
  },
  {
   "cell_type": "code",
   "execution_count": 84,
   "metadata": {
    "ExecuteTime": {
     "end_time": "2020-12-23T09:26:04.901711Z",
     "start_time": "2020-12-23T09:13:14.789677Z"
    }
   },
   "outputs": [],
   "source": [
    "tweets_2018_2 = pd.DataFrame()\n",
    "\n",
    "for date in merged_2018[73:146]:\n",
    "    try:\n",
    "        # Configuring twint search\n",
    "        c = twint.Config()\n",
    "        c.Search = \"climate%change\"\n",
    "        c.Limit = 1000\n",
    "        c.Pandas = True\n",
    "        c.Hide_output = True\n",
    "#         c.Since = date[0]\n",
    "        c.Until = date[1]\n",
    "\n",
    "        # Running search\n",
    "        twint.run.Search(c)\n",
    "        # Creating dataframe with results\n",
    "        df = twint.storage.panda.Tweets_df[['date','tweet']]\n",
    "\n",
    "        tweets_2018_2 = tweets_2018_2.append(df)\n",
    "    except:\n",
    "        pass\n",
    "\n",
    "tweets_2018_2.to_csv('tweets_2018_2.csv')"
   ]
  },
  {
   "cell_type": "markdown",
   "metadata": {},
   "source": [
    "### 2018 -- 3"
   ]
  },
  {
   "cell_type": "code",
   "execution_count": 85,
   "metadata": {
    "ExecuteTime": {
     "end_time": "2020-12-23T09:38:53.196688Z",
     "start_time": "2020-12-23T09:26:04.904124Z"
    }
   },
   "outputs": [],
   "source": [
    "tweets_2018_3 = pd.DataFrame()\n",
    "\n",
    "for date in merged_2018[146:219]:\n",
    "    try:\n",
    "        # Configuring twint search\n",
    "        c = twint.Config()\n",
    "        c.Search = \"climate%change\"\n",
    "        c.Limit = 1000\n",
    "        c.Pandas = True\n",
    "        c.Hide_output = True\n",
    "#         c.Since = date[0]\n",
    "        c.Until = date[1]\n",
    "\n",
    "        # Running search\n",
    "        twint.run.Search(c)\n",
    "        # Creating dataframe with results\n",
    "        df = twint.storage.panda.Tweets_df[['date','tweet']]\n",
    "\n",
    "        tweets_2018_3 = tweets_2018_3.append(df)\n",
    "    except:\n",
    "        pass\n",
    "\n",
    "tweets_2018_3.to_csv('tweets_2018_3.csv')"
   ]
  },
  {
   "cell_type": "markdown",
   "metadata": {},
   "source": [
    "### 2018 -- 4"
   ]
  },
  {
   "cell_type": "code",
   "execution_count": 86,
   "metadata": {
    "ExecuteTime": {
     "end_time": "2020-12-23T09:51:44.798116Z",
     "start_time": "2020-12-23T09:38:53.199477Z"
    }
   },
   "outputs": [],
   "source": [
    "tweets_2018_4 = pd.DataFrame()\n",
    "\n",
    "for date in merged_2018[219:292]:\n",
    "    try:\n",
    "        # Configuring twint search\n",
    "        c = twint.Config()\n",
    "        c.Search = \"climate%change\"\n",
    "        c.Limit = 1000\n",
    "        c.Pandas = True\n",
    "        c.Hide_output = True\n",
    "#         c.Since = date[0]\n",
    "        c.Until = date[1]\n",
    "\n",
    "        # Running search\n",
    "        twint.run.Search(c)\n",
    "        # Creating dataframe with results\n",
    "        df = twint.storage.panda.Tweets_df[['date','tweet']]\n",
    "\n",
    "        tweets_2018_4 = tweets_2018_4.append(df)\n",
    "    except:\n",
    "        pass\n",
    "\n",
    "tweets_2018_4.to_csv('tweets_2018_4.csv')"
   ]
  },
  {
   "cell_type": "markdown",
   "metadata": {},
   "source": [
    "### 2018 -- 5"
   ]
  },
  {
   "cell_type": "code",
   "execution_count": 87,
   "metadata": {
    "ExecuteTime": {
     "end_time": "2020-12-23T10:05:21.085382Z",
     "start_time": "2020-12-23T09:51:44.800219Z"
    }
   },
   "outputs": [],
   "source": [
    "tweets_2018_5 = pd.DataFrame()\n",
    "\n",
    "for date in merged_2018[292:365]:\n",
    "    try:\n",
    "        # Configuring twint search\n",
    "        c = twint.Config()\n",
    "        c.Search = \"climate%change\"\n",
    "        c.Limit = 1000\n",
    "        c.Pandas = True\n",
    "        c.Hide_output = True\n",
    "#         c.Since = date[0]\n",
    "        c.Until = date[1]\n",
    "\n",
    "        # Running search\n",
    "        twint.run.Search(c)\n",
    "        # Creating dataframe with results\n",
    "        df = twint.storage.panda.Tweets_df[['date','tweet']]\n",
    "\n",
    "        tweets_2018_5 = tweets_2018_5.append(df)\n",
    "    except:\n",
    "        pass\n",
    "\n",
    "tweets_2018_5.to_csv('tweets_2018_5.csv')"
   ]
  },
  {
   "cell_type": "markdown",
   "metadata": {},
   "source": [
    "## 2019"
   ]
  },
  {
   "cell_type": "markdown",
   "metadata": {},
   "source": [
    "### 2019 -- 1"
   ]
  },
  {
   "cell_type": "code",
   "execution_count": 88,
   "metadata": {
    "ExecuteTime": {
     "end_time": "2020-12-23T10:18:16.989012Z",
     "start_time": "2020-12-23T10:05:21.087798Z"
    }
   },
   "outputs": [],
   "source": [
    "tweets_2019_1 = pd.DataFrame()\n",
    "\n",
    "for since,until in merged_2019[:73]:\n",
    "    try:\n",
    "        # Configuring twint search\n",
    "        c = twint.Config()\n",
    "        c.Search = \"climate%change\"\n",
    "        c.Limit = 1000\n",
    "        c.Pandas = True\n",
    "        c.Hide_output = True\n",
    "#         c.Since = since\n",
    "        c.Until = until\n",
    "\n",
    "        # Running search\n",
    "        twint.run.Search(c)\n",
    "        # Creating dataframe with results\n",
    "        df = twint.storage.panda.Tweets_df[['date','tweet']]\n",
    "\n",
    "        tweets_2019_1 = tweets_2019_1.append(df)\n",
    "    except:\n",
    "        pass\n",
    "\n",
    "tweets_2019_1.to_csv('tweets_2019_1.csv')"
   ]
  },
  {
   "cell_type": "markdown",
   "metadata": {},
   "source": [
    "### 2019 -- 2"
   ]
  },
  {
   "cell_type": "code",
   "execution_count": 89,
   "metadata": {
    "ExecuteTime": {
     "end_time": "2020-12-23T10:31:32.167736Z",
     "start_time": "2020-12-23T10:18:16.994749Z"
    }
   },
   "outputs": [],
   "source": [
    "tweets_2019_2 = pd.DataFrame()\n",
    "\n",
    "for date in merged_2019[73:146]:\n",
    "    try:\n",
    "        # Configuring twint search\n",
    "        c = twint.Config()\n",
    "        c.Search = \"climate%change\"\n",
    "        c.Limit = 1000\n",
    "        c.Pandas = True\n",
    "        c.Hide_output = True\n",
    "#         c.Since = date[0]\n",
    "        c.Until = date[1]\n",
    "\n",
    "        # Running search\n",
    "        twint.run.Search(c)\n",
    "        # Creating dataframe with results\n",
    "        df = twint.storage.panda.Tweets_df[['date','tweet']]\n",
    "\n",
    "        tweets_2019_2 = tweets_2019_2.append(df)\n",
    "    except:\n",
    "        pass\n",
    "\n",
    "tweets_2019_2.to_csv('tweets_2019_2.csv')"
   ]
  },
  {
   "cell_type": "markdown",
   "metadata": {},
   "source": [
    "### 2019 -- 3"
   ]
  },
  {
   "cell_type": "code",
   "execution_count": 90,
   "metadata": {
    "ExecuteTime": {
     "end_time": "2020-12-23T10:45:20.901645Z",
     "start_time": "2020-12-23T10:31:32.170075Z"
    }
   },
   "outputs": [],
   "source": [
    "tweets_2019_3 = pd.DataFrame()\n",
    "\n",
    "for date in merged_2019[146:219]:\n",
    "    try:\n",
    "        # Configuring twint search\n",
    "        c = twint.Config()\n",
    "        c.Search = \"climate%change\"\n",
    "        c.Limit = 1000\n",
    "        c.Pandas = True\n",
    "        c.Hide_output = True\n",
    "#         c.Since = date[0]\n",
    "        c.Until = date[1]\n",
    "\n",
    "        # Running search\n",
    "        twint.run.Search(c)\n",
    "        # Creating dataframe with results\n",
    "        df = twint.storage.panda.Tweets_df[['date','tweet']]\n",
    "\n",
    "        tweets_2019_3 = tweets_2019_3.append(df)\n",
    "    except:\n",
    "        pass\n",
    "\n",
    "tweets_2019_3.to_csv('tweets_2019_3.csv')"
   ]
  },
  {
   "cell_type": "markdown",
   "metadata": {},
   "source": [
    "### 2019 -- 4"
   ]
  },
  {
   "cell_type": "code",
   "execution_count": 91,
   "metadata": {
    "ExecuteTime": {
     "end_time": "2020-12-23T10:59:02.433588Z",
     "start_time": "2020-12-23T10:45:20.904032Z"
    }
   },
   "outputs": [],
   "source": [
    "tweets_2019_4 = pd.DataFrame()\n",
    "\n",
    "for date in merged_2019[219:292]:\n",
    "    try:\n",
    "        # Configuring twint search\n",
    "        c = twint.Config()\n",
    "        c.Search = \"climate%change\"\n",
    "        c.Limit = 1000\n",
    "        c.Pandas = True\n",
    "        c.Hide_output = True\n",
    "#         c.Since = date[0]\n",
    "        c.Until = date[1]\n",
    "\n",
    "        # Running search\n",
    "        twint.run.Search(c)\n",
    "        # Creating dataframe with results\n",
    "        df = twint.storage.panda.Tweets_df[['date','tweet']]\n",
    "\n",
    "        tweets_2019_4 = tweets_2019_4.append(df)\n",
    "    except:\n",
    "        pass\n",
    "\n",
    "tweets_2019_4.to_csv('tweets_2019_4.csv')"
   ]
  },
  {
   "cell_type": "markdown",
   "metadata": {},
   "source": [
    "### 2019 -- 5"
   ]
  },
  {
   "cell_type": "code",
   "execution_count": 92,
   "metadata": {
    "ExecuteTime": {
     "end_time": "2020-12-23T11:12:45.752064Z",
     "start_time": "2020-12-23T10:59:02.435901Z"
    }
   },
   "outputs": [],
   "source": [
    "tweets_2019_5 = pd.DataFrame()\n",
    "\n",
    "for date in merged_2019[292:365]:\n",
    "    try:\n",
    "        # Configuring twint search\n",
    "        c = twint.Config()\n",
    "        c.Search = \"climate%change\"\n",
    "        c.Limit = 1000\n",
    "        c.Pandas = True\n",
    "        c.Hide_output = True\n",
    "#         c.Since = date[0]\n",
    "        c.Until = date[1]\n",
    "\n",
    "        # Running search\n",
    "        twint.run.Search(c)\n",
    "        # Creating dataframe with results\n",
    "        df = twint.storage.panda.Tweets_df[['date','tweet']]\n",
    "\n",
    "        tweets_2019_5 = tweets_2019_5.append(df)\n",
    "    except:\n",
    "        pass\n",
    "\n",
    "tweets_2019_5.to_csv('tweets_2019_5.csv')"
   ]
  },
  {
   "cell_type": "markdown",
   "metadata": {},
   "source": [
    "## 2020"
   ]
  },
  {
   "cell_type": "markdown",
   "metadata": {},
   "source": [
    "### 2020 -- 1"
   ]
  },
  {
   "cell_type": "code",
   "execution_count": 93,
   "metadata": {
    "ExecuteTime": {
     "end_time": "2020-12-23T11:25:56.153163Z",
     "start_time": "2020-12-23T11:12:45.754449Z"
    }
   },
   "outputs": [],
   "source": [
    "tweets_2020_1 = pd.DataFrame()\n",
    "\n",
    "for since,until in merged_2020[:73]:\n",
    "    try:\n",
    "        # Configuring twint search\n",
    "        c = twint.Config()\n",
    "        c.Search = \"climate%change\"\n",
    "        c.Limit = 1000\n",
    "        c.Pandas = True\n",
    "        c.Hide_output = True\n",
    "#         c.Since = since\n",
    "        c.Until = until\n",
    "\n",
    "        # Running search\n",
    "        twint.run.Search(c)\n",
    "        # Creating dataframe with results\n",
    "        df = twint.storage.panda.Tweets_df[['date','tweet']]\n",
    "\n",
    "        tweets_2020_1 = tweets_2020_1.append(df)\n",
    "    except:\n",
    "        pass\n",
    "\n",
    "tweets_2020_1.to_csv('tweets_2020_1.csv')"
   ]
  },
  {
   "cell_type": "markdown",
   "metadata": {},
   "source": [
    "### 2020 -- 2"
   ]
  },
  {
   "cell_type": "code",
   "execution_count": 94,
   "metadata": {
    "ExecuteTime": {
     "end_time": "2020-12-23T11:39:14.407486Z",
     "start_time": "2020-12-23T11:25:56.155960Z"
    }
   },
   "outputs": [],
   "source": [
    "tweets_2020_2 = pd.DataFrame()\n",
    "\n",
    "for date in merged_2020[73:146]:\n",
    "    try:\n",
    "        # Configuring twint search\n",
    "        c = twint.Config()\n",
    "        c.Search = \"climate%change\"\n",
    "        c.Limit = 1000\n",
    "        c.Pandas = True\n",
    "        c.Hide_output = True\n",
    "#         c.Since = date[0]\n",
    "        c.Until = date[1]\n",
    "\n",
    "        # Running search\n",
    "        twint.run.Search(c)\n",
    "        # Creating dataframe with results\n",
    "        df = twint.storage.panda.Tweets_df[['date','tweet']]\n",
    "\n",
    "        tweets_2020_2 = tweets_2020_2.append(df)\n",
    "    except:\n",
    "        pass\n",
    "\n",
    "tweets_2020_2.to_csv('tweets_2020_2.csv')"
   ]
  },
  {
   "cell_type": "markdown",
   "metadata": {},
   "source": [
    "### 2020 -- 3"
   ]
  },
  {
   "cell_type": "code",
   "execution_count": 95,
   "metadata": {
    "ExecuteTime": {
     "end_time": "2020-12-23T11:51:58.916288Z",
     "start_time": "2020-12-23T11:39:14.410083Z"
    }
   },
   "outputs": [],
   "source": [
    "tweets_2020_3 = pd.DataFrame()\n",
    "\n",
    "for date in merged_2020[146:219]:\n",
    "    try:\n",
    "        # Configuring twint search\n",
    "        c = twint.Config()\n",
    "        c.Search = \"climate%change\"\n",
    "        c.Limit = 1000\n",
    "        c.Pandas = True\n",
    "        c.Hide_output = True\n",
    "#         c.Since = date[0]\n",
    "        c.Until = date[1]\n",
    "\n",
    "        # Running search\n",
    "        twint.run.Search(c)\n",
    "        # Creating dataframe with results\n",
    "        df = twint.storage.panda.Tweets_df[['date','tweet']]\n",
    "\n",
    "        tweets_2020_3 = tweets_2020_3.append(df)\n",
    "    except:\n",
    "        pass\n",
    "\n",
    "tweets_2020_3.to_csv('tweets_2020_3.csv')"
   ]
  },
  {
   "cell_type": "markdown",
   "metadata": {},
   "source": [
    "### 2020 -- 4"
   ]
  },
  {
   "cell_type": "code",
   "execution_count": 96,
   "metadata": {
    "ExecuteTime": {
     "end_time": "2020-12-23T12:04:50.042106Z",
     "start_time": "2020-12-23T11:51:58.918425Z"
    }
   },
   "outputs": [],
   "source": [
    "tweets_2020_4 = pd.DataFrame()\n",
    "\n",
    "for date in merged_2020[219:292]:\n",
    "    try:\n",
    "        # Configuring twint search\n",
    "        c = twint.Config()\n",
    "        c.Search = \"climate%change\"\n",
    "        c.Limit = 1000\n",
    "        c.Pandas = True\n",
    "        c.Hide_output = True\n",
    "#         c.Since = date[0]\n",
    "        c.Until = date[1]\n",
    "\n",
    "        # Running search\n",
    "        twint.run.Search(c)\n",
    "        # Creating dataframe with results\n",
    "        df = twint.storage.panda.Tweets_df[['date','tweet']]\n",
    "\n",
    "        tweets_2020_4 = tweets_2020_4.append(df)\n",
    "    except:\n",
    "        pass\n",
    "\n",
    "tweets_2020_4.to_csv('tweets_2020_4.csv')"
   ]
  },
  {
   "cell_type": "markdown",
   "metadata": {},
   "source": [
    "### 2020 -- 5"
   ]
  },
  {
   "cell_type": "code",
   "execution_count": 97,
   "metadata": {
    "ExecuteTime": {
     "end_time": "2020-12-23T12:17:49.264412Z",
     "start_time": "2020-12-23T12:04:50.044346Z"
    }
   },
   "outputs": [],
   "source": [
    "tweets_2020_5 = pd.DataFrame()\n",
    "\n",
    "for date in merged_2020[292:365]:\n",
    "    try:\n",
    "        # Configuring twint search\n",
    "        c = twint.Config()\n",
    "        c.Search = \"climate%change\"\n",
    "        c.Limit = 1000\n",
    "        c.Pandas = True\n",
    "        c.Hide_output = True\n",
    "#         c.Since = date[0]\n",
    "        c.Until = date[1]\n",
    "\n",
    "        # Running search\n",
    "        twint.run.Search(c)\n",
    "        # Creating dataframe with results\n",
    "        df = twint.storage.panda.Tweets_df[['date','tweet']]\n",
    "\n",
    "        tweets_2020_5 = tweets_2020_5.append(df)\n",
    "    except:\n",
    "        pass\n",
    "\n",
    "tweets_2020_5.to_csv('tweets_2020_5.csv')"
   ]
  }
 ],
 "metadata": {
  "kernelspec": {
   "display_name": "learn-env",
   "language": "python",
   "name": "learn-env"
  },
  "language_info": {
   "codemirror_mode": {
    "name": "ipython",
    "version": 3
   },
   "file_extension": ".py",
   "mimetype": "text/x-python",
   "name": "python",
   "nbconvert_exporter": "python",
   "pygments_lexer": "ipython3",
   "version": "3.6.9"
  },
  "toc": {
   "base_numbering": 1,
   "nav_menu": {},
   "number_sections": true,
   "sideBar": true,
   "skip_h1_title": false,
   "title_cell": "Table of Contents",
   "title_sidebar": "Contents",
   "toc_cell": false,
   "toc_position": {},
   "toc_section_display": true,
   "toc_window_display": false
  },
  "varInspector": {
   "cols": {
    "lenName": 16,
    "lenType": 16,
    "lenVar": 40
   },
   "kernels_config": {
    "python": {
     "delete_cmd_postfix": "",
     "delete_cmd_prefix": "del ",
     "library": "var_list.py",
     "varRefreshCmd": "print(var_dic_list())"
    },
    "r": {
     "delete_cmd_postfix": ") ",
     "delete_cmd_prefix": "rm(",
     "library": "var_list.r",
     "varRefreshCmd": "cat(var_dic_list()) "
    }
   },
   "types_to_exclude": [
    "module",
    "function",
    "builtin_function_or_method",
    "instance",
    "_Feature"
   ],
   "window_display": false
  }
 },
 "nbformat": 4,
 "nbformat_minor": 4
}
