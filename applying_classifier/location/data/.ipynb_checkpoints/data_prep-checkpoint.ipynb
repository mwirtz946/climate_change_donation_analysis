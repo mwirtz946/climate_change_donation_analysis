{
 "cells": [
  {
   "cell_type": "markdown",
   "metadata": {},
   "source": [
    "# Overview"
   ]
  },
  {
   "cell_type": "markdown",
   "metadata": {},
   "source": [
    "In this notebook, raw data scraped using tweepy will be adapted to provide location-based information. This process will include: \n",
    "1. [Imports](#Imports)\n",
    "2. [Getting Tweet Locations](#Getting-Tweet-Locations)\n",
    "3. [Classifying Location Tweets](#Classifying-Location-Tweets)  \n",
    "    a. [Retrain TF-IDF](#Retrain-TF-IDF)  \n",
    "    b. [Load Pickled Model](#Load-Pickled-Model)  \n",
    "    c. [Cleaning Tweets](#Cleaning-Tweets)  \n",
    "    d. [Transforming Tweets](#Transforming-Tweets)  \n",
    "    e. [Predicting Sentiment](#Predicting-Sentiment)\n",
    "4. [Formatting Data](#Formatting-Data)  \n",
    "    a. [Observations Per State](#Observations-Per-State)  \n",
    "    b. [Sentiment Per State](#Sentiment-Per-State)"
   ]
  },
  {
   "cell_type": "markdown",
   "metadata": {},
   "source": [
    "# Imports"
   ]
  },
  {
   "cell_type": "markdown",
   "metadata": {},
   "source": [
    "For further information, all imports and functions for this notebook are located [here](./location_functions.py)"
   ]
  },
  {
   "cell_type": "code",
   "execution_count": 1,
   "metadata": {
    "ExecuteTime": {
     "end_time": "2020-12-29T21:13:51.851053Z",
     "start_time": "2020-12-29T21:13:47.102641Z"
    }
   },
   "outputs": [],
   "source": [
    "# All necessary imports\n",
    "from location_functions import *"
   ]
  },
  {
   "cell_type": "code",
   "execution_count": 2,
   "metadata": {
    "ExecuteTime": {
     "end_time": "2020-12-29T21:13:52.996043Z",
     "start_time": "2020-12-29T21:13:52.974140Z"
    }
   },
   "outputs": [
    {
     "data": {
      "text/html": [
       "<div>\n",
       "<style scoped>\n",
       "    .dataframe tbody tr th:only-of-type {\n",
       "        vertical-align: middle;\n",
       "    }\n",
       "\n",
       "    .dataframe tbody tr th {\n",
       "        vertical-align: top;\n",
       "    }\n",
       "\n",
       "    .dataframe thead th {\n",
       "        text-align: right;\n",
       "    }\n",
       "</style>\n",
       "<table border=\"1\" class=\"dataframe\">\n",
       "  <thead>\n",
       "    <tr style=\"text-align: right;\">\n",
       "      <th></th>\n",
       "      <th>location</th>\n",
       "      <th>coordinates</th>\n",
       "      <th>place</th>\n",
       "      <th>text</th>\n",
       "    </tr>\n",
       "  </thead>\n",
       "  <tbody>\n",
       "    <tr>\n",
       "      <th>0</th>\n",
       "      <td>United States</td>\n",
       "      <td>NaN</td>\n",
       "      <td>NaN</td>\n",
       "      <td>RT @LegendaryEnergy: Bill Gates &amp;amp; Ted Turn...</td>\n",
       "    </tr>\n",
       "    <tr>\n",
       "      <th>1</th>\n",
       "      <td>somewhere, safe</td>\n",
       "      <td>NaN</td>\n",
       "      <td>NaN</td>\n",
       "      <td>RT @Lolade4PF: Jcole fans after a long day of ...</td>\n",
       "    </tr>\n",
       "    <tr>\n",
       "      <th>2</th>\n",
       "      <td>NSW</td>\n",
       "      <td>NaN</td>\n",
       "      <td>NaN</td>\n",
       "      <td>@abcnews RAIN Climate Change Update\\n\\nWeather...</td>\n",
       "    </tr>\n",
       "    <tr>\n",
       "      <th>3</th>\n",
       "      <td>New South Wales, Australia</td>\n",
       "      <td>NaN</td>\n",
       "      <td>NaN</td>\n",
       "      <td>RT @Tolouisehansen: I am an Australian. The Au...</td>\n",
       "    </tr>\n",
       "    <tr>\n",
       "      <th>4</th>\n",
       "      <td>NaN</td>\n",
       "      <td>NaN</td>\n",
       "      <td>NaN</td>\n",
       "      <td>RT @GretaThunberg: At the #ClimateAmbitionSumm...</td>\n",
       "    </tr>\n",
       "  </tbody>\n",
       "</table>\n",
       "</div>"
      ],
      "text/plain": [
       "                     location coordinates place  \\\n",
       "0               United States         NaN   NaN   \n",
       "1             somewhere, safe         NaN   NaN   \n",
       "2                         NSW         NaN   NaN   \n",
       "3  New South Wales, Australia         NaN   NaN   \n",
       "4                         NaN         NaN   NaN   \n",
       "\n",
       "                                                text  \n",
       "0  RT @LegendaryEnergy: Bill Gates &amp; Ted Turn...  \n",
       "1  RT @Lolade4PF: Jcole fans after a long day of ...  \n",
       "2  @abcnews RAIN Climate Change Update\\n\\nWeather...  \n",
       "3  RT @Tolouisehansen: I am an Australian. The Au...  \n",
       "4  RT @GretaThunberg: At the #ClimateAmbitionSumm...  "
      ]
     },
     "execution_count": 2,
     "metadata": {},
     "output_type": "execute_result"
    }
   ],
   "source": [
    "# Checking dataframe\n",
    "data.head()"
   ]
  },
  {
   "cell_type": "markdown",
   "metadata": {},
   "source": [
    "# Getting Tweet Locations"
   ]
  },
  {
   "cell_type": "markdown",
   "metadata": {},
   "source": [
    "Although tweepy does have location listed for each tweet scraped, most observations do not include a location value. Furthermore, even fewer observations have locations specified within the US. To simplify this step, observations were filtered by US state. Therefore, all subsequent graphing is done on a state-by-state basis."
   ]
  },
  {
   "cell_type": "code",
   "execution_count": 3,
   "metadata": {
    "ExecuteTime": {
     "end_time": "2020-12-29T21:13:54.457103Z",
     "start_time": "2020-12-29T21:13:54.449814Z"
    }
   },
   "outputs": [
    {
     "data": {
      "text/plain": [
       "['al', 'ak', 'az', 'ar', 'ca']"
      ]
     },
     "execution_count": 3,
     "metadata": {},
     "output_type": "execute_result"
    }
   ],
   "source": [
    "# Loading in list of states\n",
    "states_one = states_list()\n",
    "# Lowercase states list to match below\n",
    "states_one = lowercase(states_one)\n",
    "# Checking list\n",
    "states_one[:5]"
   ]
  },
  {
   "cell_type": "code",
   "execution_count": 4,
   "metadata": {
    "ExecuteTime": {
     "end_time": "2020-12-29T21:13:56.717099Z",
     "start_time": "2020-12-29T21:13:55.687585Z"
    }
   },
   "outputs": [
    {
     "data": {
      "text/html": [
       "<div>\n",
       "<style scoped>\n",
       "    .dataframe tbody tr th:only-of-type {\n",
       "        vertical-align: middle;\n",
       "    }\n",
       "\n",
       "    .dataframe tbody tr th {\n",
       "        vertical-align: top;\n",
       "    }\n",
       "\n",
       "    .dataframe thead th {\n",
       "        text-align: right;\n",
       "    }\n",
       "</style>\n",
       "<table border=\"1\" class=\"dataframe\">\n",
       "  <thead>\n",
       "    <tr style=\"text-align: right;\">\n",
       "      <th></th>\n",
       "      <th>location</th>\n",
       "      <th>coordinates</th>\n",
       "      <th>place</th>\n",
       "      <th>text</th>\n",
       "      <th>state</th>\n",
       "    </tr>\n",
       "  </thead>\n",
       "  <tbody>\n",
       "    <tr>\n",
       "      <th>6</th>\n",
       "      <td>[las, vegas,, nv]</td>\n",
       "      <td>NaN</td>\n",
       "      <td>NaN</td>\n",
       "      <td>RT @LegendaryEnergy: Bill Gates &amp;amp; Ted Turn...</td>\n",
       "      <td>nv</td>\n",
       "    </tr>\n",
       "    <tr>\n",
       "      <th>12</th>\n",
       "      <td>[memphis,, tn]</td>\n",
       "      <td>NaN</td>\n",
       "      <td>NaN</td>\n",
       "      <td>They have learned a new trick. Now every elect...</td>\n",
       "      <td>tn</td>\n",
       "    </tr>\n",
       "    <tr>\n",
       "      <th>14</th>\n",
       "      <td>[bay, area,, ca]</td>\n",
       "      <td>NaN</td>\n",
       "      <td>NaN</td>\n",
       "      <td>RT @PaulEDawson: “Our planet has a deadline. B...</td>\n",
       "      <td>ca</td>\n",
       "    </tr>\n",
       "    <tr>\n",
       "      <th>20</th>\n",
       "      <td>[boston,, ma]</td>\n",
       "      <td>NaN</td>\n",
       "      <td>NaN</td>\n",
       "      <td>What is climate change? https://t.co/doDxWP87DT</td>\n",
       "      <td>ma</td>\n",
       "    </tr>\n",
       "    <tr>\n",
       "      <th>28</th>\n",
       "      <td>[wheeling,, wv]</td>\n",
       "      <td>NaN</td>\n",
       "      <td>NaN</td>\n",
       "      <td>Biking in Pennsylvania, instead of guzzling ga...</td>\n",
       "      <td>wv</td>\n",
       "    </tr>\n",
       "  </tbody>\n",
       "</table>\n",
       "</div>"
      ],
      "text/plain": [
       "             location coordinates place  \\\n",
       "6   [las, vegas,, nv]         NaN   NaN   \n",
       "12     [memphis,, tn]         NaN   NaN   \n",
       "14   [bay, area,, ca]         NaN   NaN   \n",
       "20      [boston,, ma]         NaN   NaN   \n",
       "28    [wheeling,, wv]         NaN   NaN   \n",
       "\n",
       "                                                 text state  \n",
       "6   RT @LegendaryEnergy: Bill Gates &amp; Ted Turn...    nv  \n",
       "12  They have learned a new trick. Now every elect...    tn  \n",
       "14  RT @PaulEDawson: “Our planet has a deadline. B...    ca  \n",
       "20    What is climate change? https://t.co/doDxWP87DT    ma  \n",
       "28  Biking in Pennsylvania, instead of guzzling ga...    wv  "
      ]
     },
     "execution_count": 4,
     "metadata": {},
     "output_type": "execute_result"
    }
   ],
   "source": [
    "# Converting all location values to type str\n",
    "data.location = data.location.astype(str)\n",
    "# Split each location value to return location list for observations\n",
    "data.location = data.location.apply(lambda x: try_split(x))\n",
    "# Lowercase all elements in location values\n",
    "data.location = data.location.apply(lambda x: lowercase(x))\n",
    "# Creating new column that specifies US state or 'not' for not in US\n",
    "data['state'] = data.location.apply(lambda x: find_us(x))\n",
    "# Subset dataframe to remove observation outside the US\n",
    "data = data[data.state != 'not']\n",
    "# Remove 'not' from observations\n",
    "data.state = data.state.apply(lambda x: x.replace('not',''))\n",
    "# Take last state listed for observations that include multiple\n",
    "data.state = data.state.apply(lambda x: x[-2:] if len(x)>2 else x)\n",
    "# Checking dataframe\n",
    "data.head()"
   ]
  },
  {
   "cell_type": "markdown",
   "metadata": {},
   "source": [
    "# Classifying Location Tweets"
   ]
  },
  {
   "cell_type": "markdown",
   "metadata": {},
   "source": [
    "Using classifier to predict on data. Below is the process through which these predictions are made. The steps include: (1) Retraining TF-IDF vectorizer in order to transform new data; (2) Loading in model with pickle; (3) Cleaning and lemmitizing tweets; (4) Transforming new tweets with vectorizer that is fit in step 1; (5) Predict on tweet sentiment."
   ]
  },
  {
   "cell_type": "markdown",
   "metadata": {},
   "source": [
    "## Retrain TF-IDF"
   ]
  },
  {
   "cell_type": "code",
   "execution_count": 5,
   "metadata": {
    "ExecuteTime": {
     "end_time": "2020-12-29T21:13:59.714918Z",
     "start_time": "2020-12-29T21:13:59.029882Z"
    }
   },
   "outputs": [],
   "source": [
    "# Reading in data for TF-IDF training\n",
    "train_data = pd.read_csv('/Users/MichaelWirtz/Desktop/final_project/climate_change_sentiment/building_classifier/data/prepared_twitter_sentiment_data.csv')\n",
    "# Dropping 31 rows with missing message column\n",
    "train_data.dropna(inplace=True)\n",
    "# Instantiate vectorizer\n",
    "tfidf = TfidfVectorizer(ngram_range= (1,1))\n",
    "# Fit to training data\n",
    "tfidf.fit_transform(train_data.message);"
   ]
  },
  {
   "cell_type": "markdown",
   "metadata": {},
   "source": [
    "## Load Pickled Model"
   ]
  },
  {
   "cell_type": "code",
   "execution_count": 6,
   "metadata": {
    "ExecuteTime": {
     "end_time": "2020-12-29T21:14:01.228567Z",
     "start_time": "2020-12-29T21:14:01.215403Z"
    }
   },
   "outputs": [],
   "source": [
    "# Load in classifier\n",
    "model = pickle.load(open(\"/Users/MichaelWirtz/Desktop/final_project/climate_change_sentiment/building_classifier/best_model.pickle\", \"rb\" ))"
   ]
  },
  {
   "cell_type": "markdown",
   "metadata": {},
   "source": [
    "## Cleaning Tweets"
   ]
  },
  {
   "cell_type": "code",
   "execution_count": 7,
   "metadata": {
    "ExecuteTime": {
     "end_time": "2020-12-29T21:14:11.100398Z",
     "start_time": "2020-12-29T21:14:02.692779Z"
    }
   },
   "outputs": [
    {
     "data": {
      "text/html": [
       "<div>\n",
       "<style scoped>\n",
       "    .dataframe tbody tr th:only-of-type {\n",
       "        vertical-align: middle;\n",
       "    }\n",
       "\n",
       "    .dataframe tbody tr th {\n",
       "        vertical-align: top;\n",
       "    }\n",
       "\n",
       "    .dataframe thead th {\n",
       "        text-align: right;\n",
       "    }\n",
       "</style>\n",
       "<table border=\"1\" class=\"dataframe\">\n",
       "  <thead>\n",
       "    <tr style=\"text-align: right;\">\n",
       "      <th></th>\n",
       "      <th>location</th>\n",
       "      <th>coordinates</th>\n",
       "      <th>place</th>\n",
       "      <th>tweet</th>\n",
       "      <th>state</th>\n",
       "    </tr>\n",
       "  </thead>\n",
       "  <tbody>\n",
       "    <tr>\n",
       "      <th>0</th>\n",
       "      <td>[las, vegas,, nv]</td>\n",
       "      <td>NaN</td>\n",
       "      <td>NaN</td>\n",
       "      <td>bill gate amp ted turner think population grow...</td>\n",
       "      <td>nv</td>\n",
       "    </tr>\n",
       "    <tr>\n",
       "      <th>1</th>\n",
       "      <td>[memphis,, tn]</td>\n",
       "      <td>NaN</td>\n",
       "      <td>NaN</td>\n",
       "      <td>learned new trick every election year flu made...</td>\n",
       "      <td>tn</td>\n",
       "    </tr>\n",
       "    <tr>\n",
       "      <th>2</th>\n",
       "      <td>[bay, area,, ca]</td>\n",
       "      <td>NaN</td>\n",
       "      <td>NaN</td>\n",
       "      <td>planet deadline turn lifeline doomsday clock n...</td>\n",
       "      <td>ca</td>\n",
       "    </tr>\n",
       "    <tr>\n",
       "      <th>3</th>\n",
       "      <td>[boston,, ma]</td>\n",
       "      <td>NaN</td>\n",
       "      <td>NaN</td>\n",
       "      <td>climate change</td>\n",
       "      <td>ma</td>\n",
       "    </tr>\n",
       "    <tr>\n",
       "      <th>4</th>\n",
       "      <td>[wheeling,, wv]</td>\n",
       "      <td>NaN</td>\n",
       "      <td>NaN</td>\n",
       "      <td>biking pennsylvania instead guzzling gas car s...</td>\n",
       "      <td>wv</td>\n",
       "    </tr>\n",
       "  </tbody>\n",
       "</table>\n",
       "</div>"
      ],
      "text/plain": [
       "            location coordinates place  \\\n",
       "0  [las, vegas,, nv]         NaN   NaN   \n",
       "1     [memphis,, tn]         NaN   NaN   \n",
       "2   [bay, area,, ca]         NaN   NaN   \n",
       "3      [boston,, ma]         NaN   NaN   \n",
       "4    [wheeling,, wv]         NaN   NaN   \n",
       "\n",
       "                                               tweet state  \n",
       "0  bill gate amp ted turner think population grow...    nv  \n",
       "1  learned new trick every election year flu made...    tn  \n",
       "2  planet deadline turn lifeline doomsday clock n...    ca  \n",
       "3                                     climate change    ma  \n",
       "4  biking pennsylvania instead guzzling gas car s...    wv  "
      ]
     },
     "execution_count": 7,
     "metadata": {},
     "output_type": "execute_result"
    }
   ],
   "source": [
    "# rename text column to tweet to match functions \n",
    "data.rename(columns={'text':'tweet'}, inplace=True)\n",
    "# Convert each tweet observation to type str\n",
    "data.tweet = data.tweet.apply(lambda x: str(x))\n",
    "# Clean each tweet with function\n",
    "data.tweet = data.tweet.apply(lambda x: clean_tweet(x))\n",
    "# Reset index for dataframe merge\n",
    "data.reset_index(drop=True, inplace=True)\n",
    "# Lemmitizing tweets\n",
    "data.tweet = data.tweet.apply(lambda x: lemmatize_tweet(x))\n",
    "# Checking dataframe\n",
    "data.head()"
   ]
  },
  {
   "cell_type": "markdown",
   "metadata": {},
   "source": [
    "## Transforming Tweets"
   ]
  },
  {
   "cell_type": "code",
   "execution_count": 8,
   "metadata": {
    "ExecuteTime": {
     "end_time": "2020-12-29T21:14:44.066211Z",
     "start_time": "2020-12-29T21:14:43.365159Z"
    }
   },
   "outputs": [],
   "source": [
    "# Transform date data\n",
    "tfidf_loc = tfidf.transform(data.tweet)\n",
    "# Convert vectors to dataframe\n",
    "tfidf_loc_df = pd.DataFrame.sparse.from_spmatrix(\n",
    "    tfidf_loc, columns=tfidf.get_feature_names())"
   ]
  },
  {
   "cell_type": "markdown",
   "metadata": {},
   "source": [
    "## Predicting Sentiment"
   ]
  },
  {
   "cell_type": "code",
   "execution_count": 9,
   "metadata": {
    "ExecuteTime": {
     "end_time": "2020-12-29T21:14:50.831405Z",
     "start_time": "2020-12-29T21:14:50.129104Z"
    }
   },
   "outputs": [],
   "source": [
    "# Creating predictions for location tweets\n",
    "loc_preds = model.predict(tfidf_loc_df)"
   ]
  },
  {
   "cell_type": "markdown",
   "metadata": {},
   "source": [
    "# Formatting Data"
   ]
  },
  {
   "cell_type": "markdown",
   "metadata": {},
   "source": [
    "Here the dataframe is being formatted for graphing purposes. There are two necessary csv files to create here. First, because of the huge imabalance in state representation, a csv file is created to show the breakdown of observation across the US. Second, average sentiment per state is calculating and put into a csv to show the breakdown of climate change sentiment across the US.  "
   ]
  },
  {
   "cell_type": "code",
   "execution_count": 12,
   "metadata": {
    "ExecuteTime": {
     "end_time": "2020-12-29T21:17:10.519979Z",
     "start_time": "2020-12-29T21:17:10.443743Z"
    }
   },
   "outputs": [
    {
     "data": {
      "text/html": [
       "<div>\n",
       "<style scoped>\n",
       "    .dataframe tbody tr th:only-of-type {\n",
       "        vertical-align: middle;\n",
       "    }\n",
       "\n",
       "    .dataframe tbody tr th {\n",
       "        vertical-align: top;\n",
       "    }\n",
       "\n",
       "    .dataframe thead th {\n",
       "        text-align: right;\n",
       "    }\n",
       "</style>\n",
       "<table border=\"1\" class=\"dataframe\">\n",
       "  <thead>\n",
       "    <tr style=\"text-align: right;\">\n",
       "      <th></th>\n",
       "      <th>state</th>\n",
       "      <th>sentiment</th>\n",
       "    </tr>\n",
       "  </thead>\n",
       "  <tbody>\n",
       "    <tr>\n",
       "      <th>0</th>\n",
       "      <td>NV</td>\n",
       "      <td>0</td>\n",
       "    </tr>\n",
       "    <tr>\n",
       "      <th>1</th>\n",
       "      <td>TN</td>\n",
       "      <td>0</td>\n",
       "    </tr>\n",
       "    <tr>\n",
       "      <th>2</th>\n",
       "      <td>CA</td>\n",
       "      <td>1</td>\n",
       "    </tr>\n",
       "    <tr>\n",
       "      <th>3</th>\n",
       "      <td>MA</td>\n",
       "      <td>0</td>\n",
       "    </tr>\n",
       "    <tr>\n",
       "      <th>4</th>\n",
       "      <td>WV</td>\n",
       "      <td>0</td>\n",
       "    </tr>\n",
       "  </tbody>\n",
       "</table>\n",
       "</div>"
      ],
      "text/plain": [
       "  state  sentiment\n",
       "0    NV          0\n",
       "1    TN          0\n",
       "2    CA          1\n",
       "3    MA          0\n",
       "4    WV          0"
      ]
     },
     "execution_count": 12,
     "metadata": {},
     "output_type": "execute_result"
    }
   ],
   "source": [
    "# Creating dataframe from predictions\n",
    "loc_labels = pd.DataFrame(loc_preds)\n",
    "# Specifying a column name of sentiment for predictions column\n",
    "loc_labels.columns = ['sentiment']\n",
    "# Joining dataframes\n",
    "loc_data = data.join(loc_labels, how='outer')\n",
    "# Dropping columns that won't be used\n",
    "loc_data = loc_data.drop(columns=['tweet','location','coordinates','place'])\n",
    "# Making state abbreviations uppercase for folium\n",
    "loc_data.state = loc_data.state.apply(lambda x: x.upper())\n",
    "# Turning news sentiment into 0 value \n",
    "loc_data.sentiment = loc_data.sentiment.apply(lambda x: 0 if x == 2 else x)\n",
    "# Checking dataframe\n",
    "loc_data.head()"
   ]
  },
  {
   "cell_type": "markdown",
   "metadata": {},
   "source": [
    "## Observations Per State"
   ]
  },
  {
   "cell_type": "code",
   "execution_count": 15,
   "metadata": {
    "ExecuteTime": {
     "end_time": "2020-12-29T21:19:14.526124Z",
     "start_time": "2020-12-29T21:19:14.508220Z"
    }
   },
   "outputs": [
    {
     "data": {
      "text/html": [
       "<div>\n",
       "<style scoped>\n",
       "    .dataframe tbody tr th:only-of-type {\n",
       "        vertical-align: middle;\n",
       "    }\n",
       "\n",
       "    .dataframe tbody tr th {\n",
       "        vertical-align: top;\n",
       "    }\n",
       "\n",
       "    .dataframe thead th {\n",
       "        text-align: right;\n",
       "    }\n",
       "</style>\n",
       "<table border=\"1\" class=\"dataframe\">\n",
       "  <thead>\n",
       "    <tr style=\"text-align: right;\">\n",
       "      <th></th>\n",
       "      <th>state</th>\n",
       "      <th>num_observations</th>\n",
       "    </tr>\n",
       "  </thead>\n",
       "  <tbody>\n",
       "    <tr>\n",
       "      <th>0</th>\n",
       "      <td></td>\n",
       "      <td>43</td>\n",
       "    </tr>\n",
       "    <tr>\n",
       "      <th>1</th>\n",
       "      <td>AK</td>\n",
       "      <td>38</td>\n",
       "    </tr>\n",
       "    <tr>\n",
       "      <th>2</th>\n",
       "      <td>AL</td>\n",
       "      <td>85</td>\n",
       "    </tr>\n",
       "    <tr>\n",
       "      <th>3</th>\n",
       "      <td>AR</td>\n",
       "      <td>27</td>\n",
       "    </tr>\n",
       "    <tr>\n",
       "      <th>4</th>\n",
       "      <td>AZ</td>\n",
       "      <td>334</td>\n",
       "    </tr>\n",
       "  </tbody>\n",
       "</table>\n",
       "</div>"
      ],
      "text/plain": [
       "  state  num_observations\n",
       "0                      43\n",
       "1    AK                38\n",
       "2    AL                85\n",
       "3    AR                27\n",
       "4    AZ               334"
      ]
     },
     "execution_count": 15,
     "metadata": {},
     "output_type": "execute_result"
    }
   ],
   "source": [
    "# Getting number of observations for each state\n",
    "loc_number = loc_data.groupby('state').sum()\n",
    "# Resetting index\n",
    "loc_number.reset_index(inplace=True)\n",
    "# Renaming sentiment column to num_observations \n",
    "loc_number.rename(columns={'sentiment':'num_observations'}, inplace=True)\n",
    "# Checking dataframe\n",
    "loc_number.head()"
   ]
  },
  {
   "cell_type": "code",
   "execution_count": 17,
   "metadata": {
    "ExecuteTime": {
     "end_time": "2020-12-29T21:19:49.269319Z",
     "start_time": "2020-12-29T21:19:49.262615Z"
    }
   },
   "outputs": [],
   "source": [
    "# Saving dataframe as csv\n",
    "loc_number.to_csv('number_of_observations_per_state.csv')"
   ]
  },
  {
   "cell_type": "markdown",
   "metadata": {},
   "source": [
    "## Sentiment Per State"
   ]
  },
  {
   "cell_type": "code",
   "execution_count": 19,
   "metadata": {
    "ExecuteTime": {
     "end_time": "2020-12-29T21:20:03.676381Z",
     "start_time": "2020-12-29T21:20:03.661734Z"
    }
   },
   "outputs": [
    {
     "data": {
      "text/html": [
       "<div>\n",
       "<style scoped>\n",
       "    .dataframe tbody tr th:only-of-type {\n",
       "        vertical-align: middle;\n",
       "    }\n",
       "\n",
       "    .dataframe tbody tr th {\n",
       "        vertical-align: top;\n",
       "    }\n",
       "\n",
       "    .dataframe thead th {\n",
       "        text-align: right;\n",
       "    }\n",
       "</style>\n",
       "<table border=\"1\" class=\"dataframe\">\n",
       "  <thead>\n",
       "    <tr style=\"text-align: right;\">\n",
       "      <th></th>\n",
       "      <th>state</th>\n",
       "      <th>sentiment</th>\n",
       "    </tr>\n",
       "  </thead>\n",
       "  <tbody>\n",
       "    <tr>\n",
       "      <th>0</th>\n",
       "      <td></td>\n",
       "      <td>0.651515</td>\n",
       "    </tr>\n",
       "    <tr>\n",
       "      <th>1</th>\n",
       "      <td>AK</td>\n",
       "      <td>0.593750</td>\n",
       "    </tr>\n",
       "    <tr>\n",
       "      <th>2</th>\n",
       "      <td>AL</td>\n",
       "      <td>0.512048</td>\n",
       "    </tr>\n",
       "    <tr>\n",
       "      <th>3</th>\n",
       "      <td>AR</td>\n",
       "      <td>0.364865</td>\n",
       "    </tr>\n",
       "    <tr>\n",
       "      <th>4</th>\n",
       "      <td>AZ</td>\n",
       "      <td>0.518634</td>\n",
       "    </tr>\n",
       "  </tbody>\n",
       "</table>\n",
       "</div>"
      ],
      "text/plain": [
       "  state  sentiment\n",
       "0         0.651515\n",
       "1    AK   0.593750\n",
       "2    AL   0.512048\n",
       "3    AR   0.364865\n",
       "4    AZ   0.518634"
      ]
     },
     "execution_count": 19,
     "metadata": {},
     "output_type": "execute_result"
    }
   ],
   "source": [
    "# Creating dataframe for average sentiment\n",
    "state_sent = pd.DataFrame(loc_data.groupby('state')['sentiment'].mean())\n",
    "# Resetting index\n",
    "state_sent.reset_index(inplace=True)\n",
    "# Checking dataframe\n",
    "state_sent.head()"
   ]
  },
  {
   "cell_type": "code",
   "execution_count": 21,
   "metadata": {
    "ExecuteTime": {
     "end_time": "2020-12-29T21:20:24.585465Z",
     "start_time": "2020-12-29T21:20:24.579730Z"
    }
   },
   "outputs": [],
   "source": [
    "# Saving dataframe as csv\n",
    "state_sent.to_csv('average_sentiment_per_state.csv')"
   ]
  }
 ],
 "metadata": {
  "kernelspec": {
   "display_name": "learn-env",
   "language": "python",
   "name": "learn-env"
  },
  "language_info": {
   "codemirror_mode": {
    "name": "ipython",
    "version": 3
   },
   "file_extension": ".py",
   "mimetype": "text/x-python",
   "name": "python",
   "nbconvert_exporter": "python",
   "pygments_lexer": "ipython3",
   "version": "3.6.9"
  },
  "toc": {
   "base_numbering": 1,
   "nav_menu": {},
   "number_sections": true,
   "sideBar": true,
   "skip_h1_title": false,
   "title_cell": "Table of Contents",
   "title_sidebar": "Contents",
   "toc_cell": false,
   "toc_position": {},
   "toc_section_display": true,
   "toc_window_display": false
  },
  "varInspector": {
   "cols": {
    "lenName": 16,
    "lenType": 16,
    "lenVar": 40
   },
   "kernels_config": {
    "python": {
     "delete_cmd_postfix": "",
     "delete_cmd_prefix": "del ",
     "library": "var_list.py",
     "varRefreshCmd": "print(var_dic_list())"
    },
    "r": {
     "delete_cmd_postfix": ") ",
     "delete_cmd_prefix": "rm(",
     "library": "var_list.r",
     "varRefreshCmd": "cat(var_dic_list()) "
    }
   },
   "types_to_exclude": [
    "module",
    "function",
    "builtin_function_or_method",
    "instance",
    "_Feature"
   ],
   "window_display": false
  }
 },
 "nbformat": 4,
 "nbformat_minor": 4
}
